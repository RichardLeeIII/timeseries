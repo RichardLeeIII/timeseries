{
 "cells": [
  {
   "cell_type": "markdown",
   "metadata": {
    "colab_type": "text",
    "id": "view-in-github"
   },
   "source": [
    "<a href=\"https://colab.research.google.com/github/yukinaga/automl/blob/main/section_2/01_automl_regression.ipynb\" target=\"_parent\"><img src=\"https://colab.research.google.com/assets/colab-badge.svg\" alt=\"Open In Colab\"/></a>"
   ]
  },
  {
   "cell_type": "markdown",
   "metadata": {
    "id": "Gn9UO4-nl7OY"
   },
   "source": [
    "# AutoMLによる「回帰」\n",
    "ライブラリPyCaretを使い、AutoMLによる「回帰」の機械学習を実装します。  \n",
    "ダイヤモンドの様々な観測データから、その価格を予測します。  "
   ]
  },
  {
   "cell_type": "markdown",
   "metadata": {
    "id": "dsRDmh9BF3gJ"
   },
   "source": [
    "## PyCaretのインストール\n",
    "AutoMLをサポートするライブラリ、PyCaretをバージョンを指定してインストールします。"
   ]
  },
  {
   "cell_type": "code",
   "execution_count": null,
   "metadata": {
    "id": "SWdUoVOzhUst"
   },
   "outputs": [],
   "source": [
    "!pip install numpy==1.21.4 numba==0.53\n",
    "!pip install pycaret\n",
    "!pip install pandas-profiling==3.1.0"
   ]
  },
  {
   "cell_type": "markdown",
   "metadata": {
    "id": "gSx_i9YCGvGA"
   },
   "source": [
    "## Google Colabの設定\n",
    "Google Colab環境でPyCaretのインタラクティブな要素を表示するためには、以下のコードを実行する必要があります。"
   ]
  },
  {
   "cell_type": "code",
   "execution_count": null,
   "metadata": {
    "id": "KaJjoErYGyXc"
   },
   "outputs": [],
   "source": [
    "# from pycaret.utils import enable_colab\n",
    "\n",
    "# enable_colab()"
   ]
  },
  {
   "cell_type": "markdown",
   "metadata": {
    "id": "Tx8-9mRgGSUr"
   },
   "source": [
    "## データセットの読み込み\n",
    "今回は「Sarah Gets a Diamond」というデータセットを使います。  \n",
    "データセットには6000レコードが含まれています。  \n",
    "各カラムの簡単な説明は以下の通りです。\n",
    "\n",
    "* ID: 各ダイヤを識別するためのID\n",
    "* Carat Weight: ダイヤの重量\n",
    "* Cut: ダイヤモンドのカットを望ましい順に並べたもの（Signature-Ideal、Ideal、Very Good、Good、Fair)\n",
    "* Color: ダイヤモンドの色（D、E、Fは無色、G、H、Iは無色に近い）\n",
    "* Clarity: ダイヤモンドのクラリティ（F - Flawless、IF - Internally Flawless、VVS1またはVVS2 - Very, Very Slightly Included、VS1またはVS2 - Very Slightly Included、SI1 - Slightly Included）\n",
    "* Polish: ダイヤモンドの研磨状態（ID - Ideal、EX - Excellent、VG - Very Good、G - Good）\n",
    "* Symmetry: ダイヤモンドの対称性（ID - 理想的、EX - 優れている、VG - 非常に良い、G - 良い）\n",
    "* Report: 「 AGSL」または「GIA」のいずれかで、ダイヤの品質を報告した鑑定機関を示す\n",
    "* Price: ダイヤモンドの評価額（米ドル）\n",
    "\n",
    "https://www.kaggle.com/c/abafall2020/data"
   ]
  },
  {
   "cell_type": "code",
   "execution_count": 1,
   "metadata": {
    "id": "l64j5voyi8SM"
   },
   "outputs": [
    {
     "data": {
      "text/html": [
       "<div>\n",
       "<style scoped>\n",
       "    .dataframe tbody tr th:only-of-type {\n",
       "        vertical-align: middle;\n",
       "    }\n",
       "\n",
       "    .dataframe tbody tr th {\n",
       "        vertical-align: top;\n",
       "    }\n",
       "\n",
       "    .dataframe thead th {\n",
       "        text-align: right;\n",
       "    }\n",
       "</style>\n",
       "<table border=\"1\" class=\"dataframe\">\n",
       "  <thead>\n",
       "    <tr style=\"text-align: right;\">\n",
       "      <th></th>\n",
       "      <th>Carat Weight</th>\n",
       "      <th>Cut</th>\n",
       "      <th>Color</th>\n",
       "      <th>Clarity</th>\n",
       "      <th>Polish</th>\n",
       "      <th>Symmetry</th>\n",
       "      <th>Report</th>\n",
       "      <th>Price</th>\n",
       "    </tr>\n",
       "  </thead>\n",
       "  <tbody>\n",
       "    <tr>\n",
       "      <th>0</th>\n",
       "      <td>1.10</td>\n",
       "      <td>Ideal</td>\n",
       "      <td>H</td>\n",
       "      <td>SI1</td>\n",
       "      <td>VG</td>\n",
       "      <td>EX</td>\n",
       "      <td>GIA</td>\n",
       "      <td>5169</td>\n",
       "    </tr>\n",
       "    <tr>\n",
       "      <th>1</th>\n",
       "      <td>0.83</td>\n",
       "      <td>Ideal</td>\n",
       "      <td>H</td>\n",
       "      <td>VS1</td>\n",
       "      <td>ID</td>\n",
       "      <td>ID</td>\n",
       "      <td>AGSL</td>\n",
       "      <td>3470</td>\n",
       "    </tr>\n",
       "    <tr>\n",
       "      <th>2</th>\n",
       "      <td>0.85</td>\n",
       "      <td>Ideal</td>\n",
       "      <td>H</td>\n",
       "      <td>SI1</td>\n",
       "      <td>EX</td>\n",
       "      <td>EX</td>\n",
       "      <td>GIA</td>\n",
       "      <td>3183</td>\n",
       "    </tr>\n",
       "    <tr>\n",
       "      <th>3</th>\n",
       "      <td>0.91</td>\n",
       "      <td>Ideal</td>\n",
       "      <td>E</td>\n",
       "      <td>SI1</td>\n",
       "      <td>VG</td>\n",
       "      <td>VG</td>\n",
       "      <td>GIA</td>\n",
       "      <td>4370</td>\n",
       "    </tr>\n",
       "    <tr>\n",
       "      <th>4</th>\n",
       "      <td>0.83</td>\n",
       "      <td>Ideal</td>\n",
       "      <td>G</td>\n",
       "      <td>SI1</td>\n",
       "      <td>EX</td>\n",
       "      <td>EX</td>\n",
       "      <td>GIA</td>\n",
       "      <td>3171</td>\n",
       "    </tr>\n",
       "  </tbody>\n",
       "</table>\n",
       "</div>"
      ],
      "text/plain": [
       "   Carat Weight    Cut Color Clarity Polish Symmetry Report  Price\n",
       "0          1.10  Ideal     H     SI1     VG       EX    GIA   5169\n",
       "1          0.83  Ideal     H     VS1     ID       ID   AGSL   3470\n",
       "2          0.85  Ideal     H     SI1     EX       EX    GIA   3183\n",
       "3          0.91  Ideal     E     SI1     VG       VG    GIA   4370\n",
       "4          0.83  Ideal     G     SI1     EX       EX    GIA   3171"
      ]
     },
     "metadata": {},
     "output_type": "display_data"
    },
    {
     "data": {
      "text/plain": [
       "(6000, 8)"
      ]
     },
     "execution_count": 1,
     "metadata": {},
     "output_type": "execute_result"
    }
   ],
   "source": [
    "from pycaret.datasets import get_data\n",
    "\n",
    "dataset = get_data(\"diamond\")  # データの取得\n",
    "dataset.shape  # データの形状"
   ]
  },
  {
   "cell_type": "markdown",
   "metadata": {
    "id": "-ebOwjM1QEXV"
   },
   "source": [
    "訓練済みモデルの検証に用いる「未知のデータ」を訓練データから取り出します。  "
   ]
  },
  {
   "cell_type": "code",
   "execution_count": 2,
   "metadata": {
    "id": "mzxpY8eOGH-b"
   },
   "outputs": [
    {
     "name": "stdout",
     "output_type": "stream",
     "text": [
      "訓練データの形状: (5400, 8)\n",
      "未知のデータの形状: (600, 8)\n"
     ]
    }
   ],
   "source": [
    "data = dataset.sample(frac=0.9, random_state=786)  # 訓練データ\n",
    "data_unseen = dataset.drop(data.index)  # 未知のデータ\n",
    "\n",
    "data.reset_index(drop=True, inplace=True)  # インデックスを初期化\n",
    "data_unseen.reset_index(drop=True, inplace=True)  # インデックスを初期化\n",
    "\n",
    "print(\"訓練データの形状: \" + str(data.shape))\n",
    "print(\"未知のデータの形状: \" + str(data_unseen.shape))"
   ]
  },
  {
   "cell_type": "markdown",
   "metadata": {
    "id": "i7pCnlCKNYP3"
   },
   "source": [
    "## 環境の設定\n",
    "PyCaretの環境を設定します。  \n",
    "setup関数はPyCaretの環境を初期化しますが、PyCaretの他の関数を実行する前に呼び出す必要があります。  \n",
    "\n",
    "以下のコードを実行すると、setup関数が実行されてすべての特徴のデータ型が自動的に推定されます。  \n",
    "この際に、必ずしも正しく推論されるとは限らないことにご注意ください。     \n",
    "データの型に問題が無ければ、空白を入力することで設定を完了することができます。  "
   ]
  },
  {
   "cell_type": "code",
   "execution_count": 3,
   "metadata": {
    "id": "-O9MinyDnHpB"
   },
   "outputs": [
    {
     "data": {
      "text/html": [
       "<style type=\"text/css\">\n",
       "#T_63171_row9_col1 {\n",
       "  background-color: lightgreen;\n",
       "}\n",
       "</style>\n",
       "<table id=\"T_63171\">\n",
       "  <thead>\n",
       "    <tr>\n",
       "      <th class=\"blank level0\" >&nbsp;</th>\n",
       "      <th id=\"T_63171_level0_col0\" class=\"col_heading level0 col0\" >Description</th>\n",
       "      <th id=\"T_63171_level0_col1\" class=\"col_heading level0 col1\" >Value</th>\n",
       "    </tr>\n",
       "  </thead>\n",
       "  <tbody>\n",
       "    <tr>\n",
       "      <th id=\"T_63171_level0_row0\" class=\"row_heading level0 row0\" >0</th>\n",
       "      <td id=\"T_63171_row0_col0\" class=\"data row0 col0\" >Session id</td>\n",
       "      <td id=\"T_63171_row0_col1\" class=\"data row0 col1\" >123</td>\n",
       "    </tr>\n",
       "    <tr>\n",
       "      <th id=\"T_63171_level0_row1\" class=\"row_heading level0 row1\" >1</th>\n",
       "      <td id=\"T_63171_row1_col0\" class=\"data row1 col0\" >Target</td>\n",
       "      <td id=\"T_63171_row1_col1\" class=\"data row1 col1\" >Price</td>\n",
       "    </tr>\n",
       "    <tr>\n",
       "      <th id=\"T_63171_level0_row2\" class=\"row_heading level0 row2\" >2</th>\n",
       "      <td id=\"T_63171_row2_col0\" class=\"data row2 col0\" >Target type</td>\n",
       "      <td id=\"T_63171_row2_col1\" class=\"data row2 col1\" >Regression</td>\n",
       "    </tr>\n",
       "    <tr>\n",
       "      <th id=\"T_63171_level0_row3\" class=\"row_heading level0 row3\" >3</th>\n",
       "      <td id=\"T_63171_row3_col0\" class=\"data row3 col0\" >Original data shape</td>\n",
       "      <td id=\"T_63171_row3_col1\" class=\"data row3 col1\" >(5400, 8)</td>\n",
       "    </tr>\n",
       "    <tr>\n",
       "      <th id=\"T_63171_level0_row4\" class=\"row_heading level0 row4\" >4</th>\n",
       "      <td id=\"T_63171_row4_col0\" class=\"data row4 col0\" >Transformed data shape</td>\n",
       "      <td id=\"T_63171_row4_col1\" class=\"data row4 col1\" >(5400, 29)</td>\n",
       "    </tr>\n",
       "    <tr>\n",
       "      <th id=\"T_63171_level0_row5\" class=\"row_heading level0 row5\" >5</th>\n",
       "      <td id=\"T_63171_row5_col0\" class=\"data row5 col0\" >Transformed train set shape</td>\n",
       "      <td id=\"T_63171_row5_col1\" class=\"data row5 col1\" >(3779, 29)</td>\n",
       "    </tr>\n",
       "    <tr>\n",
       "      <th id=\"T_63171_level0_row6\" class=\"row_heading level0 row6\" >6</th>\n",
       "      <td id=\"T_63171_row6_col0\" class=\"data row6 col0\" >Transformed test set shape</td>\n",
       "      <td id=\"T_63171_row6_col1\" class=\"data row6 col1\" >(1621, 29)</td>\n",
       "    </tr>\n",
       "    <tr>\n",
       "      <th id=\"T_63171_level0_row7\" class=\"row_heading level0 row7\" >7</th>\n",
       "      <td id=\"T_63171_row7_col0\" class=\"data row7 col0\" >Numeric features</td>\n",
       "      <td id=\"T_63171_row7_col1\" class=\"data row7 col1\" >1</td>\n",
       "    </tr>\n",
       "    <tr>\n",
       "      <th id=\"T_63171_level0_row8\" class=\"row_heading level0 row8\" >8</th>\n",
       "      <td id=\"T_63171_row8_col0\" class=\"data row8 col0\" >Categorical features</td>\n",
       "      <td id=\"T_63171_row8_col1\" class=\"data row8 col1\" >6</td>\n",
       "    </tr>\n",
       "    <tr>\n",
       "      <th id=\"T_63171_level0_row9\" class=\"row_heading level0 row9\" >9</th>\n",
       "      <td id=\"T_63171_row9_col0\" class=\"data row9 col0\" >Preprocess</td>\n",
       "      <td id=\"T_63171_row9_col1\" class=\"data row9 col1\" >True</td>\n",
       "    </tr>\n",
       "    <tr>\n",
       "      <th id=\"T_63171_level0_row10\" class=\"row_heading level0 row10\" >10</th>\n",
       "      <td id=\"T_63171_row10_col0\" class=\"data row10 col0\" >Imputation type</td>\n",
       "      <td id=\"T_63171_row10_col1\" class=\"data row10 col1\" >simple</td>\n",
       "    </tr>\n",
       "    <tr>\n",
       "      <th id=\"T_63171_level0_row11\" class=\"row_heading level0 row11\" >11</th>\n",
       "      <td id=\"T_63171_row11_col0\" class=\"data row11 col0\" >Numeric imputation</td>\n",
       "      <td id=\"T_63171_row11_col1\" class=\"data row11 col1\" >mean</td>\n",
       "    </tr>\n",
       "    <tr>\n",
       "      <th id=\"T_63171_level0_row12\" class=\"row_heading level0 row12\" >12</th>\n",
       "      <td id=\"T_63171_row12_col0\" class=\"data row12 col0\" >Categorical imputation</td>\n",
       "      <td id=\"T_63171_row12_col1\" class=\"data row12 col1\" >mode</td>\n",
       "    </tr>\n",
       "    <tr>\n",
       "      <th id=\"T_63171_level0_row13\" class=\"row_heading level0 row13\" >13</th>\n",
       "      <td id=\"T_63171_row13_col0\" class=\"data row13 col0\" >Maximum one-hot encoding</td>\n",
       "      <td id=\"T_63171_row13_col1\" class=\"data row13 col1\" >25</td>\n",
       "    </tr>\n",
       "    <tr>\n",
       "      <th id=\"T_63171_level0_row14\" class=\"row_heading level0 row14\" >14</th>\n",
       "      <td id=\"T_63171_row14_col0\" class=\"data row14 col0\" >Encoding method</td>\n",
       "      <td id=\"T_63171_row14_col1\" class=\"data row14 col1\" >None</td>\n",
       "    </tr>\n",
       "    <tr>\n",
       "      <th id=\"T_63171_level0_row15\" class=\"row_heading level0 row15\" >15</th>\n",
       "      <td id=\"T_63171_row15_col0\" class=\"data row15 col0\" >Fold Generator</td>\n",
       "      <td id=\"T_63171_row15_col1\" class=\"data row15 col1\" >KFold</td>\n",
       "    </tr>\n",
       "    <tr>\n",
       "      <th id=\"T_63171_level0_row16\" class=\"row_heading level0 row16\" >16</th>\n",
       "      <td id=\"T_63171_row16_col0\" class=\"data row16 col0\" >Fold Number</td>\n",
       "      <td id=\"T_63171_row16_col1\" class=\"data row16 col1\" >10</td>\n",
       "    </tr>\n",
       "    <tr>\n",
       "      <th id=\"T_63171_level0_row17\" class=\"row_heading level0 row17\" >17</th>\n",
       "      <td id=\"T_63171_row17_col0\" class=\"data row17 col0\" >CPU Jobs</td>\n",
       "      <td id=\"T_63171_row17_col1\" class=\"data row17 col1\" >None</td>\n",
       "    </tr>\n",
       "    <tr>\n",
       "      <th id=\"T_63171_level0_row18\" class=\"row_heading level0 row18\" >18</th>\n",
       "      <td id=\"T_63171_row18_col0\" class=\"data row18 col0\" >Use GPU</td>\n",
       "      <td id=\"T_63171_row18_col1\" class=\"data row18 col1\" >False</td>\n",
       "    </tr>\n",
       "    <tr>\n",
       "      <th id=\"T_63171_level0_row19\" class=\"row_heading level0 row19\" >19</th>\n",
       "      <td id=\"T_63171_row19_col0\" class=\"data row19 col0\" >Log Experiment</td>\n",
       "      <td id=\"T_63171_row19_col1\" class=\"data row19 col1\" >False</td>\n",
       "    </tr>\n",
       "    <tr>\n",
       "      <th id=\"T_63171_level0_row20\" class=\"row_heading level0 row20\" >20</th>\n",
       "      <td id=\"T_63171_row20_col0\" class=\"data row20 col0\" >Experiment Name</td>\n",
       "      <td id=\"T_63171_row20_col1\" class=\"data row20 col1\" >reg-default-name</td>\n",
       "    </tr>\n",
       "    <tr>\n",
       "      <th id=\"T_63171_level0_row21\" class=\"row_heading level0 row21\" >21</th>\n",
       "      <td id=\"T_63171_row21_col0\" class=\"data row21 col0\" >USI</td>\n",
       "      <td id=\"T_63171_row21_col1\" class=\"data row21 col1\" >5c96</td>\n",
       "    </tr>\n",
       "  </tbody>\n",
       "</table>\n"
      ],
      "text/plain": [
       "<pandas.io.formats.style.Styler at 0x200072bf010>"
      ]
     },
     "metadata": {},
     "output_type": "display_data"
    }
   ],
   "source": [
    "from pycaret.regression import setup\n",
    "\n",
    "clf = setup(data=data, target=\"Price\", session_id=123, n_jobs=None)  # 環境の初期化"
   ]
  },
  {
   "cell_type": "markdown",
   "metadata": {
    "id": "NKQ1lZcXR4DL"
   },
   "source": [
    "## モデルの比較\n",
    "様々なモデルを比較して、性能を評価します。  \n",
    "compare_models関数は、ライブラリ内のすべてのモデルを使って訓練を行い、スコアを評価します。  "
   ]
  },
  {
   "cell_type": "code",
   "execution_count": 4,
   "metadata": {
    "id": "k9jV5GnCqRRG"
   },
   "outputs": [
    {
     "data": {
      "text/html": [],
      "text/plain": [
       "<IPython.core.display.HTML object>"
      ]
     },
     "metadata": {},
     "output_type": "display_data"
    },
    {
     "data": {
      "text/html": [
       "<style type=\"text/css\">\n",
       "#T_77e9c th {\n",
       "  text-align: left;\n",
       "}\n",
       "#T_77e9c_row0_col0, #T_77e9c_row1_col0, #T_77e9c_row1_col1, #T_77e9c_row1_col2, #T_77e9c_row1_col3, #T_77e9c_row1_col4, #T_77e9c_row1_col5, #T_77e9c_row1_col6, #T_77e9c_row2_col0, #T_77e9c_row2_col1, #T_77e9c_row2_col2, #T_77e9c_row2_col3, #T_77e9c_row2_col4, #T_77e9c_row2_col5, #T_77e9c_row2_col6, #T_77e9c_row3_col0, #T_77e9c_row3_col1, #T_77e9c_row3_col2, #T_77e9c_row3_col3, #T_77e9c_row3_col4, #T_77e9c_row3_col5, #T_77e9c_row3_col6, #T_77e9c_row4_col0, #T_77e9c_row4_col1, #T_77e9c_row4_col2, #T_77e9c_row4_col3, #T_77e9c_row4_col4, #T_77e9c_row4_col5, #T_77e9c_row4_col6, #T_77e9c_row5_col0, #T_77e9c_row5_col1, #T_77e9c_row5_col2, #T_77e9c_row5_col3, #T_77e9c_row5_col4, #T_77e9c_row5_col5, #T_77e9c_row5_col6, #T_77e9c_row6_col0, #T_77e9c_row6_col1, #T_77e9c_row6_col2, #T_77e9c_row6_col3, #T_77e9c_row6_col4, #T_77e9c_row6_col5, #T_77e9c_row6_col6, #T_77e9c_row7_col0, #T_77e9c_row7_col1, #T_77e9c_row7_col2, #T_77e9c_row7_col3, #T_77e9c_row7_col4, #T_77e9c_row7_col5, #T_77e9c_row7_col6, #T_77e9c_row8_col0, #T_77e9c_row8_col1, #T_77e9c_row8_col2, #T_77e9c_row8_col3, #T_77e9c_row8_col4, #T_77e9c_row8_col5, #T_77e9c_row8_col6, #T_77e9c_row9_col0, #T_77e9c_row9_col1, #T_77e9c_row9_col2, #T_77e9c_row9_col3, #T_77e9c_row9_col4, #T_77e9c_row9_col5, #T_77e9c_row9_col6, #T_77e9c_row10_col0, #T_77e9c_row10_col1, #T_77e9c_row10_col2, #T_77e9c_row10_col3, #T_77e9c_row10_col4, #T_77e9c_row10_col5, #T_77e9c_row10_col6, #T_77e9c_row11_col0, #T_77e9c_row11_col1, #T_77e9c_row11_col2, #T_77e9c_row11_col3, #T_77e9c_row11_col4, #T_77e9c_row11_col5, #T_77e9c_row11_col6, #T_77e9c_row12_col0, #T_77e9c_row12_col1, #T_77e9c_row12_col2, #T_77e9c_row12_col3, #T_77e9c_row12_col4, #T_77e9c_row12_col5, #T_77e9c_row12_col6, #T_77e9c_row13_col0, #T_77e9c_row13_col1, #T_77e9c_row13_col2, #T_77e9c_row13_col3, #T_77e9c_row13_col4, #T_77e9c_row13_col5, #T_77e9c_row13_col6, #T_77e9c_row14_col0, #T_77e9c_row14_col1, #T_77e9c_row14_col2, #T_77e9c_row14_col3, #T_77e9c_row14_col4, #T_77e9c_row14_col5, #T_77e9c_row14_col6, #T_77e9c_row15_col0, #T_77e9c_row15_col1, #T_77e9c_row15_col2, #T_77e9c_row15_col3, #T_77e9c_row15_col4, #T_77e9c_row15_col5, #T_77e9c_row15_col6, #T_77e9c_row16_col0, #T_77e9c_row16_col1, #T_77e9c_row16_col2, #T_77e9c_row16_col3, #T_77e9c_row16_col4, #T_77e9c_row16_col5, #T_77e9c_row16_col6, #T_77e9c_row17_col0, #T_77e9c_row17_col1, #T_77e9c_row17_col2, #T_77e9c_row17_col3, #T_77e9c_row17_col4, #T_77e9c_row17_col5, #T_77e9c_row17_col6, #T_77e9c_row18_col0, #T_77e9c_row18_col1, #T_77e9c_row18_col2, #T_77e9c_row18_col3, #T_77e9c_row18_col4, #T_77e9c_row18_col5, #T_77e9c_row18_col6 {\n",
       "  text-align: left;\n",
       "}\n",
       "#T_77e9c_row0_col1, #T_77e9c_row0_col2, #T_77e9c_row0_col3, #T_77e9c_row0_col4, #T_77e9c_row0_col5, #T_77e9c_row0_col6 {\n",
       "  text-align: left;\n",
       "  background-color: yellow;\n",
       "}\n",
       "#T_77e9c_row0_col7, #T_77e9c_row1_col7, #T_77e9c_row2_col7, #T_77e9c_row3_col7, #T_77e9c_row4_col7, #T_77e9c_row5_col7, #T_77e9c_row6_col7, #T_77e9c_row7_col7, #T_77e9c_row8_col7, #T_77e9c_row9_col7, #T_77e9c_row10_col7, #T_77e9c_row11_col7, #T_77e9c_row12_col7, #T_77e9c_row13_col7, #T_77e9c_row14_col7, #T_77e9c_row15_col7, #T_77e9c_row16_col7, #T_77e9c_row18_col7 {\n",
       "  text-align: left;\n",
       "  background-color: lightgrey;\n",
       "}\n",
       "#T_77e9c_row17_col7 {\n",
       "  text-align: left;\n",
       "  background-color: yellow;\n",
       "  background-color: lightgrey;\n",
       "}\n",
       "</style>\n",
       "<table id=\"T_77e9c\">\n",
       "  <thead>\n",
       "    <tr>\n",
       "      <th class=\"blank level0\" >&nbsp;</th>\n",
       "      <th id=\"T_77e9c_level0_col0\" class=\"col_heading level0 col0\" >Model</th>\n",
       "      <th id=\"T_77e9c_level0_col1\" class=\"col_heading level0 col1\" >MAE</th>\n",
       "      <th id=\"T_77e9c_level0_col2\" class=\"col_heading level0 col2\" >MSE</th>\n",
       "      <th id=\"T_77e9c_level0_col3\" class=\"col_heading level0 col3\" >RMSE</th>\n",
       "      <th id=\"T_77e9c_level0_col4\" class=\"col_heading level0 col4\" >R2</th>\n",
       "      <th id=\"T_77e9c_level0_col5\" class=\"col_heading level0 col5\" >RMSLE</th>\n",
       "      <th id=\"T_77e9c_level0_col6\" class=\"col_heading level0 col6\" >MAPE</th>\n",
       "      <th id=\"T_77e9c_level0_col7\" class=\"col_heading level0 col7\" >TT (Sec)</th>\n",
       "    </tr>\n",
       "  </thead>\n",
       "  <tbody>\n",
       "    <tr>\n",
       "      <th id=\"T_77e9c_level0_row0\" class=\"row_heading level0 row0\" >xgboost</th>\n",
       "      <td id=\"T_77e9c_row0_col0\" class=\"data row0 col0\" >Extreme Gradient Boosting</td>\n",
       "      <td id=\"T_77e9c_row0_col1\" class=\"data row0 col1\" >707.5494</td>\n",
       "      <td id=\"T_77e9c_row0_col2\" class=\"data row0 col2\" >2263259.7973</td>\n",
       "      <td id=\"T_77e9c_row0_col3\" class=\"data row0 col3\" >1465.1384</td>\n",
       "      <td id=\"T_77e9c_row0_col4\" class=\"data row0 col4\" >0.9781</td>\n",
       "      <td id=\"T_77e9c_row0_col5\" class=\"data row0 col5\" >0.0751</td>\n",
       "      <td id=\"T_77e9c_row0_col6\" class=\"data row0 col6\" >0.0548</td>\n",
       "      <td id=\"T_77e9c_row0_col7\" class=\"data row0 col7\" >0.6150</td>\n",
       "    </tr>\n",
       "    <tr>\n",
       "      <th id=\"T_77e9c_level0_row1\" class=\"row_heading level0 row1\" >et</th>\n",
       "      <td id=\"T_77e9c_row1_col0\" class=\"data row1 col0\" >Extra Trees Regressor</td>\n",
       "      <td id=\"T_77e9c_row1_col1\" class=\"data row1 col1\" >758.7793</td>\n",
       "      <td id=\"T_77e9c_row1_col2\" class=\"data row1 col2\" >2661557.6112</td>\n",
       "      <td id=\"T_77e9c_row1_col3\" class=\"data row1 col3\" >1584.1538</td>\n",
       "      <td id=\"T_77e9c_row1_col4\" class=\"data row1 col4\" >0.9743</td>\n",
       "      <td id=\"T_77e9c_row1_col5\" class=\"data row1 col5\" >0.0820</td>\n",
       "      <td id=\"T_77e9c_row1_col6\" class=\"data row1 col6\" >0.0608</td>\n",
       "      <td id=\"T_77e9c_row1_col7\" class=\"data row1 col7\" >2.0770</td>\n",
       "    </tr>\n",
       "    <tr>\n",
       "      <th id=\"T_77e9c_level0_row2\" class=\"row_heading level0 row2\" >rf</th>\n",
       "      <td id=\"T_77e9c_row2_col0\" class=\"data row2 col0\" >Random Forest Regressor</td>\n",
       "      <td id=\"T_77e9c_row2_col1\" class=\"data row2 col1\" >760.1499</td>\n",
       "      <td id=\"T_77e9c_row2_col2\" class=\"data row2 col2\" >2944058.4839</td>\n",
       "      <td id=\"T_77e9c_row2_col3\" class=\"data row2 col3\" >1663.3278</td>\n",
       "      <td id=\"T_77e9c_row2_col4\" class=\"data row2 col4\" >0.9714</td>\n",
       "      <td id=\"T_77e9c_row2_col5\" class=\"data row2 col5\" >0.0815</td>\n",
       "      <td id=\"T_77e9c_row2_col6\" class=\"data row2 col6\" >0.0596</td>\n",
       "      <td id=\"T_77e9c_row2_col7\" class=\"data row2 col7\" >2.0050</td>\n",
       "    </tr>\n",
       "    <tr>\n",
       "      <th id=\"T_77e9c_level0_row3\" class=\"row_heading level0 row3\" >lightgbm</th>\n",
       "      <td id=\"T_77e9c_row3_col0\" class=\"data row3 col0\" >Light Gradient Boosting Machine</td>\n",
       "      <td id=\"T_77e9c_row3_col1\" class=\"data row3 col1\" >752.6246</td>\n",
       "      <td id=\"T_77e9c_row3_col2\" class=\"data row3 col2\" >3056225.3710</td>\n",
       "      <td id=\"T_77e9c_row3_col3\" class=\"data row3 col3\" >1687.9572</td>\n",
       "      <td id=\"T_77e9c_row3_col4\" class=\"data row3 col4\" >0.9711</td>\n",
       "      <td id=\"T_77e9c_row3_col5\" class=\"data row3 col5\" >0.0773</td>\n",
       "      <td id=\"T_77e9c_row3_col6\" class=\"data row3 col6\" >0.0567</td>\n",
       "      <td id=\"T_77e9c_row3_col7\" class=\"data row3 col7\" >0.3010</td>\n",
       "    </tr>\n",
       "    <tr>\n",
       "      <th id=\"T_77e9c_level0_row4\" class=\"row_heading level0 row4\" >gbr</th>\n",
       "      <td id=\"T_77e9c_row4_col0\" class=\"data row4 col0\" >Gradient Boosting Regressor</td>\n",
       "      <td id=\"T_77e9c_row4_col1\" class=\"data row4 col1\" >919.8439</td>\n",
       "      <td id=\"T_77e9c_row4_col2\" class=\"data row4 col2\" >3757700.7801</td>\n",
       "      <td id=\"T_77e9c_row4_col3\" class=\"data row4 col3\" >1899.5914</td>\n",
       "      <td id=\"T_77e9c_row4_col4\" class=\"data row4 col4\" >0.9634</td>\n",
       "      <td id=\"T_77e9c_row4_col5\" class=\"data row4 col5\" >0.1024</td>\n",
       "      <td id=\"T_77e9c_row4_col6\" class=\"data row4 col6\" >0.0770</td>\n",
       "      <td id=\"T_77e9c_row4_col7\" class=\"data row4 col7\" >0.5930</td>\n",
       "    </tr>\n",
       "    <tr>\n",
       "      <th id=\"T_77e9c_level0_row5\" class=\"row_heading level0 row5\" >dt</th>\n",
       "      <td id=\"T_77e9c_row5_col0\" class=\"data row5 col0\" >Decision Tree Regressor</td>\n",
       "      <td id=\"T_77e9c_row5_col1\" class=\"data row5 col1\" >1011.9136</td>\n",
       "      <td id=\"T_77e9c_row5_col2\" class=\"data row5 col2\" >5382439.9624</td>\n",
       "      <td id=\"T_77e9c_row5_col3\" class=\"data row5 col3\" >2244.3755</td>\n",
       "      <td id=\"T_77e9c_row5_col4\" class=\"data row5 col4\" >0.9465</td>\n",
       "      <td id=\"T_77e9c_row5_col5\" class=\"data row5 col5\" >0.1082</td>\n",
       "      <td id=\"T_77e9c_row5_col6\" class=\"data row5 col6\" >0.0779</td>\n",
       "      <td id=\"T_77e9c_row5_col7\" class=\"data row5 col7\" >0.1970</td>\n",
       "    </tr>\n",
       "    <tr>\n",
       "      <th id=\"T_77e9c_level0_row6\" class=\"row_heading level0 row6\" >ridge</th>\n",
       "      <td id=\"T_77e9c_row6_col0\" class=\"data row6 col0\" >Ridge Regression</td>\n",
       "      <td id=\"T_77e9c_row6_col1\" class=\"data row6 col1\" >2413.5698</td>\n",
       "      <td id=\"T_77e9c_row6_col2\" class=\"data row6 col2\" >14120482.9350</td>\n",
       "      <td id=\"T_77e9c_row6_col3\" class=\"data row6 col3\" >3726.1631</td>\n",
       "      <td id=\"T_77e9c_row6_col4\" class=\"data row6 col4\" >0.8621</td>\n",
       "      <td id=\"T_77e9c_row6_col5\" class=\"data row6 col5\" >0.6689</td>\n",
       "      <td id=\"T_77e9c_row6_col6\" class=\"data row6 col6\" >0.2875</td>\n",
       "      <td id=\"T_77e9c_row6_col7\" class=\"data row6 col7\" >0.2760</td>\n",
       "    </tr>\n",
       "    <tr>\n",
       "      <th id=\"T_77e9c_level0_row7\" class=\"row_heading level0 row7\" >lasso</th>\n",
       "      <td id=\"T_77e9c_row7_col0\" class=\"data row7 col0\" >Lasso Regression</td>\n",
       "      <td id=\"T_77e9c_row7_col1\" class=\"data row7 col1\" >2412.1916</td>\n",
       "      <td id=\"T_77e9c_row7_col2\" class=\"data row7 col2\" >14246796.5754</td>\n",
       "      <td id=\"T_77e9c_row7_col3\" class=\"data row7 col3\" >3744.2300</td>\n",
       "      <td id=\"T_77e9c_row7_col4\" class=\"data row7 col4\" >0.8608</td>\n",
       "      <td id=\"T_77e9c_row7_col5\" class=\"data row7 col5\" >0.6767</td>\n",
       "      <td id=\"T_77e9c_row7_col6\" class=\"data row7 col6\" >0.2866</td>\n",
       "      <td id=\"T_77e9c_row7_col7\" class=\"data row7 col7\" >0.2260</td>\n",
       "    </tr>\n",
       "    <tr>\n",
       "      <th id=\"T_77e9c_level0_row8\" class=\"row_heading level0 row8\" >llar</th>\n",
       "      <td id=\"T_77e9c_row8_col0\" class=\"data row8 col0\" >Lasso Least Angle Regression</td>\n",
       "      <td id=\"T_77e9c_row8_col1\" class=\"data row8 col1\" >2412.2092</td>\n",
       "      <td id=\"T_77e9c_row8_col2\" class=\"data row8 col2\" >14246792.3690</td>\n",
       "      <td id=\"T_77e9c_row8_col3\" class=\"data row8 col3\" >3744.2301</td>\n",
       "      <td id=\"T_77e9c_row8_col4\" class=\"data row8 col4\" >0.8608</td>\n",
       "      <td id=\"T_77e9c_row8_col5\" class=\"data row8 col5\" >0.6759</td>\n",
       "      <td id=\"T_77e9c_row8_col6\" class=\"data row8 col6\" >0.2866</td>\n",
       "      <td id=\"T_77e9c_row8_col7\" class=\"data row8 col7\" >0.1980</td>\n",
       "    </tr>\n",
       "    <tr>\n",
       "      <th id=\"T_77e9c_level0_row9\" class=\"row_heading level0 row9\" >br</th>\n",
       "      <td id=\"T_77e9c_row9_col0\" class=\"data row9 col0\" >Bayesian Ridge</td>\n",
       "      <td id=\"T_77e9c_row9_col1\" class=\"data row9 col1\" >2415.8031</td>\n",
       "      <td id=\"T_77e9c_row9_col2\" class=\"data row9 col2\" >14270771.8397</td>\n",
       "      <td id=\"T_77e9c_row9_col3\" class=\"data row9 col3\" >3746.9951</td>\n",
       "      <td id=\"T_77e9c_row9_col4\" class=\"data row9 col4\" >0.8606</td>\n",
       "      <td id=\"T_77e9c_row9_col5\" class=\"data row9 col5\" >0.6696</td>\n",
       "      <td id=\"T_77e9c_row9_col6\" class=\"data row9 col6\" >0.2873</td>\n",
       "      <td id=\"T_77e9c_row9_col7\" class=\"data row9 col7\" >0.2060</td>\n",
       "    </tr>\n",
       "    <tr>\n",
       "      <th id=\"T_77e9c_level0_row10\" class=\"row_heading level0 row10\" >lr</th>\n",
       "      <td id=\"T_77e9c_row10_col0\" class=\"data row10 col0\" >Linear Regression</td>\n",
       "      <td id=\"T_77e9c_row10_col1\" class=\"data row10 col1\" >2416.5382</td>\n",
       "      <td id=\"T_77e9c_row10_col2\" class=\"data row10 col2\" >14253731.2043</td>\n",
       "      <td id=\"T_77e9c_row10_col3\" class=\"data row10 col3\" >3745.6179</td>\n",
       "      <td id=\"T_77e9c_row10_col4\" class=\"data row10 col4\" >0.8606</td>\n",
       "      <td id=\"T_77e9c_row10_col5\" class=\"data row10 col5\" >0.6726</td>\n",
       "      <td id=\"T_77e9c_row10_col6\" class=\"data row10 col6\" >0.2875</td>\n",
       "      <td id=\"T_77e9c_row10_col7\" class=\"data row10 col7\" >0.2040</td>\n",
       "    </tr>\n",
       "    <tr>\n",
       "      <th id=\"T_77e9c_level0_row11\" class=\"row_heading level0 row11\" >huber</th>\n",
       "      <td id=\"T_77e9c_row11_col0\" class=\"data row11 col0\" >Huber Regressor</td>\n",
       "      <td id=\"T_77e9c_row11_col1\" class=\"data row11 col1\" >1936.1482</td>\n",
       "      <td id=\"T_77e9c_row11_col2\" class=\"data row11 col2\" >18599210.5274</td>\n",
       "      <td id=\"T_77e9c_row11_col3\" class=\"data row11 col3\" >4252.8736</td>\n",
       "      <td id=\"T_77e9c_row11_col4\" class=\"data row11 col4\" >0.8209</td>\n",
       "      <td id=\"T_77e9c_row11_col5\" class=\"data row11 col5\" >0.4333</td>\n",
       "      <td id=\"T_77e9c_row11_col6\" class=\"data row11 col6\" >0.1657</td>\n",
       "      <td id=\"T_77e9c_row11_col7\" class=\"data row11 col7\" >0.3320</td>\n",
       "    </tr>\n",
       "    <tr>\n",
       "      <th id=\"T_77e9c_level0_row12\" class=\"row_heading level0 row12\" >par</th>\n",
       "      <td id=\"T_77e9c_row12_col0\" class=\"data row12 col0\" >Passive Aggressive Regressor</td>\n",
       "      <td id=\"T_77e9c_row12_col1\" class=\"data row12 col1\" >1944.1634</td>\n",
       "      <td id=\"T_77e9c_row12_col2\" class=\"data row12 col2\" >19955672.9330</td>\n",
       "      <td id=\"T_77e9c_row12_col3\" class=\"data row12 col3\" >4400.2133</td>\n",
       "      <td id=\"T_77e9c_row12_col4\" class=\"data row12 col4\" >0.8083</td>\n",
       "      <td id=\"T_77e9c_row12_col5\" class=\"data row12 col5\" >0.4317</td>\n",
       "      <td id=\"T_77e9c_row12_col6\" class=\"data row12 col6\" >0.1594</td>\n",
       "      <td id=\"T_77e9c_row12_col7\" class=\"data row12 col7\" >0.1760</td>\n",
       "    </tr>\n",
       "    <tr>\n",
       "      <th id=\"T_77e9c_level0_row13\" class=\"row_heading level0 row13\" >omp</th>\n",
       "      <td id=\"T_77e9c_row13_col0\" class=\"data row13 col0\" >Orthogonal Matching Pursuit</td>\n",
       "      <td id=\"T_77e9c_row13_col1\" class=\"data row13 col1\" >2776.8474</td>\n",
       "      <td id=\"T_77e9c_row13_col2\" class=\"data row13 col2\" >23551012.8387</td>\n",
       "      <td id=\"T_77e9c_row13_col3\" class=\"data row13 col3\" >4809.7983</td>\n",
       "      <td id=\"T_77e9c_row13_col4\" class=\"data row13 col4\" >0.7705</td>\n",
       "      <td id=\"T_77e9c_row13_col5\" class=\"data row13 col5\" >0.5370</td>\n",
       "      <td id=\"T_77e9c_row13_col6\" class=\"data row13 col6\" >0.2692</td>\n",
       "      <td id=\"T_77e9c_row13_col7\" class=\"data row13 col7\" >0.1760</td>\n",
       "    </tr>\n",
       "    <tr>\n",
       "      <th id=\"T_77e9c_level0_row14\" class=\"row_heading level0 row14\" >ada</th>\n",
       "      <td id=\"T_77e9c_row14_col0\" class=\"data row14 col0\" >AdaBoost Regressor</td>\n",
       "      <td id=\"T_77e9c_row14_col1\" class=\"data row14 col1\" >4219.4119</td>\n",
       "      <td id=\"T_77e9c_row14_col2\" class=\"data row14 col2\" >24991734.7401</td>\n",
       "      <td id=\"T_77e9c_row14_col3\" class=\"data row14 col3\" >4990.4210</td>\n",
       "      <td id=\"T_77e9c_row14_col4\" class=\"data row14 col4\" >0.7487</td>\n",
       "      <td id=\"T_77e9c_row14_col5\" class=\"data row14 col5\" >0.5125</td>\n",
       "      <td id=\"T_77e9c_row14_col6\" class=\"data row14 col6\" >0.6000</td>\n",
       "      <td id=\"T_77e9c_row14_col7\" class=\"data row14 col7\" >0.5050</td>\n",
       "    </tr>\n",
       "    <tr>\n",
       "      <th id=\"T_77e9c_level0_row15\" class=\"row_heading level0 row15\" >knn</th>\n",
       "      <td id=\"T_77e9c_row15_col0\" class=\"data row15 col0\" >K Neighbors Regressor</td>\n",
       "      <td id=\"T_77e9c_row15_col1\" class=\"data row15 col1\" >2977.2054</td>\n",
       "      <td id=\"T_77e9c_row15_col2\" class=\"data row15 col2\" >29804848.7132</td>\n",
       "      <td id=\"T_77e9c_row15_col3\" class=\"data row15 col3\" >5437.1143</td>\n",
       "      <td id=\"T_77e9c_row15_col4\" class=\"data row15 col4\" >0.7034</td>\n",
       "      <td id=\"T_77e9c_row15_col5\" class=\"data row15 col5\" >0.3665</td>\n",
       "      <td id=\"T_77e9c_row15_col6\" class=\"data row15 col6\" >0.2733</td>\n",
       "      <td id=\"T_77e9c_row15_col7\" class=\"data row15 col7\" >0.2870</td>\n",
       "    </tr>\n",
       "    <tr>\n",
       "      <th id=\"T_77e9c_level0_row16\" class=\"row_heading level0 row16\" >en</th>\n",
       "      <td id=\"T_77e9c_row16_col0\" class=\"data row16 col0\" >Elastic Net</td>\n",
       "      <td id=\"T_77e9c_row16_col1\" class=\"data row16 col1\" >5029.5926</td>\n",
       "      <td id=\"T_77e9c_row16_col2\" class=\"data row16 col2\" >56399825.0945</td>\n",
       "      <td id=\"T_77e9c_row16_col3\" class=\"data row16 col3\" >7467.6617</td>\n",
       "      <td id=\"T_77e9c_row16_col4\" class=\"data row16 col4\" >0.4472</td>\n",
       "      <td id=\"T_77e9c_row16_col5\" class=\"data row16 col5\" >0.5369</td>\n",
       "      <td id=\"T_77e9c_row16_col6\" class=\"data row16 col6\" >0.5845</td>\n",
       "      <td id=\"T_77e9c_row16_col7\" class=\"data row16 col7\" >0.2110</td>\n",
       "    </tr>\n",
       "    <tr>\n",
       "      <th id=\"T_77e9c_level0_row17\" class=\"row_heading level0 row17\" >dummy</th>\n",
       "      <td id=\"T_77e9c_row17_col0\" class=\"data row17 col0\" >Dummy Regressor</td>\n",
       "      <td id=\"T_77e9c_row17_col1\" class=\"data row17 col1\" >7280.3308</td>\n",
       "      <td id=\"T_77e9c_row17_col2\" class=\"data row17 col2\" >101221941.4046</td>\n",
       "      <td id=\"T_77e9c_row17_col3\" class=\"data row17 col3\" >10032.1624</td>\n",
       "      <td id=\"T_77e9c_row17_col4\" class=\"data row17 col4\" >-0.0014</td>\n",
       "      <td id=\"T_77e9c_row17_col5\" class=\"data row17 col5\" >0.7606</td>\n",
       "      <td id=\"T_77e9c_row17_col6\" class=\"data row17 col6\" >0.8969</td>\n",
       "      <td id=\"T_77e9c_row17_col7\" class=\"data row17 col7\" >0.1640</td>\n",
       "    </tr>\n",
       "    <tr>\n",
       "      <th id=\"T_77e9c_level0_row18\" class=\"row_heading level0 row18\" >lar</th>\n",
       "      <td id=\"T_77e9c_row18_col0\" class=\"data row18 col0\" >Least Angle Regression</td>\n",
       "      <td id=\"T_77e9c_row18_col1\" class=\"data row18 col1\" >3711281.6895</td>\n",
       "      <td id=\"T_77e9c_row18_col2\" class=\"data row18 col2\" >3065013804166155.0000</td>\n",
       "      <td id=\"T_77e9c_row18_col3\" class=\"data row18 col3\" >17534140.7246</td>\n",
       "      <td id=\"T_77e9c_row18_col4\" class=\"data row18 col4\" >-38228840.1035</td>\n",
       "      <td id=\"T_77e9c_row18_col5\" class=\"data row18 col5\" >1.8645</td>\n",
       "      <td id=\"T_77e9c_row18_col6\" class=\"data row18 col6\" >615.1129</td>\n",
       "      <td id=\"T_77e9c_row18_col7\" class=\"data row18 col7\" >0.2200</td>\n",
       "    </tr>\n",
       "  </tbody>\n",
       "</table>\n"
      ],
      "text/plain": [
       "<pandas.io.formats.style.Styler at 0x20007509ba0>"
      ]
     },
     "metadata": {},
     "output_type": "display_data"
    },
    {
     "data": {
      "application/vnd.jupyter.widget-view+json": {
       "model_id": "",
       "version_major": 2,
       "version_minor": 0
      },
      "text/plain": [
       "Processing:   0%|          | 0/81 [00:00<?, ?it/s]"
      ]
     },
     "metadata": {},
     "output_type": "display_data"
    }
   ],
   "source": [
    "from pycaret.regression import compare_models\n",
    "\n",
    "best_model = compare_models()  # 全てのモデルを訓練し、評価する"
   ]
  },
  {
   "cell_type": "markdown",
   "metadata": {
    "id": "rUU9fK_EUUsH"
   },
   "source": [
    "わずか1行のコードで、15以上の機械学習モデルを訓練し、評価することができました。  \n",
    "  \n",
    "最もスコアの良いモデルの概要を表示します。\n"
   ]
  },
  {
   "cell_type": "code",
   "execution_count": 5,
   "metadata": {
    "id": "pZunyfB_rPHb"
   },
   "outputs": [
    {
     "name": "stdout",
     "output_type": "stream",
     "text": [
      "XGBRegressor(base_score=None, booster='gbtree', callbacks=None,\n",
      "             colsample_bylevel=None, colsample_bynode=None,\n",
      "             colsample_bytree=None, device='cpu', early_stopping_rounds=None,\n",
      "             enable_categorical=False, eval_metric=None, feature_types=None,\n",
      "             gamma=None, grow_policy=None, importance_type=None,\n",
      "             interaction_constraints=None, learning_rate=None, max_bin=None,\n",
      "             max_cat_threshold=None, max_cat_to_onehot=None,\n",
      "             max_delta_step=None, max_depth=None, max_leaves=None,\n",
      "             min_child_weight=None, missing=nan, monotone_constraints=None,\n",
      "             multi_strategy=None, n_estimators=None, n_jobs=None,\n",
      "             num_parallel_tree=None, random_state=123, ...)\n"
     ]
    }
   ],
   "source": [
    "print(best_model)"
   ]
  },
  {
   "cell_type": "markdown",
   "metadata": {
    "id": "Zs8pBaGfVYyU"
   },
   "source": [
    "## モデルの作成\n",
    "models関数により、全ての使用可能な機械学習モデルを確認することができます。"
   ]
  },
  {
   "cell_type": "code",
   "execution_count": 6,
   "metadata": {
    "id": "0aDJmjKdugo-"
   },
   "outputs": [
    {
     "data": {
      "text/html": [
       "<div>\n",
       "<style scoped>\n",
       "    .dataframe tbody tr th:only-of-type {\n",
       "        vertical-align: middle;\n",
       "    }\n",
       "\n",
       "    .dataframe tbody tr th {\n",
       "        vertical-align: top;\n",
       "    }\n",
       "\n",
       "    .dataframe thead th {\n",
       "        text-align: right;\n",
       "    }\n",
       "</style>\n",
       "<table border=\"1\" class=\"dataframe\">\n",
       "  <thead>\n",
       "    <tr style=\"text-align: right;\">\n",
       "      <th></th>\n",
       "      <th>Name</th>\n",
       "      <th>Reference</th>\n",
       "      <th>Turbo</th>\n",
       "    </tr>\n",
       "    <tr>\n",
       "      <th>ID</th>\n",
       "      <th></th>\n",
       "      <th></th>\n",
       "      <th></th>\n",
       "    </tr>\n",
       "  </thead>\n",
       "  <tbody>\n",
       "    <tr>\n",
       "      <th>lr</th>\n",
       "      <td>Linear Regression</td>\n",
       "      <td>sklearn.linear_model._base.LinearRegression</td>\n",
       "      <td>True</td>\n",
       "    </tr>\n",
       "    <tr>\n",
       "      <th>lasso</th>\n",
       "      <td>Lasso Regression</td>\n",
       "      <td>sklearn.linear_model._coordinate_descent.Lasso</td>\n",
       "      <td>True</td>\n",
       "    </tr>\n",
       "    <tr>\n",
       "      <th>ridge</th>\n",
       "      <td>Ridge Regression</td>\n",
       "      <td>sklearn.linear_model._ridge.Ridge</td>\n",
       "      <td>True</td>\n",
       "    </tr>\n",
       "    <tr>\n",
       "      <th>en</th>\n",
       "      <td>Elastic Net</td>\n",
       "      <td>sklearn.linear_model._coordinate_descent.Elast...</td>\n",
       "      <td>True</td>\n",
       "    </tr>\n",
       "    <tr>\n",
       "      <th>lar</th>\n",
       "      <td>Least Angle Regression</td>\n",
       "      <td>sklearn.linear_model._least_angle.Lars</td>\n",
       "      <td>True</td>\n",
       "    </tr>\n",
       "    <tr>\n",
       "      <th>llar</th>\n",
       "      <td>Lasso Least Angle Regression</td>\n",
       "      <td>sklearn.linear_model._least_angle.LassoLars</td>\n",
       "      <td>True</td>\n",
       "    </tr>\n",
       "    <tr>\n",
       "      <th>omp</th>\n",
       "      <td>Orthogonal Matching Pursuit</td>\n",
       "      <td>sklearn.linear_model._omp.OrthogonalMatchingPu...</td>\n",
       "      <td>True</td>\n",
       "    </tr>\n",
       "    <tr>\n",
       "      <th>br</th>\n",
       "      <td>Bayesian Ridge</td>\n",
       "      <td>sklearn.linear_model._bayes.BayesianRidge</td>\n",
       "      <td>True</td>\n",
       "    </tr>\n",
       "    <tr>\n",
       "      <th>ard</th>\n",
       "      <td>Automatic Relevance Determination</td>\n",
       "      <td>sklearn.linear_model._bayes.ARDRegression</td>\n",
       "      <td>False</td>\n",
       "    </tr>\n",
       "    <tr>\n",
       "      <th>par</th>\n",
       "      <td>Passive Aggressive Regressor</td>\n",
       "      <td>sklearn.linear_model._passive_aggressive.Passi...</td>\n",
       "      <td>True</td>\n",
       "    </tr>\n",
       "    <tr>\n",
       "      <th>ransac</th>\n",
       "      <td>Random Sample Consensus</td>\n",
       "      <td>sklearn.linear_model._ransac.RANSACRegressor</td>\n",
       "      <td>False</td>\n",
       "    </tr>\n",
       "    <tr>\n",
       "      <th>tr</th>\n",
       "      <td>TheilSen Regressor</td>\n",
       "      <td>sklearn.linear_model._theil_sen.TheilSenRegressor</td>\n",
       "      <td>False</td>\n",
       "    </tr>\n",
       "    <tr>\n",
       "      <th>huber</th>\n",
       "      <td>Huber Regressor</td>\n",
       "      <td>sklearn.linear_model._huber.HuberRegressor</td>\n",
       "      <td>True</td>\n",
       "    </tr>\n",
       "    <tr>\n",
       "      <th>kr</th>\n",
       "      <td>Kernel Ridge</td>\n",
       "      <td>sklearn.kernel_ridge.KernelRidge</td>\n",
       "      <td>False</td>\n",
       "    </tr>\n",
       "    <tr>\n",
       "      <th>svm</th>\n",
       "      <td>Support Vector Regression</td>\n",
       "      <td>sklearn.svm._classes.SVR</td>\n",
       "      <td>False</td>\n",
       "    </tr>\n",
       "    <tr>\n",
       "      <th>knn</th>\n",
       "      <td>K Neighbors Regressor</td>\n",
       "      <td>sklearn.neighbors._regression.KNeighborsRegressor</td>\n",
       "      <td>True</td>\n",
       "    </tr>\n",
       "    <tr>\n",
       "      <th>dt</th>\n",
       "      <td>Decision Tree Regressor</td>\n",
       "      <td>sklearn.tree._classes.DecisionTreeRegressor</td>\n",
       "      <td>True</td>\n",
       "    </tr>\n",
       "    <tr>\n",
       "      <th>rf</th>\n",
       "      <td>Random Forest Regressor</td>\n",
       "      <td>sklearn.ensemble._forest.RandomForestRegressor</td>\n",
       "      <td>True</td>\n",
       "    </tr>\n",
       "    <tr>\n",
       "      <th>et</th>\n",
       "      <td>Extra Trees Regressor</td>\n",
       "      <td>sklearn.ensemble._forest.ExtraTreesRegressor</td>\n",
       "      <td>True</td>\n",
       "    </tr>\n",
       "    <tr>\n",
       "      <th>ada</th>\n",
       "      <td>AdaBoost Regressor</td>\n",
       "      <td>sklearn.ensemble._weight_boosting.AdaBoostRegr...</td>\n",
       "      <td>True</td>\n",
       "    </tr>\n",
       "    <tr>\n",
       "      <th>gbr</th>\n",
       "      <td>Gradient Boosting Regressor</td>\n",
       "      <td>sklearn.ensemble._gb.GradientBoostingRegressor</td>\n",
       "      <td>True</td>\n",
       "    </tr>\n",
       "    <tr>\n",
       "      <th>mlp</th>\n",
       "      <td>MLP Regressor</td>\n",
       "      <td>sklearn.neural_network._multilayer_perceptron....</td>\n",
       "      <td>False</td>\n",
       "    </tr>\n",
       "    <tr>\n",
       "      <th>xgboost</th>\n",
       "      <td>Extreme Gradient Boosting</td>\n",
       "      <td>xgboost.sklearn.XGBRegressor</td>\n",
       "      <td>True</td>\n",
       "    </tr>\n",
       "    <tr>\n",
       "      <th>lightgbm</th>\n",
       "      <td>Light Gradient Boosting Machine</td>\n",
       "      <td>lightgbm.sklearn.LGBMRegressor</td>\n",
       "      <td>True</td>\n",
       "    </tr>\n",
       "    <tr>\n",
       "      <th>dummy</th>\n",
       "      <td>Dummy Regressor</td>\n",
       "      <td>sklearn.dummy.DummyRegressor</td>\n",
       "      <td>True</td>\n",
       "    </tr>\n",
       "  </tbody>\n",
       "</table>\n",
       "</div>"
      ],
      "text/plain": [
       "                                       Name  \\\n",
       "ID                                            \n",
       "lr                        Linear Regression   \n",
       "lasso                      Lasso Regression   \n",
       "ridge                      Ridge Regression   \n",
       "en                              Elastic Net   \n",
       "lar                  Least Angle Regression   \n",
       "llar           Lasso Least Angle Regression   \n",
       "omp             Orthogonal Matching Pursuit   \n",
       "br                           Bayesian Ridge   \n",
       "ard       Automatic Relevance Determination   \n",
       "par            Passive Aggressive Regressor   \n",
       "ransac              Random Sample Consensus   \n",
       "tr                       TheilSen Regressor   \n",
       "huber                       Huber Regressor   \n",
       "kr                             Kernel Ridge   \n",
       "svm               Support Vector Regression   \n",
       "knn                   K Neighbors Regressor   \n",
       "dt                  Decision Tree Regressor   \n",
       "rf                  Random Forest Regressor   \n",
       "et                    Extra Trees Regressor   \n",
       "ada                      AdaBoost Regressor   \n",
       "gbr             Gradient Boosting Regressor   \n",
       "mlp                           MLP Regressor   \n",
       "xgboost           Extreme Gradient Boosting   \n",
       "lightgbm    Light Gradient Boosting Machine   \n",
       "dummy                       Dummy Regressor   \n",
       "\n",
       "                                                  Reference  Turbo  \n",
       "ID                                                                  \n",
       "lr              sklearn.linear_model._base.LinearRegression   True  \n",
       "lasso        sklearn.linear_model._coordinate_descent.Lasso   True  \n",
       "ridge                     sklearn.linear_model._ridge.Ridge   True  \n",
       "en        sklearn.linear_model._coordinate_descent.Elast...   True  \n",
       "lar                  sklearn.linear_model._least_angle.Lars   True  \n",
       "llar            sklearn.linear_model._least_angle.LassoLars   True  \n",
       "omp       sklearn.linear_model._omp.OrthogonalMatchingPu...   True  \n",
       "br                sklearn.linear_model._bayes.BayesianRidge   True  \n",
       "ard               sklearn.linear_model._bayes.ARDRegression  False  \n",
       "par       sklearn.linear_model._passive_aggressive.Passi...   True  \n",
       "ransac         sklearn.linear_model._ransac.RANSACRegressor  False  \n",
       "tr        sklearn.linear_model._theil_sen.TheilSenRegressor  False  \n",
       "huber            sklearn.linear_model._huber.HuberRegressor   True  \n",
       "kr                         sklearn.kernel_ridge.KernelRidge  False  \n",
       "svm                                sklearn.svm._classes.SVR  False  \n",
       "knn       sklearn.neighbors._regression.KNeighborsRegressor   True  \n",
       "dt              sklearn.tree._classes.DecisionTreeRegressor   True  \n",
       "rf           sklearn.ensemble._forest.RandomForestRegressor   True  \n",
       "et             sklearn.ensemble._forest.ExtraTreesRegressor   True  \n",
       "ada       sklearn.ensemble._weight_boosting.AdaBoostRegr...   True  \n",
       "gbr          sklearn.ensemble._gb.GradientBoostingRegressor   True  \n",
       "mlp       sklearn.neural_network._multilayer_perceptron....  False  \n",
       "xgboost                        xgboost.sklearn.XGBRegressor   True  \n",
       "lightgbm                     lightgbm.sklearn.LGBMRegressor   True  \n",
       "dummy                          sklearn.dummy.DummyRegressor   True  "
      ]
     },
     "execution_count": 6,
     "metadata": {},
     "output_type": "execute_result"
    }
   ],
   "source": [
    "from pycaret.regression import models\n",
    "\n",
    "models()  # 機械学習モデルの一覧"
   ]
  },
  {
   "cell_type": "markdown",
   "metadata": {
    "id": "olciFZKWW43-"
   },
   "source": [
    "create_model関数は、「交差検証」を用いて個別のモデルの訓練と評価を行います。  \n",
    "デフォルトでは、データを10に分割し10通りのテストデータ/訓練データの組み合わせを試します。     \n",
    "  \n",
    "今回は、上記の中で最もシンプルな「線形回帰」のモデルを作成します。  "
   ]
  },
  {
   "cell_type": "code",
   "execution_count": 7,
   "metadata": {
    "id": "k8MIUL7Trf9h"
   },
   "outputs": [
    {
     "data": {
      "text/html": [],
      "text/plain": [
       "<IPython.core.display.HTML object>"
      ]
     },
     "metadata": {},
     "output_type": "display_data"
    },
    {
     "data": {
      "text/html": [
       "<style type=\"text/css\">\n",
       "#T_15981_row10_col0, #T_15981_row10_col1, #T_15981_row10_col2, #T_15981_row10_col3, #T_15981_row10_col4, #T_15981_row10_col5 {\n",
       "  background: yellow;\n",
       "}\n",
       "</style>\n",
       "<table id=\"T_15981\">\n",
       "  <thead>\n",
       "    <tr>\n",
       "      <th class=\"blank level0\" >&nbsp;</th>\n",
       "      <th id=\"T_15981_level0_col0\" class=\"col_heading level0 col0\" >MAE</th>\n",
       "      <th id=\"T_15981_level0_col1\" class=\"col_heading level0 col1\" >MSE</th>\n",
       "      <th id=\"T_15981_level0_col2\" class=\"col_heading level0 col2\" >RMSE</th>\n",
       "      <th id=\"T_15981_level0_col3\" class=\"col_heading level0 col3\" >R2</th>\n",
       "      <th id=\"T_15981_level0_col4\" class=\"col_heading level0 col4\" >RMSLE</th>\n",
       "      <th id=\"T_15981_level0_col5\" class=\"col_heading level0 col5\" >MAPE</th>\n",
       "    </tr>\n",
       "    <tr>\n",
       "      <th class=\"index_name level0\" >Fold</th>\n",
       "      <th class=\"blank col0\" >&nbsp;</th>\n",
       "      <th class=\"blank col1\" >&nbsp;</th>\n",
       "      <th class=\"blank col2\" >&nbsp;</th>\n",
       "      <th class=\"blank col3\" >&nbsp;</th>\n",
       "      <th class=\"blank col4\" >&nbsp;</th>\n",
       "      <th class=\"blank col5\" >&nbsp;</th>\n",
       "    </tr>\n",
       "  </thead>\n",
       "  <tbody>\n",
       "    <tr>\n",
       "      <th id=\"T_15981_level0_row0\" class=\"row_heading level0 row0\" >0</th>\n",
       "      <td id=\"T_15981_row0_col0\" class=\"data row0 col0\" >2380.1095</td>\n",
       "      <td id=\"T_15981_row0_col1\" class=\"data row0 col1\" >12257488.6759</td>\n",
       "      <td id=\"T_15981_row0_col2\" class=\"data row0 col2\" >3501.0696</td>\n",
       "      <td id=\"T_15981_row0_col3\" class=\"data row0 col3\" >0.8654</td>\n",
       "      <td id=\"T_15981_row0_col4\" class=\"data row0 col4\" >0.4712</td>\n",
       "      <td id=\"T_15981_row0_col5\" class=\"data row0 col5\" >0.2593</td>\n",
       "    </tr>\n",
       "    <tr>\n",
       "      <th id=\"T_15981_level0_row1\" class=\"row_heading level0 row1\" >1</th>\n",
       "      <td id=\"T_15981_row1_col0\" class=\"data row1 col0\" >2605.2116</td>\n",
       "      <td id=\"T_15981_row1_col1\" class=\"data row1 col1\" >23346197.4603</td>\n",
       "      <td id=\"T_15981_row1_col2\" class=\"data row1 col2\" >4831.7903</td>\n",
       "      <td id=\"T_15981_row1_col3\" class=\"data row1 col3\" >0.8211</td>\n",
       "      <td id=\"T_15981_row1_col4\" class=\"data row1 col4\" >0.5565</td>\n",
       "      <td id=\"T_15981_row1_col5\" class=\"data row1 col5\" >0.2913</td>\n",
       "    </tr>\n",
       "    <tr>\n",
       "      <th id=\"T_15981_level0_row2\" class=\"row_heading level0 row2\" >2</th>\n",
       "      <td id=\"T_15981_row2_col0\" class=\"data row2 col0\" >2438.9672</td>\n",
       "      <td id=\"T_15981_row2_col1\" class=\"data row2 col1\" >16137061.9291</td>\n",
       "      <td id=\"T_15981_row2_col2\" class=\"data row2 col2\" >4017.0962</td>\n",
       "      <td id=\"T_15981_row2_col3\" class=\"data row2 col3\" >0.8520</td>\n",
       "      <td id=\"T_15981_row2_col4\" class=\"data row2 col4\" >0.6569</td>\n",
       "      <td id=\"T_15981_row2_col5\" class=\"data row2 col5\" >0.2963</td>\n",
       "    </tr>\n",
       "    <tr>\n",
       "      <th id=\"T_15981_level0_row3\" class=\"row_heading level0 row3\" >3</th>\n",
       "      <td id=\"T_15981_row3_col0\" class=\"data row3 col0\" >2327.7226</td>\n",
       "      <td id=\"T_15981_row3_col1\" class=\"data row3 col1\" >10696169.9498</td>\n",
       "      <td id=\"T_15981_row3_col2\" class=\"data row3 col2\" >3270.5000</td>\n",
       "      <td id=\"T_15981_row3_col3\" class=\"data row3 col3\" >0.8820</td>\n",
       "      <td id=\"T_15981_row3_col4\" class=\"data row3 col4\" >0.7797</td>\n",
       "      <td id=\"T_15981_row3_col5\" class=\"data row3 col5\" >0.2744</td>\n",
       "    </tr>\n",
       "    <tr>\n",
       "      <th id=\"T_15981_level0_row4\" class=\"row_heading level0 row4\" >4</th>\n",
       "      <td id=\"T_15981_row4_col0\" class=\"data row4 col0\" >2468.1958</td>\n",
       "      <td id=\"T_15981_row4_col1\" class=\"data row4 col1\" >10222038.1323</td>\n",
       "      <td id=\"T_15981_row4_col2\" class=\"data row4 col2\" >3197.1922</td>\n",
       "      <td id=\"T_15981_row4_col3\" class=\"data row4 col3\" >0.8725</td>\n",
       "      <td id=\"T_15981_row4_col4\" class=\"data row4 col4\" >0.6378</td>\n",
       "      <td id=\"T_15981_row4_col5\" class=\"data row4 col5\" >0.3381</td>\n",
       "    </tr>\n",
       "    <tr>\n",
       "      <th id=\"T_15981_level0_row5\" class=\"row_heading level0 row5\" >5</th>\n",
       "      <td id=\"T_15981_row5_col0\" class=\"data row5 col0\" >2456.1984</td>\n",
       "      <td id=\"T_15981_row5_col1\" class=\"data row5 col1\" >16845730.8175</td>\n",
       "      <td id=\"T_15981_row5_col2\" class=\"data row5 col2\" >4104.3551</td>\n",
       "      <td id=\"T_15981_row5_col3\" class=\"data row5 col3\" >0.8562</td>\n",
       "      <td id=\"T_15981_row5_col4\" class=\"data row5 col4\" >0.6773</td>\n",
       "      <td id=\"T_15981_row5_col5\" class=\"data row5 col5\" >0.2842</td>\n",
       "    </tr>\n",
       "    <tr>\n",
       "      <th id=\"T_15981_level0_row6\" class=\"row_heading level0 row6\" >6</th>\n",
       "      <td id=\"T_15981_row6_col0\" class=\"data row6 col0\" >2277.6679</td>\n",
       "      <td id=\"T_15981_row6_col1\" class=\"data row6 col1\" >12717889.1370</td>\n",
       "      <td id=\"T_15981_row6_col2\" class=\"data row6 col2\" >3566.2150</td>\n",
       "      <td id=\"T_15981_row6_col3\" class=\"data row6 col3\" >0.8805</td>\n",
       "      <td id=\"T_15981_row6_col4\" class=\"data row6 col4\" >0.6736</td>\n",
       "      <td id=\"T_15981_row6_col5\" class=\"data row6 col5\" >0.2640</td>\n",
       "    </tr>\n",
       "    <tr>\n",
       "      <th id=\"T_15981_level0_row7\" class=\"row_heading level0 row7\" >7</th>\n",
       "      <td id=\"T_15981_row7_col0\" class=\"data row7 col0\" >2385.0397</td>\n",
       "      <td id=\"T_15981_row7_col1\" class=\"data row7 col1\" >11485923.4312</td>\n",
       "      <td id=\"T_15981_row7_col2\" class=\"data row7 col2\" >3389.0889</td>\n",
       "      <td id=\"T_15981_row7_col3\" class=\"data row7 col3\" >0.8547</td>\n",
       "      <td id=\"T_15981_row7_col4\" class=\"data row7 col4\" >0.6811</td>\n",
       "      <td id=\"T_15981_row7_col5\" class=\"data row7 col5\" >0.2938</td>\n",
       "    </tr>\n",
       "    <tr>\n",
       "      <th id=\"T_15981_level0_row8\" class=\"row_heading level0 row8\" >8</th>\n",
       "      <td id=\"T_15981_row8_col0\" class=\"data row8 col0\" >2380.5104</td>\n",
       "      <td id=\"T_15981_row8_col1\" class=\"data row8 col1\" >12643776.9543</td>\n",
       "      <td id=\"T_15981_row8_col2\" class=\"data row8 col2\" >3555.8089</td>\n",
       "      <td id=\"T_15981_row8_col3\" class=\"data row8 col3\" >0.8758</td>\n",
       "      <td id=\"T_15981_row8_col4\" class=\"data row8 col4\" >0.7549</td>\n",
       "      <td id=\"T_15981_row8_col5\" class=\"data row8 col5\" >0.2742</td>\n",
       "    </tr>\n",
       "    <tr>\n",
       "      <th id=\"T_15981_level0_row9\" class=\"row_heading level0 row9\" >9</th>\n",
       "      <td id=\"T_15981_row9_col0\" class=\"data row9 col0\" >2445.7594</td>\n",
       "      <td id=\"T_15981_row9_col1\" class=\"data row9 col1\" >16185035.5553</td>\n",
       "      <td id=\"T_15981_row9_col2\" class=\"data row9 col2\" >4023.0630</td>\n",
       "      <td id=\"T_15981_row9_col3\" class=\"data row9 col3\" >0.8459</td>\n",
       "      <td id=\"T_15981_row9_col4\" class=\"data row9 col4\" >0.8371</td>\n",
       "      <td id=\"T_15981_row9_col5\" class=\"data row9 col5\" >0.2989</td>\n",
       "    </tr>\n",
       "    <tr>\n",
       "      <th id=\"T_15981_level0_row10\" class=\"row_heading level0 row10\" >Mean</th>\n",
       "      <td id=\"T_15981_row10_col0\" class=\"data row10 col0\" >2416.5382</td>\n",
       "      <td id=\"T_15981_row10_col1\" class=\"data row10 col1\" >14253731.2043</td>\n",
       "      <td id=\"T_15981_row10_col2\" class=\"data row10 col2\" >3745.6179</td>\n",
       "      <td id=\"T_15981_row10_col3\" class=\"data row10 col3\" >0.8606</td>\n",
       "      <td id=\"T_15981_row10_col4\" class=\"data row10 col4\" >0.6726</td>\n",
       "      <td id=\"T_15981_row10_col5\" class=\"data row10 col5\" >0.2875</td>\n",
       "    </tr>\n",
       "    <tr>\n",
       "      <th id=\"T_15981_level0_row11\" class=\"row_heading level0 row11\" >Std</th>\n",
       "      <td id=\"T_15981_row11_col0\" class=\"data row11 col0\" >84.8448</td>\n",
       "      <td id=\"T_15981_row11_col1\" class=\"data row11 col1\" >3770617.6480</td>\n",
       "      <td id=\"T_15981_row11_col2\" class=\"data row11 col2\" >473.3684</td>\n",
       "      <td id=\"T_15981_row11_col3\" class=\"data row11 col3\" >0.0178</td>\n",
       "      <td id=\"T_15981_row11_col4\" class=\"data row11 col4\" >0.1005</td>\n",
       "      <td id=\"T_15981_row11_col5\" class=\"data row11 col5\" >0.0213</td>\n",
       "    </tr>\n",
       "  </tbody>\n",
       "</table>\n"
      ],
      "text/plain": [
       "<pandas.io.formats.style.Styler at 0x200071fa290>"
      ]
     },
     "metadata": {},
     "output_type": "display_data"
    },
    {
     "data": {
      "application/vnd.jupyter.widget-view+json": {
       "model_id": "",
       "version_major": 2,
       "version_minor": 0
      },
      "text/plain": [
       "Processing:   0%|          | 0/4 [00:00<?, ?it/s]"
      ]
     },
     "metadata": {},
     "output_type": "display_data"
    }
   ],
   "source": [
    "from pycaret.regression import create_model\n",
    "\n",
    "lr = create_model(\"lr\")  # 線形回帰のモデルを作成"
   ]
  },
  {
   "cell_type": "markdown",
   "metadata": {
    "id": "fNNUb1KzaXOL"
   },
   "source": [
    "訓練済みモデルの概要を表示します。  "
   ]
  },
  {
   "cell_type": "code",
   "execution_count": 8,
   "metadata": {
    "id": "zAZau_D8uEMA"
   },
   "outputs": [
    {
     "name": "stdout",
     "output_type": "stream",
     "text": [
      "LinearRegression()\n"
     ]
    }
   ],
   "source": [
    "print(lr)"
   ]
  },
  {
   "cell_type": "markdown",
   "metadata": {
    "id": "1oT1Z_CDXpb1"
   },
   "source": [
    "各ハイパーパラメータの意味は、scikit-learnの公式ドキュメントに解説があります。  \n",
    "https://scikit-learn.org/stable/modules/generated/sklearn.linear_model.LinearRegression.html"
   ]
  },
  {
   "cell_type": "markdown",
   "metadata": {
    "id": "NZV2jYKyaxeM"
   },
   "source": [
    "## ハイパーパラメータの調整\n",
    "create_model関数は、デフォルトのハイパーパラメータを使ってモデルを訓練します。  \n",
    "ハイパーパラメータを調整するためには、tune_model関数を使用します。  "
   ]
  },
  {
   "cell_type": "code",
   "execution_count": 9,
   "metadata": {
    "id": "kRyIUO6Yvc-B"
   },
   "outputs": [
    {
     "data": {
      "text/html": [],
      "text/plain": [
       "<IPython.core.display.HTML object>"
      ]
     },
     "metadata": {},
     "output_type": "display_data"
    },
    {
     "data": {
      "text/html": [
       "<style type=\"text/css\">\n",
       "#T_994a2_row10_col0, #T_994a2_row10_col1, #T_994a2_row10_col2, #T_994a2_row10_col3, #T_994a2_row10_col4, #T_994a2_row10_col5 {\n",
       "  background: yellow;\n",
       "}\n",
       "</style>\n",
       "<table id=\"T_994a2\">\n",
       "  <thead>\n",
       "    <tr>\n",
       "      <th class=\"blank level0\" >&nbsp;</th>\n",
       "      <th id=\"T_994a2_level0_col0\" class=\"col_heading level0 col0\" >MAE</th>\n",
       "      <th id=\"T_994a2_level0_col1\" class=\"col_heading level0 col1\" >MSE</th>\n",
       "      <th id=\"T_994a2_level0_col2\" class=\"col_heading level0 col2\" >RMSE</th>\n",
       "      <th id=\"T_994a2_level0_col3\" class=\"col_heading level0 col3\" >R2</th>\n",
       "      <th id=\"T_994a2_level0_col4\" class=\"col_heading level0 col4\" >RMSLE</th>\n",
       "      <th id=\"T_994a2_level0_col5\" class=\"col_heading level0 col5\" >MAPE</th>\n",
       "    </tr>\n",
       "    <tr>\n",
       "      <th class=\"index_name level0\" >Fold</th>\n",
       "      <th class=\"blank col0\" >&nbsp;</th>\n",
       "      <th class=\"blank col1\" >&nbsp;</th>\n",
       "      <th class=\"blank col2\" >&nbsp;</th>\n",
       "      <th class=\"blank col3\" >&nbsp;</th>\n",
       "      <th class=\"blank col4\" >&nbsp;</th>\n",
       "      <th class=\"blank col5\" >&nbsp;</th>\n",
       "    </tr>\n",
       "  </thead>\n",
       "  <tbody>\n",
       "    <tr>\n",
       "      <th id=\"T_994a2_level0_row0\" class=\"row_heading level0 row0\" >0</th>\n",
       "      <td id=\"T_994a2_row0_col0\" class=\"data row0 col0\" >2380.1095</td>\n",
       "      <td id=\"T_994a2_row0_col1\" class=\"data row0 col1\" >12257488.6759</td>\n",
       "      <td id=\"T_994a2_row0_col2\" class=\"data row0 col2\" >3501.0696</td>\n",
       "      <td id=\"T_994a2_row0_col3\" class=\"data row0 col3\" >0.8654</td>\n",
       "      <td id=\"T_994a2_row0_col4\" class=\"data row0 col4\" >0.4712</td>\n",
       "      <td id=\"T_994a2_row0_col5\" class=\"data row0 col5\" >0.2593</td>\n",
       "    </tr>\n",
       "    <tr>\n",
       "      <th id=\"T_994a2_level0_row1\" class=\"row_heading level0 row1\" >1</th>\n",
       "      <td id=\"T_994a2_row1_col0\" class=\"data row1 col0\" >2600.1907</td>\n",
       "      <td id=\"T_994a2_row1_col1\" class=\"data row1 col1\" >23326719.0525</td>\n",
       "      <td id=\"T_994a2_row1_col2\" class=\"data row1 col2\" >4829.7742</td>\n",
       "      <td id=\"T_994a2_row1_col3\" class=\"data row1 col3\" >0.8212</td>\n",
       "      <td id=\"T_994a2_row1_col4\" class=\"data row1 col4\" >0.5635</td>\n",
       "      <td id=\"T_994a2_row1_col5\" class=\"data row1 col5\" >0.2916</td>\n",
       "    </tr>\n",
       "    <tr>\n",
       "      <th id=\"T_994a2_level0_row2\" class=\"row_heading level0 row2\" >2</th>\n",
       "      <td id=\"T_994a2_row2_col0\" class=\"data row2 col0\" >2438.9672</td>\n",
       "      <td id=\"T_994a2_row2_col1\" class=\"data row2 col1\" >16137061.9291</td>\n",
       "      <td id=\"T_994a2_row2_col2\" class=\"data row2 col2\" >4017.0962</td>\n",
       "      <td id=\"T_994a2_row2_col3\" class=\"data row2 col3\" >0.8520</td>\n",
       "      <td id=\"T_994a2_row2_col4\" class=\"data row2 col4\" >0.6569</td>\n",
       "      <td id=\"T_994a2_row2_col5\" class=\"data row2 col5\" >0.2963</td>\n",
       "    </tr>\n",
       "    <tr>\n",
       "      <th id=\"T_994a2_level0_row3\" class=\"row_heading level0 row3\" >3</th>\n",
       "      <td id=\"T_994a2_row3_col0\" class=\"data row3 col0\" >2327.7226</td>\n",
       "      <td id=\"T_994a2_row3_col1\" class=\"data row3 col1\" >10696169.9498</td>\n",
       "      <td id=\"T_994a2_row3_col2\" class=\"data row3 col2\" >3270.5000</td>\n",
       "      <td id=\"T_994a2_row3_col3\" class=\"data row3 col3\" >0.8820</td>\n",
       "      <td id=\"T_994a2_row3_col4\" class=\"data row3 col4\" >0.7797</td>\n",
       "      <td id=\"T_994a2_row3_col5\" class=\"data row3 col5\" >0.2744</td>\n",
       "    </tr>\n",
       "    <tr>\n",
       "      <th id=\"T_994a2_level0_row4\" class=\"row_heading level0 row4\" >4</th>\n",
       "      <td id=\"T_994a2_row4_col0\" class=\"data row4 col0\" >2455.6426</td>\n",
       "      <td id=\"T_994a2_row4_col1\" class=\"data row4 col1\" >10184575.6748</td>\n",
       "      <td id=\"T_994a2_row4_col2\" class=\"data row4 col2\" >3191.3282</td>\n",
       "      <td id=\"T_994a2_row4_col3\" class=\"data row4 col3\" >0.8730</td>\n",
       "      <td id=\"T_994a2_row4_col4\" class=\"data row4 col4\" >0.6320</td>\n",
       "      <td id=\"T_994a2_row4_col5\" class=\"data row4 col5\" >0.3353</td>\n",
       "    </tr>\n",
       "    <tr>\n",
       "      <th id=\"T_994a2_level0_row5\" class=\"row_heading level0 row5\" >5</th>\n",
       "      <td id=\"T_994a2_row5_col0\" class=\"data row5 col0\" >2455.1986</td>\n",
       "      <td id=\"T_994a2_row5_col1\" class=\"data row5 col1\" >16825054.5646</td>\n",
       "      <td id=\"T_994a2_row5_col2\" class=\"data row5 col2\" >4101.8355</td>\n",
       "      <td id=\"T_994a2_row5_col3\" class=\"data row5 col3\" >0.8564</td>\n",
       "      <td id=\"T_994a2_row5_col4\" class=\"data row5 col4\" >0.6213</td>\n",
       "      <td id=\"T_994a2_row5_col5\" class=\"data row5 col5\" >0.2840</td>\n",
       "    </tr>\n",
       "    <tr>\n",
       "      <th id=\"T_994a2_level0_row6\" class=\"row_heading level0 row6\" >6</th>\n",
       "      <td id=\"T_994a2_row6_col0\" class=\"data row6 col0\" >2277.6679</td>\n",
       "      <td id=\"T_994a2_row6_col1\" class=\"data row6 col1\" >12717889.1370</td>\n",
       "      <td id=\"T_994a2_row6_col2\" class=\"data row6 col2\" >3566.2150</td>\n",
       "      <td id=\"T_994a2_row6_col3\" class=\"data row6 col3\" >0.8805</td>\n",
       "      <td id=\"T_994a2_row6_col4\" class=\"data row6 col4\" >0.6736</td>\n",
       "      <td id=\"T_994a2_row6_col5\" class=\"data row6 col5\" >0.2640</td>\n",
       "    </tr>\n",
       "    <tr>\n",
       "      <th id=\"T_994a2_level0_row7\" class=\"row_heading level0 row7\" >7</th>\n",
       "      <td id=\"T_994a2_row7_col0\" class=\"data row7 col0\" >2382.6416</td>\n",
       "      <td id=\"T_994a2_row7_col1\" class=\"data row7 col1\" >11467436.2578</td>\n",
       "      <td id=\"T_994a2_row7_col2\" class=\"data row7 col2\" >3386.3603</td>\n",
       "      <td id=\"T_994a2_row7_col3\" class=\"data row7 col3\" >0.8550</td>\n",
       "      <td id=\"T_994a2_row7_col4\" class=\"data row7 col4\" >0.6893</td>\n",
       "      <td id=\"T_994a2_row7_col5\" class=\"data row7 col5\" >0.2931</td>\n",
       "    </tr>\n",
       "    <tr>\n",
       "      <th id=\"T_994a2_level0_row8\" class=\"row_heading level0 row8\" >8</th>\n",
       "      <td id=\"T_994a2_row8_col0\" class=\"data row8 col0\" >2380.5104</td>\n",
       "      <td id=\"T_994a2_row8_col1\" class=\"data row8 col1\" >12643776.9543</td>\n",
       "      <td id=\"T_994a2_row8_col2\" class=\"data row8 col2\" >3555.8089</td>\n",
       "      <td id=\"T_994a2_row8_col3\" class=\"data row8 col3\" >0.8758</td>\n",
       "      <td id=\"T_994a2_row8_col4\" class=\"data row8 col4\" >0.7549</td>\n",
       "      <td id=\"T_994a2_row8_col5\" class=\"data row8 col5\" >0.2742</td>\n",
       "    </tr>\n",
       "    <tr>\n",
       "      <th id=\"T_994a2_level0_row9\" class=\"row_heading level0 row9\" >9</th>\n",
       "      <td id=\"T_994a2_row9_col0\" class=\"data row9 col0\" >2445.7594</td>\n",
       "      <td id=\"T_994a2_row9_col1\" class=\"data row9 col1\" >16185035.5553</td>\n",
       "      <td id=\"T_994a2_row9_col2\" class=\"data row9 col2\" >4023.0630</td>\n",
       "      <td id=\"T_994a2_row9_col3\" class=\"data row9 col3\" >0.8459</td>\n",
       "      <td id=\"T_994a2_row9_col4\" class=\"data row9 col4\" >0.8371</td>\n",
       "      <td id=\"T_994a2_row9_col5\" class=\"data row9 col5\" >0.2989</td>\n",
       "    </tr>\n",
       "    <tr>\n",
       "      <th id=\"T_994a2_level0_row10\" class=\"row_heading level0 row10\" >Mean</th>\n",
       "      <td id=\"T_994a2_row10_col0\" class=\"data row10 col0\" >2414.4411</td>\n",
       "      <td id=\"T_994a2_row10_col1\" class=\"data row10 col1\" >14244120.7751</td>\n",
       "      <td id=\"T_994a2_row10_col2\" class=\"data row10 col2\" >3744.3051</td>\n",
       "      <td id=\"T_994a2_row10_col3\" class=\"data row10 col3\" >0.8607</td>\n",
       "      <td id=\"T_994a2_row10_col4\" class=\"data row10 col4\" >0.6680</td>\n",
       "      <td id=\"T_994a2_row10_col5\" class=\"data row10 col5\" >0.2871</td>\n",
       "    </tr>\n",
       "    <tr>\n",
       "      <th id=\"T_994a2_level0_row11\" class=\"row_heading level0 row11\" >Std</th>\n",
       "      <td id=\"T_994a2_row11_col0\" class=\"data row11 col0\" >83.0736</td>\n",
       "      <td id=\"T_994a2_row11_col1\" class=\"data row11 col1\" >3769883.4987</td>\n",
       "      <td id=\"T_994a2_row11_col2\" class=\"data row11 col2\" >473.6034</td>\n",
       "      <td id=\"T_994a2_row11_col3\" class=\"data row11 col3\" >0.0178</td>\n",
       "      <td id=\"T_994a2_row11_col4\" class=\"data row11 col4\" >0.1012</td>\n",
       "      <td id=\"T_994a2_row11_col5\" class=\"data row11 col5\" >0.0206</td>\n",
       "    </tr>\n",
       "  </tbody>\n",
       "</table>\n"
      ],
      "text/plain": [
       "<pandas.io.formats.style.Styler at 0x2007fd0b7c0>"
      ]
     },
     "metadata": {},
     "output_type": "display_data"
    },
    {
     "data": {
      "application/vnd.jupyter.widget-view+json": {
       "model_id": "",
       "version_major": 2,
       "version_minor": 0
      },
      "text/plain": [
       "Processing:   0%|          | 0/7 [00:00<?, ?it/s]"
      ]
     },
     "metadata": {},
     "output_type": "display_data"
    },
    {
     "name": "stdout",
     "output_type": "stream",
     "text": [
      "Fitting 10 folds for each of 2 candidates, totalling 20 fits\n"
     ]
    }
   ],
   "source": [
    "from pycaret.regression import tune_model\n",
    "\n",
    "tuned_lr = tune_model(lr)  # ハイパーパラメータの調整"
   ]
  },
  {
   "cell_type": "markdown",
   "metadata": {
    "id": "8ZNHSG5cbSGe"
   },
   "source": [
    "ハイパーパラメータを調整済みの、訓練済みモデルの概要を表示します。  "
   ]
  },
  {
   "cell_type": "code",
   "execution_count": 10,
   "metadata": {
    "id": "q_k-T1HCvn2s"
   },
   "outputs": [
    {
     "name": "stdout",
     "output_type": "stream",
     "text": [
      "LinearRegression(fit_intercept=False)\n"
     ]
    }
   ],
   "source": [
    "print(tuned_lr)"
   ]
  },
  {
   "cell_type": "markdown",
   "metadata": {
    "id": "QO_zJgDbd-dt"
   },
   "source": [
    "## モデルを評価する\n",
    "plot_model関数により、様々な角度からモデルを分析することができます。  \n",
    "https://pycaret.org/plot-model/\n",
    "\n",
    "plot_model関数でplotを指定しない場合、残差プロット（Residual Plot）が表示されます。  \n",
    "残差プロットは横軸に予測値をとり、縦軸に回帰残差をとってプロットしたものです。  \n",
    "これにより、何らかの規則性や分散の偏りなどの有無を判断することができます。 "
   ]
  },
  {
   "cell_type": "code",
   "execution_count": 11,
   "metadata": {
    "id": "zXfbyXa8n6fc"
   },
   "outputs": [
    {
     "data": {
      "text/html": [],
      "text/plain": [
       "<IPython.core.display.HTML object>"
      ]
     },
     "metadata": {},
     "output_type": "display_data"
    },
    {
     "data": {
      "image/png": "[encoded data removed]",
      "text/plain": [
       "<Figure size 800x550 with 2 Axes>"
      ]
     },
     "metadata": {},
     "output_type": "display_data"
    }
   ],
   "source": [
    "from pycaret.regression import plot_model\n",
    "\n",
    "plot_model(tuned_lr)"
   ]
  },
  {
   "cell_type": "markdown",
   "metadata": {
    "id": "y3uF04c0b88F"
   },
   "source": [
    "以下のコードは、各特徴量の重要度をプロットします。"
   ]
  },
  {
   "cell_type": "code",
   "execution_count": 12,
   "metadata": {
    "id": "9p_3L4cbvvzt"
   },
   "outputs": [
    {
     "data": {
      "text/html": [],
      "text/plain": [
       "<IPython.core.display.HTML object>"
      ]
     },
     "metadata": {},
     "output_type": "display_data"
    },
    {
     "data": {
      "image/png": "[encoded data removed]",
      "text/plain": [
       "<Figure size 800x500 with 1 Axes>"
      ]
     },
     "metadata": {},
     "output_type": "display_data"
    }
   ],
   "source": [
    "plot_model(tuned_lr, plot=\"feature\")  # 各特徴の重要度をプロット"
   ]
  },
  {
   "cell_type": "markdown",
   "metadata": {
    "id": "zKL3AYXfdV5F"
   },
   "source": [
    "モデルは、`evaluate_model`関数で評価することもできます。  "
   ]
  },
  {
   "cell_type": "code",
   "execution_count": 14,
   "metadata": {
    "id": "dJih8Y13yoVW"
   },
   "outputs": [
    {
     "data": {
      "application/vnd.jupyter.widget-view+json": {
       "model_id": "ecbf24dd5f0240379faaad8ddf91085e",
       "version_major": 2,
       "version_minor": 0
      },
      "text/plain": [
       "interactive(children=(ToggleButtons(description='Plot Type:', icons=('',), options=(('Pipeline Plot', 'pipelin…"
      ]
     },
     "metadata": {},
     "output_type": "display_data"
    }
   ],
   "source": [
    "from pycaret.regression import evaluate_model\n",
    "\n",
    "evaluate_model(tuned_lr)"
   ]
  },
  {
   "cell_type": "markdown",
   "metadata": {
    "id": "0tX3YqRKftd8"
   },
   "source": [
    "## デプロイ用のモデルを作成\n",
    "`finalize_model`関数により全てのデータセットを使ってモデルを訓練し、デプロイ用のモデルを作成します。   "
   ]
  },
  {
   "cell_type": "code",
   "execution_count": 15,
   "metadata": {
    "id": "Sp9EIYA9yrHg"
   },
   "outputs": [
    {
     "name": "stdout",
     "output_type": "stream",
     "text": [
      "Pipeline(memory=Memory(location=None),\n",
      "         steps=[('numerical_imputer',\n",
      "                 TransformerWrapper(include=['Carat Weight'],\n",
      "                                    transformer=SimpleImputer())),\n",
      "                ('categorical_imputer',\n",
      "                 TransformerWrapper(include=['Cut', 'Color', 'Clarity',\n",
      "                                             'Polish', 'Symmetry', 'Report'],\n",
      "                                    transformer=SimpleImputer(strategy='most_frequent'))),\n",
      "                ('ordinal_encoding',\n",
      "                 TransformerWrapper(include=['Rep...\n",
      "                ('onehot_encoding',\n",
      "                 TransformerWrapper(include=['Cut', 'Color', 'Clarity',\n",
      "                                             'Polish', 'Symmetry'],\n",
      "                                    transformer=OneHotEncoder(cols=['Cut',\n",
      "                                                                    'Color',\n",
      "                                                                    'Clarity',\n",
      "                                                                    'Polish',\n",
      "                                                                    'Symmetry'],\n",
      "                                                              handle_missing='return_nan',\n",
      "                                                              use_cat_names=True))),\n",
      "                ('clean_column_names',\n",
      "                 TransformerWrapper(transformer=CleanColumnNames())),\n",
      "                ('actual_estimator', LinearRegression(fit_intercept=False))])\n"
     ]
    }
   ],
   "source": [
    "from pycaret.regression import finalize_model\n",
    "\n",
    "final_lr = finalize_model(tuned_lr)\n",
    "print(final_lr)"
   ]
  },
  {
   "cell_type": "markdown",
   "metadata": {
    "id": "Z_4MQQ0Zhi8c"
   },
   "source": [
    "`predict_model`関数によりデプロイ用のモデルを評価します。"
   ]
  },
  {
   "cell_type": "code",
   "execution_count": 16,
   "metadata": {
    "id": "z1MlFc4o7_Ga"
   },
   "outputs": [
    {
     "data": {
      "text/html": [
       "<style type=\"text/css\">\n",
       "</style>\n",
       "<table id=\"T_d8f05\">\n",
       "  <thead>\n",
       "    <tr>\n",
       "      <th class=\"blank level0\" >&nbsp;</th>\n",
       "      <th id=\"T_d8f05_level0_col0\" class=\"col_heading level0 col0\" >Model</th>\n",
       "      <th id=\"T_d8f05_level0_col1\" class=\"col_heading level0 col1\" >MAE</th>\n",
       "      <th id=\"T_d8f05_level0_col2\" class=\"col_heading level0 col2\" >MSE</th>\n",
       "      <th id=\"T_d8f05_level0_col3\" class=\"col_heading level0 col3\" >RMSE</th>\n",
       "      <th id=\"T_d8f05_level0_col4\" class=\"col_heading level0 col4\" >R2</th>\n",
       "      <th id=\"T_d8f05_level0_col5\" class=\"col_heading level0 col5\" >RMSLE</th>\n",
       "      <th id=\"T_d8f05_level0_col6\" class=\"col_heading level0 col6\" >MAPE</th>\n",
       "    </tr>\n",
       "  </thead>\n",
       "  <tbody>\n",
       "    <tr>\n",
       "      <th id=\"T_d8f05_level0_row0\" class=\"row_heading level0 row0\" >0</th>\n",
       "      <td id=\"T_d8f05_row0_col0\" class=\"data row0 col0\" >Linear Regression</td>\n",
       "      <td id=\"T_d8f05_row0_col1\" class=\"data row0 col1\" >2495.1290</td>\n",
       "      <td id=\"T_d8f05_row0_col2\" class=\"data row0 col2\" >15365270.4911</td>\n",
       "      <td id=\"T_d8f05_row0_col3\" class=\"data row0 col3\" >3919.8559</td>\n",
       "      <td id=\"T_d8f05_row0_col4\" class=\"data row0 col4\" >0.8599</td>\n",
       "      <td id=\"T_d8f05_row0_col5\" class=\"data row0 col5\" >0.6195</td>\n",
       "      <td id=\"T_d8f05_row0_col6\" class=\"data row0 col6\" >0.2808</td>\n",
       "    </tr>\n",
       "  </tbody>\n",
       "</table>\n"
      ],
      "text/plain": [
       "<pandas.io.formats.style.Styler at 0x20012fac6d0>"
      ]
     },
     "metadata": {},
     "output_type": "display_data"
    }
   ],
   "source": [
    "from pycaret.regression import predict_model\n",
    "\n",
    "predict_model(final_lr);"
   ]
  },
  {
   "cell_type": "markdown",
   "metadata": {
    "id": "GgfDqRBTFtSz"
   },
   "source": [
    "`save_model`関数によりモデルを保存することができます。  "
   ]
  },
  {
   "cell_type": "code",
   "execution_count": 17,
   "metadata": {
    "id": "dvIl2G8_Ftvs"
   },
   "outputs": [
    {
     "name": "stdout",
     "output_type": "stream",
     "text": [
      "Transformation Pipeline and Model Successfully Saved\n"
     ]
    },
    {
     "data": {
      "text/plain": [
       "(Pipeline(memory=Memory(location=None),\n",
       "          steps=[('numerical_imputer',\n",
       "                  TransformerWrapper(include=['Carat Weight'],\n",
       "                                     transformer=SimpleImputer())),\n",
       "                 ('categorical_imputer',\n",
       "                  TransformerWrapper(include=['Cut', 'Color', 'Clarity',\n",
       "                                              'Polish', 'Symmetry', 'Report'],\n",
       "                                     transformer=SimpleImputer(strategy='most_frequent'))),\n",
       "                 ('ordinal_encoding',\n",
       "                  TransformerWrapper(include=['Rep...\n",
       "                 ('onehot_encoding',\n",
       "                  TransformerWrapper(include=['Cut', 'Color', 'Clarity',\n",
       "                                              'Polish', 'Symmetry'],\n",
       "                                     transformer=OneHotEncoder(cols=['Cut',\n",
       "                                                                     'Color',\n",
       "                                                                     'Clarity',\n",
       "                                                                     'Polish',\n",
       "                                                                     'Symmetry'],\n",
       "                                                               handle_missing='return_nan',\n",
       "                                                               use_cat_names=True))),\n",
       "                 ('clean_column_names',\n",
       "                  TransformerWrapper(transformer=CleanColumnNames())),\n",
       "                 ('actual_estimator', LinearRegression(fit_intercept=False))]),\n",
       " 'lr_model.pkl')"
      ]
     },
     "execution_count": 17,
     "metadata": {},
     "output_type": "execute_result"
    }
   ],
   "source": [
    "from pycaret.regression import save_model\n",
    "\n",
    "save_model(final_lr, \"lr_model\")"
   ]
  },
  {
   "cell_type": "markdown",
   "metadata": {
    "id": "SFFWZFSzl7gd"
   },
   "source": [
    "`load_model`関数により、保存されたモデルを読み込むことができます。"
   ]
  },
  {
   "cell_type": "code",
   "execution_count": 18,
   "metadata": {
    "id": "GUUciwgvF0eF"
   },
   "outputs": [
    {
     "name": "stdout",
     "output_type": "stream",
     "text": [
      "Transformation Pipeline and Model Successfully Loaded\n"
     ]
    }
   ],
   "source": [
    "from pycaret.regression import load_model\n",
    "\n",
    "loaded_lr = load_model(\"lr_model\")"
   ]
  },
  {
   "cell_type": "markdown",
   "metadata": {
    "id": "nJtHEFGSjHEr"
   },
   "source": [
    "## 未知のデータで予測する\n",
    "デプロイ用のモデルを使い、「未知のデータ」で価格の予測を行います。  "
   ]
  },
  {
   "cell_type": "code",
   "execution_count": 19,
   "metadata": {
    "id": "ATaqIJbB9PMN"
   },
   "outputs": [
    {
     "data": {
      "text/html": [
       "<style type=\"text/css\">\n",
       "</style>\n",
       "<table id=\"T_99bb6\">\n",
       "  <thead>\n",
       "    <tr>\n",
       "      <th class=\"blank level0\" >&nbsp;</th>\n",
       "      <th id=\"T_99bb6_level0_col0\" class=\"col_heading level0 col0\" >Model</th>\n",
       "      <th id=\"T_99bb6_level0_col1\" class=\"col_heading level0 col1\" >MAE</th>\n",
       "      <th id=\"T_99bb6_level0_col2\" class=\"col_heading level0 col2\" >MSE</th>\n",
       "      <th id=\"T_99bb6_level0_col3\" class=\"col_heading level0 col3\" >RMSE</th>\n",
       "      <th id=\"T_99bb6_level0_col4\" class=\"col_heading level0 col4\" >R2</th>\n",
       "      <th id=\"T_99bb6_level0_col5\" class=\"col_heading level0 col5\" >RMSLE</th>\n",
       "      <th id=\"T_99bb6_level0_col6\" class=\"col_heading level0 col6\" >MAPE</th>\n",
       "    </tr>\n",
       "  </thead>\n",
       "  <tbody>\n",
       "    <tr>\n",
       "      <th id=\"T_99bb6_level0_row0\" class=\"row_heading level0 row0\" >0</th>\n",
       "      <td id=\"T_99bb6_row0_col0\" class=\"data row0 col0\" >Linear Regression</td>\n",
       "      <td id=\"T_99bb6_row0_col1\" class=\"data row0 col1\" >2445.3413</td>\n",
       "      <td id=\"T_99bb6_row0_col2\" class=\"data row0 col2\" >15016065.5011</td>\n",
       "      <td id=\"T_99bb6_row0_col3\" class=\"data row0 col3\" >3875.0568</td>\n",
       "      <td id=\"T_99bb6_row0_col4\" class=\"data row0 col4\" >0.8540</td>\n",
       "      <td id=\"T_99bb6_row0_col5\" class=\"data row0 col5\" >0.6166</td>\n",
       "      <td id=\"T_99bb6_row0_col6\" class=\"data row0 col6\" >0.2621</td>\n",
       "    </tr>\n",
       "  </tbody>\n",
       "</table>\n"
      ],
      "text/plain": [
       "<pandas.io.formats.style.Styler at 0x2000696c700>"
      ]
     },
     "metadata": {},
     "output_type": "display_data"
    },
    {
     "data": {
      "text/html": [
       "<div>\n",
       "<style scoped>\n",
       "    .dataframe tbody tr th:only-of-type {\n",
       "        vertical-align: middle;\n",
       "    }\n",
       "\n",
       "    .dataframe tbody tr th {\n",
       "        vertical-align: top;\n",
       "    }\n",
       "\n",
       "    .dataframe thead th {\n",
       "        text-align: right;\n",
       "    }\n",
       "</style>\n",
       "<table border=\"1\" class=\"dataframe\">\n",
       "  <thead>\n",
       "    <tr style=\"text-align: right;\">\n",
       "      <th></th>\n",
       "      <th>Carat Weight</th>\n",
       "      <th>Cut</th>\n",
       "      <th>Color</th>\n",
       "      <th>Clarity</th>\n",
       "      <th>Polish</th>\n",
       "      <th>Symmetry</th>\n",
       "      <th>Report</th>\n",
       "      <th>Price</th>\n",
       "      <th>prediction_label</th>\n",
       "    </tr>\n",
       "  </thead>\n",
       "  <tbody>\n",
       "    <tr>\n",
       "      <th>0</th>\n",
       "      <td>1.53</td>\n",
       "      <td>Ideal</td>\n",
       "      <td>E</td>\n",
       "      <td>SI1</td>\n",
       "      <td>ID</td>\n",
       "      <td>ID</td>\n",
       "      <td>AGSL</td>\n",
       "      <td>12791</td>\n",
       "      <td>15271.385675</td>\n",
       "    </tr>\n",
       "    <tr>\n",
       "      <th>1</th>\n",
       "      <td>1.50</td>\n",
       "      <td>Fair</td>\n",
       "      <td>F</td>\n",
       "      <td>SI1</td>\n",
       "      <td>VG</td>\n",
       "      <td>VG</td>\n",
       "      <td>GIA</td>\n",
       "      <td>10450</td>\n",
       "      <td>13842.476932</td>\n",
       "    </tr>\n",
       "    <tr>\n",
       "      <th>2</th>\n",
       "      <td>1.01</td>\n",
       "      <td>Good</td>\n",
       "      <td>E</td>\n",
       "      <td>SI1</td>\n",
       "      <td>G</td>\n",
       "      <td>G</td>\n",
       "      <td>GIA</td>\n",
       "      <td>5161</td>\n",
       "      <td>5130.617877</td>\n",
       "    </tr>\n",
       "    <tr>\n",
       "      <th>3</th>\n",
       "      <td>2.51</td>\n",
       "      <td>Very Good</td>\n",
       "      <td>G</td>\n",
       "      <td>VS2</td>\n",
       "      <td>VG</td>\n",
       "      <td>VG</td>\n",
       "      <td>GIA</td>\n",
       "      <td>34361</td>\n",
       "      <td>32237.568117</td>\n",
       "    </tr>\n",
       "    <tr>\n",
       "      <th>4</th>\n",
       "      <td>1.01</td>\n",
       "      <td>Good</td>\n",
       "      <td>I</td>\n",
       "      <td>SI1</td>\n",
       "      <td>VG</td>\n",
       "      <td>VG</td>\n",
       "      <td>GIA</td>\n",
       "      <td>4238</td>\n",
       "      <td>-440.740427</td>\n",
       "    </tr>\n",
       "  </tbody>\n",
       "</table>\n",
       "</div>"
      ],
      "text/plain": [
       "   Carat Weight        Cut Color Clarity Polish Symmetry Report  Price  \\\n",
       "0          1.53      Ideal     E     SI1     ID       ID   AGSL  12791   \n",
       "1          1.50       Fair     F     SI1     VG       VG    GIA  10450   \n",
       "2          1.01       Good     E     SI1      G        G    GIA   5161   \n",
       "3          2.51  Very Good     G     VS2     VG       VG    GIA  34361   \n",
       "4          1.01       Good     I     SI1     VG       VG    GIA   4238   \n",
       "\n",
       "   prediction_label  \n",
       "0      15271.385675  \n",
       "1      13842.476932  \n",
       "2       5130.617877  \n",
       "3      32237.568117  \n",
       "4       -440.740427  "
      ]
     },
     "execution_count": 19,
     "metadata": {},
     "output_type": "execute_result"
    }
   ],
   "source": [
    "unseen_pred = predict_model(loaded_lr, data=data_unseen)\n",
    "unseen_pred.head()"
   ]
  },
  {
   "cell_type": "code",
   "execution_count": 20,
   "metadata": {},
   "outputs": [
    {
     "data": {
      "text/plain": [
       "['lr_model.joblib']"
      ]
     },
     "execution_count": 20,
     "metadata": {},
     "output_type": "execute_result"
    }
   ],
   "source": [
    "import joblib\n",
    "\n",
    "# Assuming final_lr is your trained model\n",
    "joblib.dump(final_lr, 'lr_model.joblib')\n"
   ]
  },
  {
   "cell_type": "code",
   "execution_count": 21,
   "metadata": {},
   "outputs": [],
   "source": [
    "import joblib\n",
    "\n",
    "# Load the model\n",
    "loaded_model = joblib.load('lr_model.joblib')\n"
   ]
  },
  {
   "cell_type": "code",
   "execution_count": 22,
   "metadata": {},
   "outputs": [
    {
     "data": {
      "text/html": [
       "<style type=\"text/css\">\n",
       "</style>\n",
       "<table id=\"T_aaa9d\">\n",
       "  <thead>\n",
       "    <tr>\n",
       "      <th class=\"blank level0\" >&nbsp;</th>\n",
       "      <th id=\"T_aaa9d_level0_col0\" class=\"col_heading level0 col0\" >Model</th>\n",
       "      <th id=\"T_aaa9d_level0_col1\" class=\"col_heading level0 col1\" >MAE</th>\n",
       "      <th id=\"T_aaa9d_level0_col2\" class=\"col_heading level0 col2\" >MSE</th>\n",
       "      <th id=\"T_aaa9d_level0_col3\" class=\"col_heading level0 col3\" >RMSE</th>\n",
       "      <th id=\"T_aaa9d_level0_col4\" class=\"col_heading level0 col4\" >R2</th>\n",
       "      <th id=\"T_aaa9d_level0_col5\" class=\"col_heading level0 col5\" >RMSLE</th>\n",
       "      <th id=\"T_aaa9d_level0_col6\" class=\"col_heading level0 col6\" >MAPE</th>\n",
       "    </tr>\n",
       "  </thead>\n",
       "  <tbody>\n",
       "    <tr>\n",
       "      <th id=\"T_aaa9d_level0_row0\" class=\"row_heading level0 row0\" >0</th>\n",
       "      <td id=\"T_aaa9d_row0_col0\" class=\"data row0 col0\" >Linear Regression</td>\n",
       "      <td id=\"T_aaa9d_row0_col1\" class=\"data row0 col1\" >2445.3413</td>\n",
       "      <td id=\"T_aaa9d_row0_col2\" class=\"data row0 col2\" >15016065.5011</td>\n",
       "      <td id=\"T_aaa9d_row0_col3\" class=\"data row0 col3\" >3875.0568</td>\n",
       "      <td id=\"T_aaa9d_row0_col4\" class=\"data row0 col4\" >0.8540</td>\n",
       "      <td id=\"T_aaa9d_row0_col5\" class=\"data row0 col5\" >0.6166</td>\n",
       "      <td id=\"T_aaa9d_row0_col6\" class=\"data row0 col6\" >0.2621</td>\n",
       "    </tr>\n",
       "  </tbody>\n",
       "</table>\n"
      ],
      "text/plain": [
       "<pandas.io.formats.style.Styler at 0x20012f986d0>"
      ]
     },
     "metadata": {},
     "output_type": "display_data"
    },
    {
     "data": {
      "text/html": [
       "<div>\n",
       "<style scoped>\n",
       "    .dataframe tbody tr th:only-of-type {\n",
       "        vertical-align: middle;\n",
       "    }\n",
       "\n",
       "    .dataframe tbody tr th {\n",
       "        vertical-align: top;\n",
       "    }\n",
       "\n",
       "    .dataframe thead th {\n",
       "        text-align: right;\n",
       "    }\n",
       "</style>\n",
       "<table border=\"1\" class=\"dataframe\">\n",
       "  <thead>\n",
       "    <tr style=\"text-align: right;\">\n",
       "      <th></th>\n",
       "      <th>Carat Weight</th>\n",
       "      <th>Cut</th>\n",
       "      <th>Color</th>\n",
       "      <th>Clarity</th>\n",
       "      <th>Polish</th>\n",
       "      <th>Symmetry</th>\n",
       "      <th>Report</th>\n",
       "      <th>Price</th>\n",
       "      <th>prediction_label</th>\n",
       "    </tr>\n",
       "  </thead>\n",
       "  <tbody>\n",
       "    <tr>\n",
       "      <th>0</th>\n",
       "      <td>1.53</td>\n",
       "      <td>Ideal</td>\n",
       "      <td>E</td>\n",
       "      <td>SI1</td>\n",
       "      <td>ID</td>\n",
       "      <td>ID</td>\n",
       "      <td>AGSL</td>\n",
       "      <td>12791</td>\n",
       "      <td>15271.385675</td>\n",
       "    </tr>\n",
       "    <tr>\n",
       "      <th>1</th>\n",
       "      <td>1.50</td>\n",
       "      <td>Fair</td>\n",
       "      <td>F</td>\n",
       "      <td>SI1</td>\n",
       "      <td>VG</td>\n",
       "      <td>VG</td>\n",
       "      <td>GIA</td>\n",
       "      <td>10450</td>\n",
       "      <td>13842.476932</td>\n",
       "    </tr>\n",
       "    <tr>\n",
       "      <th>2</th>\n",
       "      <td>1.01</td>\n",
       "      <td>Good</td>\n",
       "      <td>E</td>\n",
       "      <td>SI1</td>\n",
       "      <td>G</td>\n",
       "      <td>G</td>\n",
       "      <td>GIA</td>\n",
       "      <td>5161</td>\n",
       "      <td>5130.617877</td>\n",
       "    </tr>\n",
       "    <tr>\n",
       "      <th>3</th>\n",
       "      <td>2.51</td>\n",
       "      <td>Very Good</td>\n",
       "      <td>G</td>\n",
       "      <td>VS2</td>\n",
       "      <td>VG</td>\n",
       "      <td>VG</td>\n",
       "      <td>GIA</td>\n",
       "      <td>34361</td>\n",
       "      <td>32237.568117</td>\n",
       "    </tr>\n",
       "    <tr>\n",
       "      <th>4</th>\n",
       "      <td>1.01</td>\n",
       "      <td>Good</td>\n",
       "      <td>I</td>\n",
       "      <td>SI1</td>\n",
       "      <td>VG</td>\n",
       "      <td>VG</td>\n",
       "      <td>GIA</td>\n",
       "      <td>4238</td>\n",
       "      <td>-440.740427</td>\n",
       "    </tr>\n",
       "  </tbody>\n",
       "</table>\n",
       "</div>"
      ],
      "text/plain": [
       "   Carat Weight        Cut Color Clarity Polish Symmetry Report  Price  \\\n",
       "0          1.53      Ideal     E     SI1     ID       ID   AGSL  12791   \n",
       "1          1.50       Fair     F     SI1     VG       VG    GIA  10450   \n",
       "2          1.01       Good     E     SI1      G        G    GIA   5161   \n",
       "3          2.51  Very Good     G     VS2     VG       VG    GIA  34361   \n",
       "4          1.01       Good     I     SI1     VG       VG    GIA   4238   \n",
       "\n",
       "   prediction_label  \n",
       "0      15271.385675  \n",
       "1      13842.476932  \n",
       "2       5130.617877  \n",
       "3      32237.568117  \n",
       "4       -440.740427  "
      ]
     },
     "execution_count": 22,
     "metadata": {},
     "output_type": "execute_result"
    }
   ],
   "source": [
    "unseen_pred = predict_model(loaded_lr, data=data_unseen)\n",
    "unseen_pred.head()"
   ]
  },
  {
   "cell_type": "code",
   "execution_count": 25,
   "metadata": {},
   "outputs": [],
   "source": [
    "from pycaret.time_series import models\n"
   ]
  },
  {
   "cell_type": "code",
   "execution_count": 28,
   "metadata": {},
   "outputs": [],
   "source": [
    "import pandas as pd\n",
    "\n",
    "# Example data\n",
    "data = pd.read_csv('Index2018.csv', index_col='date', parse_dates=True)\n"
   ]
  },
  {
   "cell_type": "code",
   "execution_count": 29,
   "metadata": {},
   "outputs": [
    {
     "data": {
      "text/html": [
       "<div>\n",
       "<style scoped>\n",
       "    .dataframe tbody tr th:only-of-type {\n",
       "        vertical-align: middle;\n",
       "    }\n",
       "\n",
       "    .dataframe tbody tr th {\n",
       "        vertical-align: top;\n",
       "    }\n",
       "\n",
       "    .dataframe thead th {\n",
       "        text-align: right;\n",
       "    }\n",
       "</style>\n",
       "<table border=\"1\" class=\"dataframe\">\n",
       "  <thead>\n",
       "    <tr style=\"text-align: right;\">\n",
       "      <th></th>\n",
       "      <th>spx</th>\n",
       "      <th>dax</th>\n",
       "      <th>ftse</th>\n",
       "      <th>nikkei</th>\n",
       "    </tr>\n",
       "    <tr>\n",
       "      <th>date</th>\n",
       "      <th></th>\n",
       "      <th></th>\n",
       "      <th></th>\n",
       "      <th></th>\n",
       "    </tr>\n",
       "  </thead>\n",
       "  <tbody>\n",
       "    <tr>\n",
       "      <th>1994-07-01</th>\n",
       "      <td>469.900000</td>\n",
       "      <td>2224.95</td>\n",
       "      <td>3445.980000</td>\n",
       "      <td>18124.01</td>\n",
       "    </tr>\n",
       "    <tr>\n",
       "      <th>1994-10-01</th>\n",
       "      <td>475.270000</td>\n",
       "      <td>2225.00</td>\n",
       "      <td>3440.580000</td>\n",
       "      <td>18443.44</td>\n",
       "    </tr>\n",
       "    <tr>\n",
       "      <th>1994-11-01</th>\n",
       "      <td>474.130000</td>\n",
       "      <td>2228.10</td>\n",
       "      <td>3413.770000</td>\n",
       "      <td>18485.25</td>\n",
       "    </tr>\n",
       "    <tr>\n",
       "      <th>1994-12-01</th>\n",
       "      <td>474.170000</td>\n",
       "      <td>2182.06</td>\n",
       "      <td>3372.020000</td>\n",
       "      <td>18793.88</td>\n",
       "    </tr>\n",
       "    <tr>\n",
       "      <th>1994-01-13</th>\n",
       "      <td>472.470000</td>\n",
       "      <td>2142.37</td>\n",
       "      <td>3360.010000</td>\n",
       "      <td>18577.26</td>\n",
       "    </tr>\n",
       "    <tr>\n",
       "      <th>...</th>\n",
       "      <td>...</td>\n",
       "      <td>...</td>\n",
       "      <td>...</td>\n",
       "      <td>...</td>\n",
       "    </tr>\n",
       "    <tr>\n",
       "      <th>2018-01-23</th>\n",
       "      <td>2839.130362</td>\n",
       "      <td>13559.60</td>\n",
       "      <td>7731.827774</td>\n",
       "      <td>24124.15</td>\n",
       "    </tr>\n",
       "    <tr>\n",
       "      <th>2018-01-24</th>\n",
       "      <td>2837.544008</td>\n",
       "      <td>13414.74</td>\n",
       "      <td>7643.428966</td>\n",
       "      <td>23940.78</td>\n",
       "    </tr>\n",
       "    <tr>\n",
       "      <th>2018-01-25</th>\n",
       "      <td>2839.253031</td>\n",
       "      <td>13298.36</td>\n",
       "      <td>7615.839954</td>\n",
       "      <td>23669.49</td>\n",
       "    </tr>\n",
       "    <tr>\n",
       "      <th>2018-01-26</th>\n",
       "      <td>2872.867839</td>\n",
       "      <td>13340.17</td>\n",
       "      <td>7665.541292</td>\n",
       "      <td>23631.88</td>\n",
       "    </tr>\n",
       "    <tr>\n",
       "      <th>2018-01-29</th>\n",
       "      <td>2853.528411</td>\n",
       "      <td>13324.48</td>\n",
       "      <td>7671.533300</td>\n",
       "      <td>23629.34</td>\n",
       "    </tr>\n",
       "  </tbody>\n",
       "</table>\n",
       "<p>6269 rows × 4 columns</p>\n",
       "</div>"
      ],
      "text/plain": [
       "                    spx       dax         ftse    nikkei\n",
       "date                                                    \n",
       "1994-07-01   469.900000   2224.95  3445.980000  18124.01\n",
       "1994-10-01   475.270000   2225.00  3440.580000  18443.44\n",
       "1994-11-01   474.130000   2228.10  3413.770000  18485.25\n",
       "1994-12-01   474.170000   2182.06  3372.020000  18793.88\n",
       "1994-01-13   472.470000   2142.37  3360.010000  18577.26\n",
       "...                 ...       ...          ...       ...\n",
       "2018-01-23  2839.130362  13559.60  7731.827774  24124.15\n",
       "2018-01-24  2837.544008  13414.74  7643.428966  23940.78\n",
       "2018-01-25  2839.253031  13298.36  7615.839954  23669.49\n",
       "2018-01-26  2872.867839  13340.17  7665.541292  23631.88\n",
       "2018-01-29  2853.528411  13324.48  7671.533300  23629.34\n",
       "\n",
       "[6269 rows x 4 columns]"
      ]
     },
     "execution_count": 29,
     "metadata": {},
     "output_type": "execute_result"
    }
   ],
   "source": [
    "data"
   ]
  },
  {
   "cell_type": "code",
   "execution_count": 35,
   "metadata": {},
   "outputs": [
    {
     "data": {
      "text/html": [
       "<style type=\"text/css\">\n",
       "#T_c7274_row25_col1, #T_c7274_row31_col1 {\n",
       "  background-color: lightgreen;\n",
       "}\n",
       "</style>\n",
       "<table id=\"T_c7274\">\n",
       "  <thead>\n",
       "    <tr>\n",
       "      <th class=\"blank level0\" >&nbsp;</th>\n",
       "      <th id=\"T_c7274_level0_col0\" class=\"col_heading level0 col0\" >Description</th>\n",
       "      <th id=\"T_c7274_level0_col1\" class=\"col_heading level0 col1\" >Value</th>\n",
       "    </tr>\n",
       "  </thead>\n",
       "  <tbody>\n",
       "    <tr>\n",
       "      <th id=\"T_c7274_level0_row0\" class=\"row_heading level0 row0\" >0</th>\n",
       "      <td id=\"T_c7274_row0_col0\" class=\"data row0 col0\" >session_id</td>\n",
       "      <td id=\"T_c7274_row0_col1\" class=\"data row0 col1\" >123</td>\n",
       "    </tr>\n",
       "    <tr>\n",
       "      <th id=\"T_c7274_level0_row1\" class=\"row_heading level0 row1\" >1</th>\n",
       "      <td id=\"T_c7274_row1_col0\" class=\"data row1 col0\" >Target</td>\n",
       "      <td id=\"T_c7274_row1_col1\" class=\"data row1 col1\" >spx</td>\n",
       "    </tr>\n",
       "    <tr>\n",
       "      <th id=\"T_c7274_level0_row2\" class=\"row_heading level0 row2\" >2</th>\n",
       "      <td id=\"T_c7274_row2_col0\" class=\"data row2 col0\" >Approach</td>\n",
       "      <td id=\"T_c7274_row2_col1\" class=\"data row2 col1\" >Univariate</td>\n",
       "    </tr>\n",
       "    <tr>\n",
       "      <th id=\"T_c7274_level0_row3\" class=\"row_heading level0 row3\" >3</th>\n",
       "      <td id=\"T_c7274_row3_col0\" class=\"data row3 col0\" >Exogenous Variables</td>\n",
       "      <td id=\"T_c7274_row3_col1\" class=\"data row3 col1\" >Present</td>\n",
       "    </tr>\n",
       "    <tr>\n",
       "      <th id=\"T_c7274_level0_row4\" class=\"row_heading level0 row4\" >4</th>\n",
       "      <td id=\"T_c7274_row4_col0\" class=\"data row4 col0\" >Original data shape</td>\n",
       "      <td id=\"T_c7274_row4_col1\" class=\"data row4 col1\" >(9070, 4)</td>\n",
       "    </tr>\n",
       "    <tr>\n",
       "      <th id=\"T_c7274_level0_row5\" class=\"row_heading level0 row5\" >5</th>\n",
       "      <td id=\"T_c7274_row5_col0\" class=\"data row5 col0\" >Transformed data shape</td>\n",
       "      <td id=\"T_c7274_row5_col1\" class=\"data row5 col1\" >(9070, 4)</td>\n",
       "    </tr>\n",
       "    <tr>\n",
       "      <th id=\"T_c7274_level0_row6\" class=\"row_heading level0 row6\" >6</th>\n",
       "      <td id=\"T_c7274_row6_col0\" class=\"data row6 col0\" >Transformed train set shape</td>\n",
       "      <td id=\"T_c7274_row6_col1\" class=\"data row6 col1\" >(9069, 4)</td>\n",
       "    </tr>\n",
       "    <tr>\n",
       "      <th id=\"T_c7274_level0_row7\" class=\"row_heading level0 row7\" >7</th>\n",
       "      <td id=\"T_c7274_row7_col0\" class=\"data row7 col0\" >Transformed test set shape</td>\n",
       "      <td id=\"T_c7274_row7_col1\" class=\"data row7 col1\" >(1, 4)</td>\n",
       "    </tr>\n",
       "    <tr>\n",
       "      <th id=\"T_c7274_level0_row8\" class=\"row_heading level0 row8\" >8</th>\n",
       "      <td id=\"T_c7274_row8_col0\" class=\"data row8 col0\" >Rows with missing values</td>\n",
       "      <td id=\"T_c7274_row8_col1\" class=\"data row8 col1\" >97.7%</td>\n",
       "    </tr>\n",
       "    <tr>\n",
       "      <th id=\"T_c7274_level0_row9\" class=\"row_heading level0 row9\" >9</th>\n",
       "      <td id=\"T_c7274_row9_col0\" class=\"data row9 col0\" >Fold Generator</td>\n",
       "      <td id=\"T_c7274_row9_col1\" class=\"data row9 col1\" >ExpandingWindowSplitter</td>\n",
       "    </tr>\n",
       "    <tr>\n",
       "      <th id=\"T_c7274_level0_row10\" class=\"row_heading level0 row10\" >10</th>\n",
       "      <td id=\"T_c7274_row10_col0\" class=\"data row10 col0\" >Fold Number</td>\n",
       "      <td id=\"T_c7274_row10_col1\" class=\"data row10 col1\" >3</td>\n",
       "    </tr>\n",
       "    <tr>\n",
       "      <th id=\"T_c7274_level0_row11\" class=\"row_heading level0 row11\" >11</th>\n",
       "      <td id=\"T_c7274_row11_col0\" class=\"data row11 col0\" >Enforce Prediction Interval</td>\n",
       "      <td id=\"T_c7274_row11_col1\" class=\"data row11 col1\" >False</td>\n",
       "    </tr>\n",
       "    <tr>\n",
       "      <th id=\"T_c7274_level0_row12\" class=\"row_heading level0 row12\" >12</th>\n",
       "      <td id=\"T_c7274_row12_col0\" class=\"data row12 col0\" >Splits used for hyperparameters</td>\n",
       "      <td id=\"T_c7274_row12_col1\" class=\"data row12 col1\" >all</td>\n",
       "    </tr>\n",
       "    <tr>\n",
       "      <th id=\"T_c7274_level0_row13\" class=\"row_heading level0 row13\" >13</th>\n",
       "      <td id=\"T_c7274_row13_col0\" class=\"data row13 col0\" >User Defined Seasonal Period(s)</td>\n",
       "      <td id=\"T_c7274_row13_col1\" class=\"data row13 col1\" >12</td>\n",
       "    </tr>\n",
       "    <tr>\n",
       "      <th id=\"T_c7274_level0_row14\" class=\"row_heading level0 row14\" >14</th>\n",
       "      <td id=\"T_c7274_row14_col0\" class=\"data row14 col0\" >Ignore Seasonality Test</td>\n",
       "      <td id=\"T_c7274_row14_col1\" class=\"data row14 col1\" >False</td>\n",
       "    </tr>\n",
       "    <tr>\n",
       "      <th id=\"T_c7274_level0_row15\" class=\"row_heading level0 row15\" >15</th>\n",
       "      <td id=\"T_c7274_row15_col0\" class=\"data row15 col0\" >Seasonality Detection Algo</td>\n",
       "      <td id=\"T_c7274_row15_col1\" class=\"data row15 col1\" >user_defined</td>\n",
       "    </tr>\n",
       "    <tr>\n",
       "      <th id=\"T_c7274_level0_row16\" class=\"row_heading level0 row16\" >16</th>\n",
       "      <td id=\"T_c7274_row16_col0\" class=\"data row16 col0\" >Max Period to Consider</td>\n",
       "      <td id=\"T_c7274_row16_col1\" class=\"data row16 col1\" >60</td>\n",
       "    </tr>\n",
       "    <tr>\n",
       "      <th id=\"T_c7274_level0_row17\" class=\"row_heading level0 row17\" >17</th>\n",
       "      <td id=\"T_c7274_row17_col0\" class=\"data row17 col0\" >Seasonal Period(s) Tested</td>\n",
       "      <td id=\"T_c7274_row17_col1\" class=\"data row17 col1\" >[12]</td>\n",
       "    </tr>\n",
       "    <tr>\n",
       "      <th id=\"T_c7274_level0_row18\" class=\"row_heading level0 row18\" >18</th>\n",
       "      <td id=\"T_c7274_row18_col0\" class=\"data row18 col0\" >Significant Seasonal Period(s)</td>\n",
       "      <td id=\"T_c7274_row18_col1\" class=\"data row18 col1\" >[12]</td>\n",
       "    </tr>\n",
       "    <tr>\n",
       "      <th id=\"T_c7274_level0_row19\" class=\"row_heading level0 row19\" >19</th>\n",
       "      <td id=\"T_c7274_row19_col0\" class=\"data row19 col0\" >Significant Seasonal Period(s) without Harmonics</td>\n",
       "      <td id=\"T_c7274_row19_col1\" class=\"data row19 col1\" >[12]</td>\n",
       "    </tr>\n",
       "    <tr>\n",
       "      <th id=\"T_c7274_level0_row20\" class=\"row_heading level0 row20\" >20</th>\n",
       "      <td id=\"T_c7274_row20_col0\" class=\"data row20 col0\" >Remove Harmonics</td>\n",
       "      <td id=\"T_c7274_row20_col1\" class=\"data row20 col1\" >False</td>\n",
       "    </tr>\n",
       "    <tr>\n",
       "      <th id=\"T_c7274_level0_row21\" class=\"row_heading level0 row21\" >21</th>\n",
       "      <td id=\"T_c7274_row21_col0\" class=\"data row21 col0\" >Harmonics Order Method</td>\n",
       "      <td id=\"T_c7274_row21_col1\" class=\"data row21 col1\" >harmonic_max</td>\n",
       "    </tr>\n",
       "    <tr>\n",
       "      <th id=\"T_c7274_level0_row22\" class=\"row_heading level0 row22\" >22</th>\n",
       "      <td id=\"T_c7274_row22_col0\" class=\"data row22 col0\" >Num Seasonalities to Use</td>\n",
       "      <td id=\"T_c7274_row22_col1\" class=\"data row22 col1\" >1</td>\n",
       "    </tr>\n",
       "    <tr>\n",
       "      <th id=\"T_c7274_level0_row23\" class=\"row_heading level0 row23\" >23</th>\n",
       "      <td id=\"T_c7274_row23_col0\" class=\"data row23 col0\" >All Seasonalities to Use</td>\n",
       "      <td id=\"T_c7274_row23_col1\" class=\"data row23 col1\" >[12]</td>\n",
       "    </tr>\n",
       "    <tr>\n",
       "      <th id=\"T_c7274_level0_row24\" class=\"row_heading level0 row24\" >24</th>\n",
       "      <td id=\"T_c7274_row24_col0\" class=\"data row24 col0\" >Primary Seasonality</td>\n",
       "      <td id=\"T_c7274_row24_col1\" class=\"data row24 col1\" >12</td>\n",
       "    </tr>\n",
       "    <tr>\n",
       "      <th id=\"T_c7274_level0_row25\" class=\"row_heading level0 row25\" >25</th>\n",
       "      <td id=\"T_c7274_row25_col0\" class=\"data row25 col0\" >Seasonality Present</td>\n",
       "      <td id=\"T_c7274_row25_col1\" class=\"data row25 col1\" >True</td>\n",
       "    </tr>\n",
       "    <tr>\n",
       "      <th id=\"T_c7274_level0_row26\" class=\"row_heading level0 row26\" >26</th>\n",
       "      <td id=\"T_c7274_row26_col0\" class=\"data row26 col0\" >Seasonality Type</td>\n",
       "      <td id=\"T_c7274_row26_col1\" class=\"data row26 col1\" >add</td>\n",
       "    </tr>\n",
       "    <tr>\n",
       "      <th id=\"T_c7274_level0_row27\" class=\"row_heading level0 row27\" >27</th>\n",
       "      <td id=\"T_c7274_row27_col0\" class=\"data row27 col0\" >Target Strictly Positive</td>\n",
       "      <td id=\"T_c7274_row27_col1\" class=\"data row27 col1\" >False</td>\n",
       "    </tr>\n",
       "    <tr>\n",
       "      <th id=\"T_c7274_level0_row28\" class=\"row_heading level0 row28\" >28</th>\n",
       "      <td id=\"T_c7274_row28_col0\" class=\"data row28 col0\" >Target White Noise</td>\n",
       "      <td id=\"T_c7274_row28_col1\" class=\"data row28 col1\" >No</td>\n",
       "    </tr>\n",
       "    <tr>\n",
       "      <th id=\"T_c7274_level0_row29\" class=\"row_heading level0 row29\" >29</th>\n",
       "      <td id=\"T_c7274_row29_col0\" class=\"data row29 col0\" >Recommended d</td>\n",
       "      <td id=\"T_c7274_row29_col1\" class=\"data row29 col1\" >1</td>\n",
       "    </tr>\n",
       "    <tr>\n",
       "      <th id=\"T_c7274_level0_row30\" class=\"row_heading level0 row30\" >30</th>\n",
       "      <td id=\"T_c7274_row30_col0\" class=\"data row30 col0\" >Recommended Seasonal D</td>\n",
       "      <td id=\"T_c7274_row30_col1\" class=\"data row30 col1\" >0</td>\n",
       "    </tr>\n",
       "    <tr>\n",
       "      <th id=\"T_c7274_level0_row31\" class=\"row_heading level0 row31\" >31</th>\n",
       "      <td id=\"T_c7274_row31_col0\" class=\"data row31 col0\" >Preprocess</td>\n",
       "      <td id=\"T_c7274_row31_col1\" class=\"data row31 col1\" >True</td>\n",
       "    </tr>\n",
       "    <tr>\n",
       "      <th id=\"T_c7274_level0_row32\" class=\"row_heading level0 row32\" >32</th>\n",
       "      <td id=\"T_c7274_row32_col0\" class=\"data row32 col0\" >Numerical Imputation (Target)</td>\n",
       "      <td id=\"T_c7274_row32_col1\" class=\"data row32 col1\" >0</td>\n",
       "    </tr>\n",
       "    <tr>\n",
       "      <th id=\"T_c7274_level0_row33\" class=\"row_heading level0 row33\" >33</th>\n",
       "      <td id=\"T_c7274_row33_col0\" class=\"data row33 col0\" >Transformation (Target)</td>\n",
       "      <td id=\"T_c7274_row33_col1\" class=\"data row33 col1\" >None</td>\n",
       "    </tr>\n",
       "    <tr>\n",
       "      <th id=\"T_c7274_level0_row34\" class=\"row_heading level0 row34\" >34</th>\n",
       "      <td id=\"T_c7274_row34_col0\" class=\"data row34 col0\" >Scaling (Target)</td>\n",
       "      <td id=\"T_c7274_row34_col1\" class=\"data row34 col1\" >None</td>\n",
       "    </tr>\n",
       "    <tr>\n",
       "      <th id=\"T_c7274_level0_row35\" class=\"row_heading level0 row35\" >35</th>\n",
       "      <td id=\"T_c7274_row35_col0\" class=\"data row35 col0\" >Feature Engineering (Target) - Reduced Regression</td>\n",
       "      <td id=\"T_c7274_row35_col1\" class=\"data row35 col1\" >False</td>\n",
       "    </tr>\n",
       "    <tr>\n",
       "      <th id=\"T_c7274_level0_row36\" class=\"row_heading level0 row36\" >36</th>\n",
       "      <td id=\"T_c7274_row36_col0\" class=\"data row36 col0\" >Numerical Imputation (Exogenous)</td>\n",
       "      <td id=\"T_c7274_row36_col1\" class=\"data row36 col1\" >0</td>\n",
       "    </tr>\n",
       "    <tr>\n",
       "      <th id=\"T_c7274_level0_row37\" class=\"row_heading level0 row37\" >37</th>\n",
       "      <td id=\"T_c7274_row37_col0\" class=\"data row37 col0\" >Transformation (Exogenous)</td>\n",
       "      <td id=\"T_c7274_row37_col1\" class=\"data row37 col1\" >None</td>\n",
       "    </tr>\n",
       "    <tr>\n",
       "      <th id=\"T_c7274_level0_row38\" class=\"row_heading level0 row38\" >38</th>\n",
       "      <td id=\"T_c7274_row38_col0\" class=\"data row38 col0\" >Scaling (Exogenous)</td>\n",
       "      <td id=\"T_c7274_row38_col1\" class=\"data row38 col1\" >None</td>\n",
       "    </tr>\n",
       "    <tr>\n",
       "      <th id=\"T_c7274_level0_row39\" class=\"row_heading level0 row39\" >39</th>\n",
       "      <td id=\"T_c7274_row39_col0\" class=\"data row39 col0\" >CPU Jobs</td>\n",
       "      <td id=\"T_c7274_row39_col1\" class=\"data row39 col1\" >-1</td>\n",
       "    </tr>\n",
       "    <tr>\n",
       "      <th id=\"T_c7274_level0_row40\" class=\"row_heading level0 row40\" >40</th>\n",
       "      <td id=\"T_c7274_row40_col0\" class=\"data row40 col0\" >Use GPU</td>\n",
       "      <td id=\"T_c7274_row40_col1\" class=\"data row40 col1\" >False</td>\n",
       "    </tr>\n",
       "    <tr>\n",
       "      <th id=\"T_c7274_level0_row41\" class=\"row_heading level0 row41\" >41</th>\n",
       "      <td id=\"T_c7274_row41_col0\" class=\"data row41 col0\" >Log Experiment</td>\n",
       "      <td id=\"T_c7274_row41_col1\" class=\"data row41 col1\" >False</td>\n",
       "    </tr>\n",
       "    <tr>\n",
       "      <th id=\"T_c7274_level0_row42\" class=\"row_heading level0 row42\" >42</th>\n",
       "      <td id=\"T_c7274_row42_col0\" class=\"data row42 col0\" >Experiment Name</td>\n",
       "      <td id=\"T_c7274_row42_col1\" class=\"data row42 col1\" >ts-default-name</td>\n",
       "    </tr>\n",
       "    <tr>\n",
       "      <th id=\"T_c7274_level0_row43\" class=\"row_heading level0 row43\" >43</th>\n",
       "      <td id=\"T_c7274_row43_col0\" class=\"data row43 col0\" >USI</td>\n",
       "      <td id=\"T_c7274_row43_col1\" class=\"data row43 col1\" >d179</td>\n",
       "    </tr>\n",
       "  </tbody>\n",
       "</table>\n"
      ],
      "text/plain": [
       "<pandas.io.formats.style.Styler at 0x20018e81540>"
      ]
     },
     "metadata": {},
     "output_type": "display_data"
    }
   ],
   "source": [
    "# Convert the index to DatetimeIndex if not already\n",
    "data.index = pd.to_datetime(data.index)\n",
    "\n",
    "# Set the frequency to monthly\n",
    "data = data.asfreq('D')\n",
    "\n",
    "# Now, you can proceed with the setup\n",
    "ts = setup(data, \n",
    "           target='spx', \n",
    "           seasonal_period=12,  # Modify based on your data's seasonality\n",
    "           session_id=123,\n",
    "           numeric_imputation_target=0,\n",
    "           numeric_imputation_exogenous=0)  # Impute missing values with the median\n",
    "\n"
   ]
  },
  {
   "cell_type": "code",
   "execution_count": 43,
   "metadata": {},
   "outputs": [
    {
     "name": "stdout",
     "output_type": "stream",
     "text": [
      "date\n",
      "1994-01-31    481.61\n",
      "1994-02-01       NaN\n",
      "1994-02-02       NaN\n",
      "1994-02-03       NaN\n",
      "1994-02-04       NaN\n",
      "Freq: D, Name: spx, dtype: float64\n",
      "               dax     ftse    nikkei\n",
      "date                                 \n",
      "1994-01-31  2192.6  3491.83  20229.12\n",
      "1994-02-01     NaN      NaN       NaN\n",
      "1994-02-02     NaN      NaN       NaN\n",
      "1994-02-03     NaN      NaN       NaN\n",
      "1994-02-04     NaN      NaN       NaN\n"
     ]
    },
    {
     "ename": "ValueError",
     "evalue": "Variable 'seasonal_period' not found. Possible variables are: ['y_test', 'html_param', 'primary_sp_to_use', 'gpu_param', 'X_train_transformed', '_available_plots', 'model_engines', 'X_test_transformed', 'seed', 'test_transformed', 'y_transformed', 'significant_sps', 'X', 'seasonality_present', 'y_test_transformed', 'dataset', 'y_train', 'idx', 'n_jobs_param', 'approach_type', 'USI', 'fold_generator', 'test', 'fold_param', 'exp_id', 'X_transformed', 'fh', 'significant_sps_no_harmonics', 'index_type', 'memory', 'X_train', 'variables', 'y', 'strictly_positive', 'all_sps_to_use', 'pipeline', 'exp_name_log', 'log_plots_param', 'variable_and_property_keys', 'is_multiclass', 'data', 'enforce_exogenous', 'train', 'dataset_transformed', 'gpu_n_jobs_param', 'X_test', 'y_train_transformed', 'candidate_sps', '_ml_usecase', 'exogenous_present', 'logging_param', 'enforce_pi', 'train_transformed']",
     "output_type": "error",
     "traceback": [
      "\u001b[1;31m---------------------------------------------------------------------------\u001b[0m",
      "\u001b[1;31mValueError\u001b[0m                                Traceback (most recent call last)",
      "Cell \u001b[1;32mIn[43], line 8\u001b[0m\n\u001b[0;32m      5\u001b[0m \u001b[38;5;28mprint\u001b[39m(ts\u001b[38;5;241m.\u001b[39mget_config(\u001b[38;5;124m'\u001b[39m\u001b[38;5;124mX_train\u001b[39m\u001b[38;5;124m'\u001b[39m)\u001b[38;5;241m.\u001b[39mhead())\n\u001b[0;32m      7\u001b[0m \u001b[38;5;66;03m# Example: Check the seasonal period\u001b[39;00m\n\u001b[1;32m----> 8\u001b[0m \u001b[38;5;28mprint\u001b[39m(\u001b[43mts\u001b[49m\u001b[38;5;241;43m.\u001b[39;49m\u001b[43mget_config\u001b[49m\u001b[43m(\u001b[49m\u001b[38;5;124;43m'\u001b[39;49m\u001b[38;5;124;43mseasonal_period\u001b[39;49m\u001b[38;5;124;43m'\u001b[39;49m\u001b[43m)\u001b[49m)\n",
      "File \u001b[1;32m~\\anaconda3\\lib\\site-packages\\pycaret\\internal\\pycaret_experiment\\pycaret_experiment.py:310\u001b[0m, in \u001b[0;36m_PyCaretExperiment.get_config\u001b[1;34m(self, variable)\u001b[0m\n\u001b[0;32m    307\u001b[0m     \u001b[38;5;28;01mreturn\u001b[39;00m variable_and_property_keys\n\u001b[0;32m    309\u001b[0m \u001b[38;5;28;01mif\u001b[39;00m variable \u001b[38;5;129;01mnot\u001b[39;00m \u001b[38;5;129;01min\u001b[39;00m variable_and_property_keys:\n\u001b[1;32m--> 310\u001b[0m     \u001b[38;5;28;01mraise\u001b[39;00m \u001b[38;5;167;01mValueError\u001b[39;00m(\n\u001b[0;32m    311\u001b[0m         \u001b[38;5;124mf\u001b[39m\u001b[38;5;124m\"\u001b[39m\u001b[38;5;124mVariable \u001b[39m\u001b[38;5;124m'\u001b[39m\u001b[38;5;132;01m{\u001b[39;00mvariable\u001b[38;5;132;01m}\u001b[39;00m\u001b[38;5;124m'\u001b[39m\u001b[38;5;124m not found. Possible variables are: \u001b[39m\u001b[38;5;132;01m{\u001b[39;00m\u001b[38;5;28mlist\u001b[39m(variable_and_property_keys)\u001b[38;5;132;01m}\u001b[39;00m\u001b[38;5;124m\"\u001b[39m\n\u001b[0;32m    312\u001b[0m     )\n\u001b[0;32m    314\u001b[0m \u001b[38;5;28;01mif\u001b[39;00m \u001b[38;5;28many\u001b[39m(variable\u001b[38;5;241m.\u001b[39mendswith(attr) \u001b[38;5;28;01mfor\u001b[39;00m attr \u001b[38;5;129;01min\u001b[39;00m (\u001b[38;5;124m\"\u001b[39m\u001b[38;5;124mtrain\u001b[39m\u001b[38;5;124m\"\u001b[39m, \u001b[38;5;124m\"\u001b[39m\u001b[38;5;124mtest\u001b[39m\u001b[38;5;124m\"\u001b[39m, \u001b[38;5;124m\"\u001b[39m\u001b[38;5;124mdataset\u001b[39m\u001b[38;5;124m\"\u001b[39m)):\n\u001b[0;32m    315\u001b[0m     msg \u001b[38;5;241m=\u001b[39m (\n\u001b[0;32m    316\u001b[0m         \u001b[38;5;124mf\u001b[39m\u001b[38;5;124m\"\u001b[39m\u001b[38;5;124mVariable: \u001b[39m\u001b[38;5;124m'\u001b[39m\u001b[38;5;132;01m{\u001b[39;00mvariable\u001b[38;5;132;01m}\u001b[39;00m\u001b[38;5;124m'\u001b[39m\u001b[38;5;124m used to return the transformed values in PyCaret 2.x. \u001b[39m\u001b[38;5;124m\"\u001b[39m\n\u001b[0;32m    317\u001b[0m         \u001b[38;5;124m\"\u001b[39m\u001b[38;5;124mFrom PyCaret 3.x, this will return the raw values. \u001b[39m\u001b[38;5;124m\"\u001b[39m\n\u001b[0;32m    318\u001b[0m         \u001b[38;5;124mf\u001b[39m\u001b[38;5;124m\"\u001b[39m\u001b[38;5;124mIf you need the transformed values, call get_config with \u001b[39m\u001b[38;5;124m'\u001b[39m\u001b[38;5;132;01m{\u001b[39;00mvariable\u001b[38;5;132;01m}\u001b[39;00m\u001b[38;5;124m_transformed\u001b[39m\u001b[38;5;124m'\u001b[39m\u001b[38;5;124m instead.\u001b[39m\u001b[38;5;124m\"\u001b[39m\n\u001b[0;32m    319\u001b[0m     )\n",
      "\u001b[1;31mValueError\u001b[0m: Variable 'seasonal_period' not found. Possible variables are: ['y_test', 'html_param', 'primary_sp_to_use', 'gpu_param', 'X_train_transformed', '_available_plots', 'model_engines', 'X_test_transformed', 'seed', 'test_transformed', 'y_transformed', 'significant_sps', 'X', 'seasonality_present', 'y_test_transformed', 'dataset', 'y_train', 'idx', 'n_jobs_param', 'approach_type', 'USI', 'fold_generator', 'test', 'fold_param', 'exp_id', 'X_transformed', 'fh', 'significant_sps_no_harmonics', 'index_type', 'memory', 'X_train', 'variables', 'y', 'strictly_positive', 'all_sps_to_use', 'pipeline', 'exp_name_log', 'log_plots_param', 'variable_and_property_keys', 'is_multiclass', 'data', 'enforce_exogenous', 'train', 'dataset_transformed', 'gpu_n_jobs_param', 'X_test', 'y_train_transformed', 'candidate_sps', '_ml_usecase', 'exogenous_present', 'logging_param', 'enforce_pi', 'train_transformed']"
     ]
    }
   ],
   "source": [
    "# Example: Check the target column\n",
    "print(ts.get_config('y_train').head())\n",
    "\n",
    "# Example: Check the training data (X)\n",
    "print(ts.get_config('X_train').head())\n",
    "\n",
    "# Example: Check the seasonal period\n",
    "print(ts.get_config('seasonal_period'))\n",
    "\n"
   ]
  },
  {
   "cell_type": "code",
   "execution_count": 37,
   "metadata": {},
   "outputs": [
    {
     "data": {
      "text/html": [],
      "text/plain": [
       "<IPython.core.display.HTML object>"
      ]
     },
     "metadata": {},
     "output_type": "display_data"
    },
    {
     "data": {
      "text/html": [
       "<style type=\"text/css\">\n",
       "#T_b9b13 th {\n",
       "  text-align: left;\n",
       "}\n",
       "#T_b9b13_row0_col0, #T_b9b13_row1_col0, #T_b9b13_row1_col1, #T_b9b13_row1_col3, #T_b9b13_row1_col4, #T_b9b13_row1_col5, #T_b9b13_row1_col6, #T_b9b13_row2_col0, #T_b9b13_row2_col1, #T_b9b13_row2_col3, #T_b9b13_row2_col4, #T_b9b13_row2_col5, #T_b9b13_row2_col6, #T_b9b13_row3_col0, #T_b9b13_row3_col1, #T_b9b13_row3_col2, #T_b9b13_row3_col3, #T_b9b13_row3_col4, #T_b9b13_row3_col5, #T_b9b13_row3_col6, #T_b9b13_row4_col0, #T_b9b13_row4_col1, #T_b9b13_row4_col2, #T_b9b13_row4_col3, #T_b9b13_row4_col4, #T_b9b13_row4_col5, #T_b9b13_row4_col6, #T_b9b13_row5_col0, #T_b9b13_row5_col1, #T_b9b13_row5_col2, #T_b9b13_row5_col3, #T_b9b13_row5_col4, #T_b9b13_row5_col5, #T_b9b13_row5_col6, #T_b9b13_row6_col0, #T_b9b13_row6_col1, #T_b9b13_row6_col2, #T_b9b13_row6_col3, #T_b9b13_row6_col4, #T_b9b13_row6_col5, #T_b9b13_row6_col6, #T_b9b13_row7_col0, #T_b9b13_row7_col1, #T_b9b13_row7_col2, #T_b9b13_row7_col3, #T_b9b13_row7_col4, #T_b9b13_row7_col5, #T_b9b13_row7_col6, #T_b9b13_row8_col0, #T_b9b13_row8_col1, #T_b9b13_row8_col2, #T_b9b13_row8_col3, #T_b9b13_row8_col4, #T_b9b13_row8_col5, #T_b9b13_row8_col6, #T_b9b13_row9_col0, #T_b9b13_row9_col1, #T_b9b13_row9_col2, #T_b9b13_row9_col3, #T_b9b13_row9_col4, #T_b9b13_row9_col5, #T_b9b13_row9_col6, #T_b9b13_row10_col0, #T_b9b13_row10_col1, #T_b9b13_row10_col2, #T_b9b13_row10_col3, #T_b9b13_row10_col4, #T_b9b13_row10_col5, #T_b9b13_row10_col6, #T_b9b13_row11_col0, #T_b9b13_row11_col1, #T_b9b13_row11_col2, #T_b9b13_row11_col3, #T_b9b13_row11_col4, #T_b9b13_row11_col5, #T_b9b13_row11_col6, #T_b9b13_row12_col0, #T_b9b13_row12_col1, #T_b9b13_row12_col2, #T_b9b13_row12_col3, #T_b9b13_row12_col4, #T_b9b13_row12_col5, #T_b9b13_row12_col6, #T_b9b13_row13_col0, #T_b9b13_row13_col1, #T_b9b13_row13_col2, #T_b9b13_row13_col3, #T_b9b13_row13_col4, #T_b9b13_row13_col5, #T_b9b13_row13_col6, #T_b9b13_row14_col0, #T_b9b13_row14_col1, #T_b9b13_row14_col2, #T_b9b13_row14_col3, #T_b9b13_row14_col4, #T_b9b13_row14_col5, #T_b9b13_row14_col6, #T_b9b13_row15_col0, #T_b9b13_row15_col1, #T_b9b13_row15_col2, #T_b9b13_row15_col3, #T_b9b13_row15_col4, #T_b9b13_row15_col5, #T_b9b13_row15_col6, #T_b9b13_row16_col0, #T_b9b13_row16_col1, #T_b9b13_row16_col2, #T_b9b13_row16_col3, #T_b9b13_row16_col4, #T_b9b13_row16_col5, #T_b9b13_row16_col6, #T_b9b13_row17_col0, #T_b9b13_row17_col1, #T_b9b13_row17_col2, #T_b9b13_row17_col3, #T_b9b13_row17_col4, #T_b9b13_row17_col5, #T_b9b13_row17_col6, #T_b9b13_row18_col0, #T_b9b13_row18_col1, #T_b9b13_row18_col2, #T_b9b13_row18_col3, #T_b9b13_row18_col4, #T_b9b13_row18_col5, #T_b9b13_row18_col6 {\n",
       "  text-align: left;\n",
       "}\n",
       "#T_b9b13_row0_col1, #T_b9b13_row0_col2, #T_b9b13_row0_col3, #T_b9b13_row0_col4, #T_b9b13_row0_col5, #T_b9b13_row0_col6, #T_b9b13_row1_col2, #T_b9b13_row2_col2 {\n",
       "  text-align: left;\n",
       "  background-color: yellow;\n",
       "}\n",
       "#T_b9b13_row0_col7, #T_b9b13_row1_col7, #T_b9b13_row2_col7, #T_b9b13_row3_col7, #T_b9b13_row4_col7, #T_b9b13_row5_col7, #T_b9b13_row6_col7, #T_b9b13_row7_col7, #T_b9b13_row8_col7, #T_b9b13_row9_col7, #T_b9b13_row10_col7, #T_b9b13_row11_col7, #T_b9b13_row12_col7, #T_b9b13_row13_col7, #T_b9b13_row14_col7, #T_b9b13_row15_col7, #T_b9b13_row16_col7, #T_b9b13_row17_col7 {\n",
       "  text-align: left;\n",
       "  background-color: lightgrey;\n",
       "}\n",
       "#T_b9b13_row18_col7 {\n",
       "  text-align: left;\n",
       "  background-color: yellow;\n",
       "  background-color: lightgrey;\n",
       "}\n",
       "</style>\n",
       "<table id=\"T_b9b13\">\n",
       "  <thead>\n",
       "    <tr>\n",
       "      <th class=\"blank level0\" >&nbsp;</th>\n",
       "      <th id=\"T_b9b13_level0_col0\" class=\"col_heading level0 col0\" >Model</th>\n",
       "      <th id=\"T_b9b13_level0_col1\" class=\"col_heading level0 col1\" >MASE</th>\n",
       "      <th id=\"T_b9b13_level0_col2\" class=\"col_heading level0 col2\" >RMSSE</th>\n",
       "      <th id=\"T_b9b13_level0_col3\" class=\"col_heading level0 col3\" >MAE</th>\n",
       "      <th id=\"T_b9b13_level0_col4\" class=\"col_heading level0 col4\" >RMSE</th>\n",
       "      <th id=\"T_b9b13_level0_col5\" class=\"col_heading level0 col5\" >MAPE</th>\n",
       "      <th id=\"T_b9b13_level0_col6\" class=\"col_heading level0 col6\" >SMAPE</th>\n",
       "      <th id=\"T_b9b13_level0_col7\" class=\"col_heading level0 col7\" >TT (Sec)</th>\n",
       "    </tr>\n",
       "  </thead>\n",
       "  <tbody>\n",
       "    <tr>\n",
       "      <th id=\"T_b9b13_level0_row0\" class=\"row_heading level0 row0\" >arima</th>\n",
       "      <td id=\"T_b9b13_row0_col0\" class=\"data row0 col0\" >ARIMA</td>\n",
       "      <td id=\"T_b9b13_row0_col1\" class=\"data row0 col1\" >0.0000</td>\n",
       "      <td id=\"T_b9b13_row0_col2\" class=\"data row0 col2\" >0.0000</td>\n",
       "      <td id=\"T_b9b13_row0_col3\" class=\"data row0 col3\" >0.0000</td>\n",
       "      <td id=\"T_b9b13_row0_col4\" class=\"data row0 col4\" >0.0000</td>\n",
       "      <td id=\"T_b9b13_row0_col5\" class=\"data row0 col5\" >5.9940</td>\n",
       "      <td id=\"T_b9b13_row0_col6\" class=\"data row0 col6\" >1.7190</td>\n",
       "      <td id=\"T_b9b13_row0_col7\" class=\"data row0 col7\" >5.7433</td>\n",
       "    </tr>\n",
       "    <tr>\n",
       "      <th id=\"T_b9b13_level0_row1\" class=\"row_heading level0 row1\" >dt_cds_dt</th>\n",
       "      <td id=\"T_b9b13_row1_col0\" class=\"data row1 col0\" >Decision Tree w/ Cond. Deseasonalize & Detrending</td>\n",
       "      <td id=\"T_b9b13_row1_col1\" class=\"data row1 col1\" >0.0001</td>\n",
       "      <td id=\"T_b9b13_row1_col2\" class=\"data row1 col2\" >0.0000</td>\n",
       "      <td id=\"T_b9b13_row1_col3\" class=\"data row1 col3\" >0.0058</td>\n",
       "      <td id=\"T_b9b13_row1_col4\" class=\"data row1 col4\" >0.0058</td>\n",
       "      <td id=\"T_b9b13_row1_col5\" class=\"data row1 col5\" >26150008823263.5000</td>\n",
       "      <td id=\"T_b9b13_row1_col6\" class=\"data row1 col6\" >2.0000</td>\n",
       "      <td id=\"T_b9b13_row1_col7\" class=\"data row1 col7\" >0.2067</td>\n",
       "    </tr>\n",
       "    <tr>\n",
       "      <th id=\"T_b9b13_level0_row2\" class=\"row_heading level0 row2\" >rf_cds_dt</th>\n",
       "      <td id=\"T_b9b13_row2_col0\" class=\"data row2 col0\" >Random Forest w/ Cond. Deseasonalize & Detrending</td>\n",
       "      <td id=\"T_b9b13_row2_col1\" class=\"data row2 col1\" >0.0001</td>\n",
       "      <td id=\"T_b9b13_row2_col2\" class=\"data row2 col2\" >0.0000</td>\n",
       "      <td id=\"T_b9b13_row2_col3\" class=\"data row2 col3\" >0.0052</td>\n",
       "      <td id=\"T_b9b13_row2_col4\" class=\"data row2 col4\" >0.0052</td>\n",
       "      <td id=\"T_b9b13_row2_col5\" class=\"data row2 col5\" >23541636644767.5000</td>\n",
       "      <td id=\"T_b9b13_row2_col6\" class=\"data row2 col6\" >2.0000</td>\n",
       "      <td id=\"T_b9b13_row2_col7\" class=\"data row2 col7\" >3.6500</td>\n",
       "    </tr>\n",
       "    <tr>\n",
       "      <th id=\"T_b9b13_level0_row3\" class=\"row_heading level0 row3\" >xgboost_cds_dt</th>\n",
       "      <td id=\"T_b9b13_row3_col0\" class=\"data row3 col0\" >Extreme Gradient Boosting w/ Cond. Deseasonalize & Detrending</td>\n",
       "      <td id=\"T_b9b13_row3_col1\" class=\"data row3 col1\" >0.0009</td>\n",
       "      <td id=\"T_b9b13_row3_col2\" class=\"data row3 col2\" >0.0002</td>\n",
       "      <td id=\"T_b9b13_row3_col3\" class=\"data row3 col3\" >0.0552</td>\n",
       "      <td id=\"T_b9b13_row3_col4\" class=\"data row3 col4\" >0.0552</td>\n",
       "      <td id=\"T_b9b13_row3_col5\" class=\"data row3 col5\" >248503715500704.5000</td>\n",
       "      <td id=\"T_b9b13_row3_col6\" class=\"data row3 col6\" >2.0000</td>\n",
       "      <td id=\"T_b9b13_row3_col7\" class=\"data row3 col7\" >0.4133</td>\n",
       "    </tr>\n",
       "    <tr>\n",
       "      <th id=\"T_b9b13_level0_row4\" class=\"row_heading level0 row4\" >knn_cds_dt</th>\n",
       "      <td id=\"T_b9b13_row4_col0\" class=\"data row4 col0\" >K Neighbors w/ Cond. Deseasonalize & Detrending</td>\n",
       "      <td id=\"T_b9b13_row4_col1\" class=\"data row4 col1\" >0.0016</td>\n",
       "      <td id=\"T_b9b13_row4_col2\" class=\"data row4 col2\" >0.0003</td>\n",
       "      <td id=\"T_b9b13_row4_col3\" class=\"data row4 col3\" >0.0927</td>\n",
       "      <td id=\"T_b9b13_row4_col4\" class=\"data row4 col4\" >0.0927</td>\n",
       "      <td id=\"T_b9b13_row4_col5\" class=\"data row4 col5\" >417338122309058.1875</td>\n",
       "      <td id=\"T_b9b13_row4_col6\" class=\"data row4 col6\" >2.0000</td>\n",
       "      <td id=\"T_b9b13_row4_col7\" class=\"data row4 col7\" >0.1700</td>\n",
       "    </tr>\n",
       "    <tr>\n",
       "      <th id=\"T_b9b13_level0_row5\" class=\"row_heading level0 row5\" >et_cds_dt</th>\n",
       "      <td id=\"T_b9b13_row5_col0\" class=\"data row5 col0\" >Extra Trees w/ Cond. Deseasonalize & Detrending</td>\n",
       "      <td id=\"T_b9b13_row5_col1\" class=\"data row5 col1\" >0.0021</td>\n",
       "      <td id=\"T_b9b13_row5_col2\" class=\"data row5 col2\" >0.0004</td>\n",
       "      <td id=\"T_b9b13_row5_col3\" class=\"data row5 col3\" >0.1221</td>\n",
       "      <td id=\"T_b9b13_row5_col4\" class=\"data row5 col4\" >0.1221</td>\n",
       "      <td id=\"T_b9b13_row5_col5\" class=\"data row5 col5\" >549936785823927.5000</td>\n",
       "      <td id=\"T_b9b13_row5_col6\" class=\"data row5 col6\" >2.0000</td>\n",
       "      <td id=\"T_b9b13_row5_col7\" class=\"data row5 col7\" >1.3533</td>\n",
       "    </tr>\n",
       "    <tr>\n",
       "      <th id=\"T_b9b13_level0_row6\" class=\"row_heading level0 row6\" >lightgbm_cds_dt</th>\n",
       "      <td id=\"T_b9b13_row6_col0\" class=\"data row6 col0\" >Light Gradient Boosting w/ Cond. Deseasonalize & Detrending</td>\n",
       "      <td id=\"T_b9b13_row6_col1\" class=\"data row6 col1\" >0.0022</td>\n",
       "      <td id=\"T_b9b13_row6_col2\" class=\"data row6 col2\" >0.0004</td>\n",
       "      <td id=\"T_b9b13_row6_col3\" class=\"data row6 col3\" >0.1258</td>\n",
       "      <td id=\"T_b9b13_row6_col4\" class=\"data row6 col4\" >0.1258</td>\n",
       "      <td id=\"T_b9b13_row6_col5\" class=\"data row6 col5\" >566710758614146.1250</td>\n",
       "      <td id=\"T_b9b13_row6_col6\" class=\"data row6 col6\" >2.0000</td>\n",
       "      <td id=\"T_b9b13_row6_col7\" class=\"data row6 col7\" >0.6600</td>\n",
       "    </tr>\n",
       "    <tr>\n",
       "      <th id=\"T_b9b13_level0_row7\" class=\"row_heading level0 row7\" >gbr_cds_dt</th>\n",
       "      <td id=\"T_b9b13_row7_col0\" class=\"data row7 col0\" >Gradient Boosting w/ Cond. Deseasonalize & Detrending</td>\n",
       "      <td id=\"T_b9b13_row7_col1\" class=\"data row7 col1\" >0.0125</td>\n",
       "      <td id=\"T_b9b13_row7_col2\" class=\"data row7 col2\" >0.0025</td>\n",
       "      <td id=\"T_b9b13_row7_col3\" class=\"data row7 col3\" >0.7265</td>\n",
       "      <td id=\"T_b9b13_row7_col4\" class=\"data row7 col4\" >0.7265</td>\n",
       "      <td id=\"T_b9b13_row7_col5\" class=\"data row7 col5\" >3272060873782967.5000</td>\n",
       "      <td id=\"T_b9b13_row7_col6\" class=\"data row7 col6\" >2.0000</td>\n",
       "      <td id=\"T_b9b13_row7_col7\" class=\"data row7 col7\" >2.3767</td>\n",
       "    </tr>\n",
       "    <tr>\n",
       "      <th id=\"T_b9b13_level0_row8\" class=\"row_heading level0 row8\" >auto_arima</th>\n",
       "      <td id=\"T_b9b13_row8_col0\" class=\"data row8 col0\" >Auto ARIMA</td>\n",
       "      <td id=\"T_b9b13_row8_col1\" class=\"data row8 col1\" >0.0148</td>\n",
       "      <td id=\"T_b9b13_row8_col2\" class=\"data row8 col2\" >0.0030</td>\n",
       "      <td id=\"T_b9b13_row8_col3\" class=\"data row8 col3\" >0.8658</td>\n",
       "      <td id=\"T_b9b13_row8_col4\" class=\"data row8 col4\" >0.8658</td>\n",
       "      <td id=\"T_b9b13_row8_col5\" class=\"data row8 col5\" >3899071460209228.0000</td>\n",
       "      <td id=\"T_b9b13_row8_col6\" class=\"data row8 col6\" >2.0000</td>\n",
       "      <td id=\"T_b9b13_row8_col7\" class=\"data row8 col7\" >125.9833</td>\n",
       "    </tr>\n",
       "    <tr>\n",
       "      <th id=\"T_b9b13_level0_row9\" class=\"row_heading level0 row9\" >ada_cds_dt</th>\n",
       "      <td id=\"T_b9b13_row9_col0\" class=\"data row9 col0\" >AdaBoost w/ Cond. Deseasonalize & Detrending</td>\n",
       "      <td id=\"T_b9b13_row9_col1\" class=\"data row9 col1\" >0.1741</td>\n",
       "      <td id=\"T_b9b13_row9_col2\" class=\"data row9 col2\" >0.0347</td>\n",
       "      <td id=\"T_b9b13_row9_col3\" class=\"data row9 col3\" >10.1587</td>\n",
       "      <td id=\"T_b9b13_row9_col4\" class=\"data row9 col4\" >10.1587</td>\n",
       "      <td id=\"T_b9b13_row9_col5\" class=\"data row9 col5\" >45750842062045304.0000</td>\n",
       "      <td id=\"T_b9b13_row9_col6\" class=\"data row9 col6\" >2.0000</td>\n",
       "      <td id=\"T_b9b13_row9_col7\" class=\"data row9 col7\" >0.5700</td>\n",
       "    </tr>\n",
       "    <tr>\n",
       "      <th id=\"T_b9b13_level0_row10\" class=\"row_heading level0 row10\" >lasso_cds_dt</th>\n",
       "      <td id=\"T_b9b13_row10_col0\" class=\"data row10 col0\" >Lasso w/ Cond. Deseasonalize & Detrending</td>\n",
       "      <td id=\"T_b9b13_row10_col1\" class=\"data row10 col1\" >0.1923</td>\n",
       "      <td id=\"T_b9b13_row10_col2\" class=\"data row10 col2\" >0.0384</td>\n",
       "      <td id=\"T_b9b13_row10_col3\" class=\"data row10 col3\" >11.2226</td>\n",
       "      <td id=\"T_b9b13_row10_col4\" class=\"data row10 col4\" >11.2226</td>\n",
       "      <td id=\"T_b9b13_row10_col5\" class=\"data row10 col5\" >50542235553851456.0000</td>\n",
       "      <td id=\"T_b9b13_row10_col6\" class=\"data row10 col6\" >2.0000</td>\n",
       "      <td id=\"T_b9b13_row10_col7\" class=\"data row10 col7\" >0.1567</td>\n",
       "    </tr>\n",
       "    <tr>\n",
       "      <th id=\"T_b9b13_level0_row11\" class=\"row_heading level0 row11\" >llar_cds_dt</th>\n",
       "      <td id=\"T_b9b13_row11_col0\" class=\"data row11 col0\" >Lasso Least Angular Regressor w/ Cond. Deseasonalize & Detrending</td>\n",
       "      <td id=\"T_b9b13_row11_col1\" class=\"data row11 col1\" >0.1923</td>\n",
       "      <td id=\"T_b9b13_row11_col2\" class=\"data row11 col2\" >0.0384</td>\n",
       "      <td id=\"T_b9b13_row11_col3\" class=\"data row11 col3\" >11.2225</td>\n",
       "      <td id=\"T_b9b13_row11_col4\" class=\"data row11 col4\" >11.2225</td>\n",
       "      <td id=\"T_b9b13_row11_col5\" class=\"data row11 col5\" >50541811480506728.0000</td>\n",
       "      <td id=\"T_b9b13_row11_col6\" class=\"data row11 col6\" >2.0000</td>\n",
       "      <td id=\"T_b9b13_row11_col7\" class=\"data row11 col7\" >0.1833</td>\n",
       "    </tr>\n",
       "    <tr>\n",
       "      <th id=\"T_b9b13_level0_row12\" class=\"row_heading level0 row12\" >en_cds_dt</th>\n",
       "      <td id=\"T_b9b13_row12_col0\" class=\"data row12 col0\" >Elastic Net w/ Cond. Deseasonalize & Detrending</td>\n",
       "      <td id=\"T_b9b13_row12_col1\" class=\"data row12 col1\" >0.1924</td>\n",
       "      <td id=\"T_b9b13_row12_col2\" class=\"data row12 col2\" >0.0384</td>\n",
       "      <td id=\"T_b9b13_row12_col3\" class=\"data row12 col3\" >11.2303</td>\n",
       "      <td id=\"T_b9b13_row12_col4\" class=\"data row12 col4\" >11.2303</td>\n",
       "      <td id=\"T_b9b13_row12_col5\" class=\"data row12 col5\" >50576788866413408.0000</td>\n",
       "      <td id=\"T_b9b13_row12_col6\" class=\"data row12 col6\" >2.0000</td>\n",
       "      <td id=\"T_b9b13_row12_col7\" class=\"data row12 col7\" >3.0000</td>\n",
       "    </tr>\n",
       "    <tr>\n",
       "      <th id=\"T_b9b13_level0_row13\" class=\"row_heading level0 row13\" >lr_cds_dt</th>\n",
       "      <td id=\"T_b9b13_row13_col0\" class=\"data row13 col0\" >Linear w/ Cond. Deseasonalize & Detrending</td>\n",
       "      <td id=\"T_b9b13_row13_col1\" class=\"data row13 col1\" >0.1926</td>\n",
       "      <td id=\"T_b9b13_row13_col2\" class=\"data row13 col2\" >0.0384</td>\n",
       "      <td id=\"T_b9b13_row13_col3\" class=\"data row13 col3\" >11.2380</td>\n",
       "      <td id=\"T_b9b13_row13_col4\" class=\"data row13 col4\" >11.2380</td>\n",
       "      <td id=\"T_b9b13_row13_col5\" class=\"data row13 col5\" >50611290284203688.0000</td>\n",
       "      <td id=\"T_b9b13_row13_col6\" class=\"data row13 col6\" >2.0000</td>\n",
       "      <td id=\"T_b9b13_row13_col7\" class=\"data row13 col7\" >1.0067</td>\n",
       "    </tr>\n",
       "    <tr>\n",
       "      <th id=\"T_b9b13_level0_row14\" class=\"row_heading level0 row14\" >ridge_cds_dt</th>\n",
       "      <td id=\"T_b9b13_row14_col0\" class=\"data row14 col0\" >Ridge w/ Cond. Deseasonalize & Detrending</td>\n",
       "      <td id=\"T_b9b13_row14_col1\" class=\"data row14 col1\" >0.1926</td>\n",
       "      <td id=\"T_b9b13_row14_col2\" class=\"data row14 col2\" >0.0384</td>\n",
       "      <td id=\"T_b9b13_row14_col3\" class=\"data row14 col3\" >11.2380</td>\n",
       "      <td id=\"T_b9b13_row14_col4\" class=\"data row14 col4\" >11.2380</td>\n",
       "      <td id=\"T_b9b13_row14_col5\" class=\"data row14 col5\" >50611290289697320.0000</td>\n",
       "      <td id=\"T_b9b13_row14_col6\" class=\"data row14 col6\" >2.0000</td>\n",
       "      <td id=\"T_b9b13_row14_col7\" class=\"data row14 col7\" >2.1167</td>\n",
       "    </tr>\n",
       "    <tr>\n",
       "      <th id=\"T_b9b13_level0_row15\" class=\"row_heading level0 row15\" >br_cds_dt</th>\n",
       "      <td id=\"T_b9b13_row15_col0\" class=\"data row15 col0\" >Bayesian Ridge w/ Cond. Deseasonalize & Detrending</td>\n",
       "      <td id=\"T_b9b13_row15_col1\" class=\"data row15 col1\" >0.1926</td>\n",
       "      <td id=\"T_b9b13_row15_col2\" class=\"data row15 col2\" >0.0384</td>\n",
       "      <td id=\"T_b9b13_row15_col3\" class=\"data row15 col3\" >11.2382</td>\n",
       "      <td id=\"T_b9b13_row15_col4\" class=\"data row15 col4\" >11.2382</td>\n",
       "      <td id=\"T_b9b13_row15_col5\" class=\"data row15 col5\" >50612387924021248.0000</td>\n",
       "      <td id=\"T_b9b13_row15_col6\" class=\"data row15 col6\" >2.0000</td>\n",
       "      <td id=\"T_b9b13_row15_col7\" class=\"data row15 col7\" >0.1667</td>\n",
       "    </tr>\n",
       "    <tr>\n",
       "      <th id=\"T_b9b13_level0_row16\" class=\"row_heading level0 row16\" >huber_cds_dt</th>\n",
       "      <td id=\"T_b9b13_row16_col0\" class=\"data row16 col0\" >Huber w/ Cond. Deseasonalize & Detrending</td>\n",
       "      <td id=\"T_b9b13_row16_col1\" class=\"data row16 col1\" >0.1983</td>\n",
       "      <td id=\"T_b9b13_row16_col2\" class=\"data row16 col2\" >0.0396</td>\n",
       "      <td id=\"T_b9b13_row16_col3\" class=\"data row16 col3\" >11.5724</td>\n",
       "      <td id=\"T_b9b13_row16_col4\" class=\"data row16 col4\" >11.5724</td>\n",
       "      <td id=\"T_b9b13_row16_col5\" class=\"data row16 col5\" >52117577701886720.0000</td>\n",
       "      <td id=\"T_b9b13_row16_col6\" class=\"data row16 col6\" >2.0000</td>\n",
       "      <td id=\"T_b9b13_row16_col7\" class=\"data row16 col7\" >0.2600</td>\n",
       "    </tr>\n",
       "    <tr>\n",
       "      <th id=\"T_b9b13_level0_row17\" class=\"row_heading level0 row17\" >omp_cds_dt</th>\n",
       "      <td id=\"T_b9b13_row17_col0\" class=\"data row17 col0\" >Orthogonal Matching Pursuit w/ Cond. Deseasonalize & Detrending</td>\n",
       "      <td id=\"T_b9b13_row17_col1\" class=\"data row17 col1\" >0.2170</td>\n",
       "      <td id=\"T_b9b13_row17_col2\" class=\"data row17 col2\" >0.0433</td>\n",
       "      <td id=\"T_b9b13_row17_col3\" class=\"data row17 col3\" >12.6659</td>\n",
       "      <td id=\"T_b9b13_row17_col4\" class=\"data row17 col4\" >12.6659</td>\n",
       "      <td id=\"T_b9b13_row17_col5\" class=\"data row17 col5\" >57042332994935016.0000</td>\n",
       "      <td id=\"T_b9b13_row17_col6\" class=\"data row17 col6\" >2.0000</td>\n",
       "      <td id=\"T_b9b13_row17_col7\" class=\"data row17 col7\" >0.1567</td>\n",
       "    </tr>\n",
       "    <tr>\n",
       "      <th id=\"T_b9b13_level0_row18\" class=\"row_heading level0 row18\" >croston</th>\n",
       "      <td id=\"T_b9b13_row18_col0\" class=\"data row18 col0\" >Croston</td>\n",
       "      <td id=\"T_b9b13_row18_col1\" class=\"data row18 col1\" >0.9729</td>\n",
       "      <td id=\"T_b9b13_row18_col2\" class=\"data row18 col2\" >0.1942</td>\n",
       "      <td id=\"T_b9b13_row18_col3\" class=\"data row18 col3\" >56.7767</td>\n",
       "      <td id=\"T_b9b13_row18_col4\" class=\"data row18 col4\" >56.7767</td>\n",
       "      <td id=\"T_b9b13_row18_col5\" class=\"data row18 col5\" >255699436297991712.0000</td>\n",
       "      <td id=\"T_b9b13_row18_col6\" class=\"data row18 col6\" >2.0000</td>\n",
       "      <td id=\"T_b9b13_row18_col7\" class=\"data row18 col7\" >0.1333</td>\n",
       "    </tr>\n",
       "  </tbody>\n",
       "</table>\n"
      ],
      "text/plain": [
       "<pandas.io.formats.style.Styler at 0x20017c7c070>"
      ]
     },
     "metadata": {},
     "output_type": "display_data"
    },
    {
     "data": {
      "application/vnd.jupyter.widget-view+json": {
       "model_id": "",
       "version_major": 2,
       "version_minor": 0
      },
      "text/plain": [
       "Processing:   0%|          | 0/85 [00:00<?, ?it/s]"
      ]
     },
     "metadata": {},
     "output_type": "display_data"
    }
   ],
   "source": [
    "best_model = compare_models()\n"
   ]
  },
  {
   "cell_type": "code",
   "execution_count": 38,
   "metadata": {},
   "outputs": [
    {
     "data": {
      "text/html": [],
      "text/plain": [
       "<IPython.core.display.HTML object>"
      ]
     },
     "metadata": {},
     "output_type": "display_data"
    },
    {
     "data": {
      "text/html": [
       "<style type=\"text/css\">\n",
       "#T_6dcbe_row3_col0, #T_6dcbe_row3_col1, #T_6dcbe_row3_col2, #T_6dcbe_row3_col3, #T_6dcbe_row3_col4, #T_6dcbe_row3_col5, #T_6dcbe_row3_col6 {\n",
       "  background: yellow;\n",
       "}\n",
       "</style>\n",
       "<table id=\"T_6dcbe\">\n",
       "  <thead>\n",
       "    <tr>\n",
       "      <th class=\"blank level0\" >&nbsp;</th>\n",
       "      <th id=\"T_6dcbe_level0_col0\" class=\"col_heading level0 col0\" >cutoff</th>\n",
       "      <th id=\"T_6dcbe_level0_col1\" class=\"col_heading level0 col1\" >MASE</th>\n",
       "      <th id=\"T_6dcbe_level0_col2\" class=\"col_heading level0 col2\" >RMSSE</th>\n",
       "      <th id=\"T_6dcbe_level0_col3\" class=\"col_heading level0 col3\" >MAE</th>\n",
       "      <th id=\"T_6dcbe_level0_col4\" class=\"col_heading level0 col4\" >RMSE</th>\n",
       "      <th id=\"T_6dcbe_level0_col5\" class=\"col_heading level0 col5\" >MAPE</th>\n",
       "      <th id=\"T_6dcbe_level0_col6\" class=\"col_heading level0 col6\" >SMAPE</th>\n",
       "    </tr>\n",
       "  </thead>\n",
       "  <tbody>\n",
       "    <tr>\n",
       "      <th id=\"T_6dcbe_level0_row0\" class=\"row_heading level0 row0\" >0</th>\n",
       "      <td id=\"T_6dcbe_row0_col0\" class=\"data row0 col0\" >2018-11-26</td>\n",
       "      <td id=\"T_6dcbe_row0_col1\" class=\"data row0 col1\" >0.0000</td>\n",
       "      <td id=\"T_6dcbe_row0_col2\" class=\"data row0 col2\" >0.0000</td>\n",
       "      <td id=\"T_6dcbe_row0_col3\" class=\"data row0 col3\" >0.0000</td>\n",
       "      <td id=\"T_6dcbe_row0_col4\" class=\"data row0 col4\" >0.0000</td>\n",
       "      <td id=\"T_6dcbe_row0_col5\" class=\"data row0 col5\" >4.3460</td>\n",
       "      <td id=\"T_6dcbe_row0_col6\" class=\"data row0 col6\" >2.0000</td>\n",
       "    </tr>\n",
       "    <tr>\n",
       "      <th id=\"T_6dcbe_level0_row1\" class=\"row_heading level0 row1\" >1</th>\n",
       "      <td id=\"T_6dcbe_row1_col0\" class=\"data row1 col0\" >2018-11-27</td>\n",
       "      <td id=\"T_6dcbe_row1_col1\" class=\"data row1 col1\" >0.0000</td>\n",
       "      <td id=\"T_6dcbe_row1_col2\" class=\"data row1 col2\" >0.0000</td>\n",
       "      <td id=\"T_6dcbe_row1_col3\" class=\"data row1 col3\" >0.0000</td>\n",
       "      <td id=\"T_6dcbe_row1_col4\" class=\"data row1 col4\" >0.0000</td>\n",
       "      <td id=\"T_6dcbe_row1_col5\" class=\"data row1 col5\" >13.0576</td>\n",
       "      <td id=\"T_6dcbe_row1_col6\" class=\"data row1 col6\" >2.0000</td>\n",
       "    </tr>\n",
       "    <tr>\n",
       "      <th id=\"T_6dcbe_level0_row2\" class=\"row_heading level0 row2\" >2</th>\n",
       "      <td id=\"T_6dcbe_row2_col0\" class=\"data row2 col0\" >2018-11-28</td>\n",
       "      <td id=\"T_6dcbe_row2_col1\" class=\"data row2 col1\" >0.0000</td>\n",
       "      <td id=\"T_6dcbe_row2_col2\" class=\"data row2 col2\" >0.0000</td>\n",
       "      <td id=\"T_6dcbe_row2_col3\" class=\"data row2 col3\" >0.0000</td>\n",
       "      <td id=\"T_6dcbe_row2_col4\" class=\"data row2 col4\" >0.0000</td>\n",
       "      <td id=\"T_6dcbe_row2_col5\" class=\"data row2 col5\" >0.5786</td>\n",
       "      <td id=\"T_6dcbe_row2_col6\" class=\"data row2 col6\" >1.1571</td>\n",
       "    </tr>\n",
       "    <tr>\n",
       "      <th id=\"T_6dcbe_level0_row3\" class=\"row_heading level0 row3\" >Mean</th>\n",
       "      <td id=\"T_6dcbe_row3_col0\" class=\"data row3 col0\" >NaT</td>\n",
       "      <td id=\"T_6dcbe_row3_col1\" class=\"data row3 col1\" >0.0000</td>\n",
       "      <td id=\"T_6dcbe_row3_col2\" class=\"data row3 col2\" >0.0000</td>\n",
       "      <td id=\"T_6dcbe_row3_col3\" class=\"data row3 col3\" >0.0000</td>\n",
       "      <td id=\"T_6dcbe_row3_col4\" class=\"data row3 col4\" >0.0000</td>\n",
       "      <td id=\"T_6dcbe_row3_col5\" class=\"data row3 col5\" >5.9940</td>\n",
       "      <td id=\"T_6dcbe_row3_col6\" class=\"data row3 col6\" >1.7190</td>\n",
       "    </tr>\n",
       "    <tr>\n",
       "      <th id=\"T_6dcbe_level0_row4\" class=\"row_heading level0 row4\" >SD</th>\n",
       "      <td id=\"T_6dcbe_row4_col0\" class=\"data row4 col0\" >NaT</td>\n",
       "      <td id=\"T_6dcbe_row4_col1\" class=\"data row4 col1\" >0.0000</td>\n",
       "      <td id=\"T_6dcbe_row4_col2\" class=\"data row4 col2\" >0.0000</td>\n",
       "      <td id=\"T_6dcbe_row4_col3\" class=\"data row4 col3\" >0.0000</td>\n",
       "      <td id=\"T_6dcbe_row4_col4\" class=\"data row4 col4\" >0.0000</td>\n",
       "      <td id=\"T_6dcbe_row4_col5\" class=\"data row4 col5\" >5.2261</td>\n",
       "      <td id=\"T_6dcbe_row4_col6\" class=\"data row4 col6\" >0.3973</td>\n",
       "    </tr>\n",
       "  </tbody>\n",
       "</table>\n"
      ],
      "text/plain": [
       "<pandas.io.formats.style.Styler at 0x200190890c0>"
      ]
     },
     "metadata": {},
     "output_type": "display_data"
    },
    {
     "data": {
      "application/vnd.jupyter.widget-view+json": {
       "model_id": "",
       "version_major": 2,
       "version_minor": 0
      },
      "text/plain": [
       "Processing:   0%|          | 0/4 [00:00<?, ?it/s]"
      ]
     },
     "metadata": {},
     "output_type": "display_data"
    },
    {
     "data": {
      "text/html": [],
      "text/plain": [
       "<IPython.core.display.HTML object>"
      ]
     },
     "metadata": {},
     "output_type": "display_data"
    },
    {
     "data": {
      "text/html": [
       "<style type=\"text/css\">\n",
       "#T_4ebce_row3_col0, #T_4ebce_row3_col1, #T_4ebce_row3_col2, #T_4ebce_row3_col3, #T_4ebce_row3_col4, #T_4ebce_row3_col5, #T_4ebce_row3_col6 {\n",
       "  background: yellow;\n",
       "}\n",
       "</style>\n",
       "<table id=\"T_4ebce\">\n",
       "  <thead>\n",
       "    <tr>\n",
       "      <th class=\"blank level0\" >&nbsp;</th>\n",
       "      <th id=\"T_4ebce_level0_col0\" class=\"col_heading level0 col0\" >cutoff</th>\n",
       "      <th id=\"T_4ebce_level0_col1\" class=\"col_heading level0 col1\" >MASE</th>\n",
       "      <th id=\"T_4ebce_level0_col2\" class=\"col_heading level0 col2\" >RMSSE</th>\n",
       "      <th id=\"T_4ebce_level0_col3\" class=\"col_heading level0 col3\" >MAE</th>\n",
       "      <th id=\"T_4ebce_level0_col4\" class=\"col_heading level0 col4\" >RMSE</th>\n",
       "      <th id=\"T_4ebce_level0_col5\" class=\"col_heading level0 col5\" >MAPE</th>\n",
       "      <th id=\"T_4ebce_level0_col6\" class=\"col_heading level0 col6\" >SMAPE</th>\n",
       "    </tr>\n",
       "  </thead>\n",
       "  <tbody>\n",
       "    <tr>\n",
       "      <th id=\"T_4ebce_level0_row0\" class=\"row_heading level0 row0\" >0</th>\n",
       "      <td id=\"T_4ebce_row0_col0\" class=\"data row0 col0\" >2018-11-26</td>\n",
       "      <td id=\"T_4ebce_row0_col1\" class=\"data row0 col1\" >0.0000</td>\n",
       "      <td id=\"T_4ebce_row0_col2\" class=\"data row0 col2\" >0.0000</td>\n",
       "      <td id=\"T_4ebce_row0_col3\" class=\"data row0 col3\" >0.0000</td>\n",
       "      <td id=\"T_4ebce_row0_col4\" class=\"data row0 col4\" >0.0000</td>\n",
       "      <td id=\"T_4ebce_row0_col5\" class=\"data row0 col5\" >0.0000</td>\n",
       "      <td id=\"T_4ebce_row0_col6\" class=\"data row0 col6\" >0.0000</td>\n",
       "    </tr>\n",
       "    <tr>\n",
       "      <th id=\"T_4ebce_level0_row1\" class=\"row_heading level0 row1\" >1</th>\n",
       "      <td id=\"T_4ebce_row1_col0\" class=\"data row1 col0\" >2018-11-27</td>\n",
       "      <td id=\"T_4ebce_row1_col1\" class=\"data row1 col1\" >0.0000</td>\n",
       "      <td id=\"T_4ebce_row1_col2\" class=\"data row1 col2\" >0.0000</td>\n",
       "      <td id=\"T_4ebce_row1_col3\" class=\"data row1 col3\" >0.0000</td>\n",
       "      <td id=\"T_4ebce_row1_col4\" class=\"data row1 col4\" >0.0000</td>\n",
       "      <td id=\"T_4ebce_row1_col5\" class=\"data row1 col5\" >0.0000</td>\n",
       "      <td id=\"T_4ebce_row1_col6\" class=\"data row1 col6\" >0.0000</td>\n",
       "    </tr>\n",
       "    <tr>\n",
       "      <th id=\"T_4ebce_level0_row2\" class=\"row_heading level0 row2\" >2</th>\n",
       "      <td id=\"T_4ebce_row2_col0\" class=\"data row2 col0\" >2018-11-28</td>\n",
       "      <td id=\"T_4ebce_row2_col1\" class=\"data row2 col1\" >0.0000</td>\n",
       "      <td id=\"T_4ebce_row2_col2\" class=\"data row2 col2\" >0.0000</td>\n",
       "      <td id=\"T_4ebce_row2_col3\" class=\"data row2 col3\" >0.0000</td>\n",
       "      <td id=\"T_4ebce_row2_col4\" class=\"data row2 col4\" >0.0000</td>\n",
       "      <td id=\"T_4ebce_row2_col5\" class=\"data row2 col5\" >0.0000</td>\n",
       "      <td id=\"T_4ebce_row2_col6\" class=\"data row2 col6\" >0.0000</td>\n",
       "    </tr>\n",
       "    <tr>\n",
       "      <th id=\"T_4ebce_level0_row3\" class=\"row_heading level0 row3\" >Mean</th>\n",
       "      <td id=\"T_4ebce_row3_col0\" class=\"data row3 col0\" >NaT</td>\n",
       "      <td id=\"T_4ebce_row3_col1\" class=\"data row3 col1\" >0.0000</td>\n",
       "      <td id=\"T_4ebce_row3_col2\" class=\"data row3 col2\" >0.0000</td>\n",
       "      <td id=\"T_4ebce_row3_col3\" class=\"data row3 col3\" >0.0000</td>\n",
       "      <td id=\"T_4ebce_row3_col4\" class=\"data row3 col4\" >0.0000</td>\n",
       "      <td id=\"T_4ebce_row3_col5\" class=\"data row3 col5\" >0.0000</td>\n",
       "      <td id=\"T_4ebce_row3_col6\" class=\"data row3 col6\" >0.0000</td>\n",
       "    </tr>\n",
       "    <tr>\n",
       "      <th id=\"T_4ebce_level0_row4\" class=\"row_heading level0 row4\" >SD</th>\n",
       "      <td id=\"T_4ebce_row4_col0\" class=\"data row4 col0\" >NaT</td>\n",
       "      <td id=\"T_4ebce_row4_col1\" class=\"data row4 col1\" >0.0000</td>\n",
       "      <td id=\"T_4ebce_row4_col2\" class=\"data row4 col2\" >0.0000</td>\n",
       "      <td id=\"T_4ebce_row4_col3\" class=\"data row4 col3\" >0.0000</td>\n",
       "      <td id=\"T_4ebce_row4_col4\" class=\"data row4 col4\" >0.0000</td>\n",
       "      <td id=\"T_4ebce_row4_col5\" class=\"data row4 col5\" >0.0000</td>\n",
       "      <td id=\"T_4ebce_row4_col6\" class=\"data row4 col6\" >0.0000</td>\n",
       "    </tr>\n",
       "  </tbody>\n",
       "</table>\n"
      ],
      "text/plain": [
       "<pandas.io.formats.style.Styler at 0x2001758ef50>"
      ]
     },
     "metadata": {},
     "output_type": "display_data"
    },
    {
     "data": {
      "application/vnd.jupyter.widget-view+json": {
       "model_id": "",
       "version_major": 2,
       "version_minor": 0
      },
      "text/plain": [
       "Processing:   0%|          | 0/7 [00:00<?, ?it/s]"
      ]
     },
     "metadata": {},
     "output_type": "display_data"
    },
    {
     "name": "stdout",
     "output_type": "stream",
     "text": [
      "Fitting 3 folds for each of 10 candidates, totalling 30 fits\n"
     ]
    },
    {
     "name": "stderr",
     "output_type": "stream",
     "text": [
      "[Parallel(n_jobs=-1)]: Using backend LokyBackend with 8 concurrent workers.\n",
      "[Parallel(n_jobs=-1)]: Done  30 out of  30 | elapsed: 12.0min finished\n"
     ]
    }
   ],
   "source": [
    "model = create_model('arima')  # Example with ARIMA model\n",
    "tuned_model = tune_model(model)"
   ]
  },
  {
   "cell_type": "code",
   "execution_count": 39,
   "metadata": {},
   "outputs": [
    {
     "ename": "ValueError",
     "evalue": "X array dims (n_rows) != n_periods. Received n_rows=1 and n_periods=12",
     "output_type": "error",
     "traceback": [
      "\u001b[1;31m---------------------------------------------------------------------------\u001b[0m",
      "\u001b[1;31mValueError\u001b[0m                                Traceback (most recent call last)",
      "Cell \u001b[1;32mIn[39], line 1\u001b[0m\n\u001b[1;32m----> 1\u001b[0m future_predictions \u001b[38;5;241m=\u001b[39m \u001b[43mpredict_model\u001b[49m\u001b[43m(\u001b[49m\u001b[43mtuned_model\u001b[49m\u001b[43m,\u001b[49m\u001b[43m \u001b[49m\u001b[43mfh\u001b[49m\u001b[38;5;241;43m=\u001b[39;49m\u001b[38;5;241;43m12\u001b[39;49m\u001b[43m)\u001b[49m\n",
      "File \u001b[1;32m~\\anaconda3\\lib\\site-packages\\pycaret\\time_series\\forecasting\\functional.py:1492\u001b[0m, in \u001b[0;36mpredict_model\u001b[1;34m(estimator, fh, X, return_pred_int, alpha, coverage, round, verbose)\u001b[0m\n\u001b[0;32m   1489\u001b[0m \u001b[38;5;28;01mif\u001b[39;00m experiment \u001b[38;5;129;01mis\u001b[39;00m \u001b[38;5;28;01mNone\u001b[39;00m:\n\u001b[0;32m   1490\u001b[0m     experiment \u001b[38;5;241m=\u001b[39m _EXPERIMENT_CLASS()\n\u001b[1;32m-> 1492\u001b[0m \u001b[38;5;28;01mreturn\u001b[39;00m \u001b[43mexperiment\u001b[49m\u001b[38;5;241;43m.\u001b[39;49m\u001b[43mpredict_model\u001b[49m\u001b[43m(\u001b[49m\n\u001b[0;32m   1493\u001b[0m \u001b[43m    \u001b[49m\u001b[43mestimator\u001b[49m\u001b[38;5;241;43m=\u001b[39;49m\u001b[43mestimator\u001b[49m\u001b[43m,\u001b[49m\n\u001b[0;32m   1494\u001b[0m \u001b[43m    \u001b[49m\u001b[43mfh\u001b[49m\u001b[38;5;241;43m=\u001b[39;49m\u001b[43mfh\u001b[49m\u001b[43m,\u001b[49m\n\u001b[0;32m   1495\u001b[0m \u001b[43m    \u001b[49m\u001b[43mX\u001b[49m\u001b[38;5;241;43m=\u001b[39;49m\u001b[43mX\u001b[49m\u001b[43m,\u001b[49m\n\u001b[0;32m   1496\u001b[0m \u001b[43m    \u001b[49m\u001b[43mreturn_pred_int\u001b[49m\u001b[38;5;241;43m=\u001b[39;49m\u001b[43mreturn_pred_int\u001b[49m\u001b[43m,\u001b[49m\n\u001b[0;32m   1497\u001b[0m \u001b[43m    \u001b[49m\u001b[43malpha\u001b[49m\u001b[38;5;241;43m=\u001b[39;49m\u001b[43malpha\u001b[49m\u001b[43m,\u001b[49m\n\u001b[0;32m   1498\u001b[0m \u001b[43m    \u001b[49m\u001b[43mcoverage\u001b[49m\u001b[38;5;241;43m=\u001b[39;49m\u001b[43mcoverage\u001b[49m\u001b[43m,\u001b[49m\n\u001b[0;32m   1499\u001b[0m \u001b[43m    \u001b[49m\u001b[38;5;28;43mround\u001b[39;49m\u001b[38;5;241;43m=\u001b[39;49m\u001b[38;5;28;43mround\u001b[39;49m\u001b[43m,\u001b[49m\n\u001b[0;32m   1500\u001b[0m \u001b[43m    \u001b[49m\u001b[43mverbose\u001b[49m\u001b[38;5;241;43m=\u001b[39;49m\u001b[43mverbose\u001b[49m\u001b[43m,\u001b[49m\n\u001b[0;32m   1501\u001b[0m \u001b[43m\u001b[49m\u001b[43m)\u001b[49m\n",
      "File \u001b[1;32m~\\anaconda3\\lib\\site-packages\\pycaret\\time_series\\forecasting\\oop.py:4567\u001b[0m, in \u001b[0;36mTSForecastingExperiment.predict_model\u001b[1;34m(self, estimator, fh, X, return_pred_int, alpha, coverage, round, verbose)\u001b[0m\n\u001b[0;32m   4564\u001b[0m fh \u001b[38;5;241m=\u001b[39m \u001b[38;5;28mself\u001b[39m\u001b[38;5;241m.\u001b[39m_predict_model_reconcile_fh(estimator\u001b[38;5;241m=\u001b[39mestimator_, fh\u001b[38;5;241m=\u001b[39mfh)\n\u001b[0;32m   4565\u001b[0m X \u001b[38;5;241m=\u001b[39m \u001b[38;5;28mself\u001b[39m\u001b[38;5;241m.\u001b[39m_predict_model_reconcile_X(estimator\u001b[38;5;241m=\u001b[39mestimator_, X\u001b[38;5;241m=\u001b[39mX)\n\u001b[1;32m-> 4567\u001b[0m result \u001b[38;5;241m=\u001b[39m \u001b[43mget_predictions_with_intervals\u001b[49m\u001b[43m(\u001b[49m\n\u001b[0;32m   4568\u001b[0m \u001b[43m    \u001b[49m\u001b[43mforecaster\u001b[49m\u001b[38;5;241;43m=\u001b[39;49m\u001b[43mpipeline_with_model\u001b[49m\u001b[43m,\u001b[49m\n\u001b[0;32m   4569\u001b[0m \u001b[43m    \u001b[49m\u001b[43malpha\u001b[49m\u001b[38;5;241;43m=\u001b[39;49m\u001b[43malpha\u001b[49m\u001b[43m,\u001b[49m\n\u001b[0;32m   4570\u001b[0m \u001b[43m    \u001b[49m\u001b[43mcoverage\u001b[49m\u001b[38;5;241;43m=\u001b[39;49m\u001b[43mcoverage\u001b[49m\u001b[43m,\u001b[49m\n\u001b[0;32m   4571\u001b[0m \u001b[43m    \u001b[49m\u001b[43mX\u001b[49m\u001b[38;5;241;43m=\u001b[39;49m\u001b[43mX\u001b[49m\u001b[43m,\u001b[49m\n\u001b[0;32m   4572\u001b[0m \u001b[43m    \u001b[49m\u001b[43mfh\u001b[49m\u001b[38;5;241;43m=\u001b[39;49m\u001b[43mfh\u001b[49m\u001b[43m,\u001b[49m\n\u001b[0;32m   4573\u001b[0m \u001b[43m    \u001b[49m\u001b[43mmerge\u001b[49m\u001b[38;5;241;43m=\u001b[39;49m\u001b[38;5;28;43;01mTrue\u001b[39;49;00m\u001b[43m,\u001b[49m\n\u001b[0;32m   4574\u001b[0m \u001b[43m    \u001b[49m\u001b[38;5;28;43mround\u001b[39;49m\u001b[38;5;241;43m=\u001b[39;49m\u001b[38;5;28;43mround\u001b[39;49m\u001b[43m,\u001b[49m\n\u001b[0;32m   4575\u001b[0m \u001b[43m\u001b[49m\u001b[43m)\u001b[49m\n\u001b[0;32m   4576\u001b[0m y_pred \u001b[38;5;241m=\u001b[39m pd\u001b[38;5;241m.\u001b[39mDataFrame(result[\u001b[38;5;124m\"\u001b[39m\u001b[38;5;124my_pred\u001b[39m\u001b[38;5;124m\"\u001b[39m])\n\u001b[0;32m   4578\u001b[0m \u001b[38;5;66;03m#################\u001b[39;00m\n\u001b[0;32m   4579\u001b[0m \u001b[38;5;66;03m# Metrics ####\u001b[39;00m\n\u001b[0;32m   4580\u001b[0m \u001b[38;5;66;03m#################\u001b[39;00m\n",
      "File \u001b[1;32m~\\anaconda3\\lib\\site-packages\\pycaret\\utils\\time_series\\forecasting\\__init__.py:110\u001b[0m, in \u001b[0;36mget_predictions_with_intervals\u001b[1;34m(forecaster, alpha, coverage, X, fh, merge, round)\u001b[0m\n\u001b[0;32m    108\u001b[0m \u001b[38;5;66;03m# Get Point predictions ----\u001b[39;00m\n\u001b[0;32m    109\u001b[0m \u001b[38;5;28;01mif\u001b[39;00m alpha \u001b[38;5;129;01mis\u001b[39;00m \u001b[38;5;28;01mNone\u001b[39;00m:\n\u001b[1;32m--> 110\u001b[0m     y_pred \u001b[38;5;241m=\u001b[39m \u001b[43mforecaster\u001b[49m\u001b[38;5;241;43m.\u001b[39;49m\u001b[43mpredict\u001b[49m\u001b[43m(\u001b[49m\u001b[43mfh\u001b[49m\u001b[38;5;241;43m=\u001b[39;49m\u001b[43mfh\u001b[49m\u001b[43m,\u001b[49m\u001b[43m \u001b[49m\u001b[43mX\u001b[49m\u001b[38;5;241;43m=\u001b[39;49m\u001b[43mX\u001b[49m\u001b[43m)\u001b[49m\n\u001b[0;32m    111\u001b[0m     y_pred \u001b[38;5;241m=\u001b[39m pd\u001b[38;5;241m.\u001b[39mDataFrame({\u001b[38;5;124m\"\u001b[39m\u001b[38;5;124my_pred\u001b[39m\u001b[38;5;124m\"\u001b[39m: y_pred})\n\u001b[0;32m    112\u001b[0m \u001b[38;5;28;01melse\u001b[39;00m:\n",
      "File \u001b[1;32m~\\anaconda3\\lib\\site-packages\\sktime\\forecasting\\base\\_base.py:431\u001b[0m, in \u001b[0;36mBaseForecaster.predict\u001b[1;34m(self, fh, X)\u001b[0m\n\u001b[0;32m    429\u001b[0m \u001b[38;5;66;03m# we call the ordinary _predict if no looping/vectorization needed\u001b[39;00m\n\u001b[0;32m    430\u001b[0m \u001b[38;5;28;01mif\u001b[39;00m \u001b[38;5;129;01mnot\u001b[39;00m \u001b[38;5;28mself\u001b[39m\u001b[38;5;241m.\u001b[39m_is_vectorized:\n\u001b[1;32m--> 431\u001b[0m     y_pred \u001b[38;5;241m=\u001b[39m \u001b[38;5;28;43mself\u001b[39;49m\u001b[38;5;241;43m.\u001b[39;49m\u001b[43m_predict\u001b[49m\u001b[43m(\u001b[49m\u001b[43mfh\u001b[49m\u001b[38;5;241;43m=\u001b[39;49m\u001b[43mfh\u001b[49m\u001b[43m,\u001b[49m\u001b[43m \u001b[49m\u001b[43mX\u001b[49m\u001b[38;5;241;43m=\u001b[39;49m\u001b[43mX_inner\u001b[49m\u001b[43m)\u001b[49m\n\u001b[0;32m    432\u001b[0m \u001b[38;5;28;01melse\u001b[39;00m:\n\u001b[0;32m    433\u001b[0m     \u001b[38;5;66;03m# otherwise we call the vectorized version of predict\u001b[39;00m\n\u001b[0;32m    434\u001b[0m     y_pred \u001b[38;5;241m=\u001b[39m \u001b[38;5;28mself\u001b[39m\u001b[38;5;241m.\u001b[39m_vectorize(\u001b[38;5;124m\"\u001b[39m\u001b[38;5;124mpredict\u001b[39m\u001b[38;5;124m\"\u001b[39m, X\u001b[38;5;241m=\u001b[39mX_inner, fh\u001b[38;5;241m=\u001b[39mfh)\n",
      "File \u001b[1;32m~\\anaconda3\\lib\\site-packages\\sktime\\forecasting\\compose\\_pipeline.py:521\u001b[0m, in \u001b[0;36mForecastingPipeline._predict\u001b[1;34m(self, fh, X)\u001b[0m\n\u001b[0;32m    506\u001b[0m \u001b[38;5;250m\u001b[39m\u001b[38;5;124;03m\"\"\"Forecast time series at future horizon.\u001b[39;00m\n\u001b[0;32m    507\u001b[0m \n\u001b[0;32m    508\u001b[0m \u001b[38;5;124;03mParameters\u001b[39;00m\n\u001b[1;32m   (...)\u001b[0m\n\u001b[0;32m    518\u001b[0m \u001b[38;5;124;03m    Point predictions\u001b[39;00m\n\u001b[0;32m    519\u001b[0m \u001b[38;5;124;03m\"\"\"\u001b[39;00m\n\u001b[0;32m    520\u001b[0m X \u001b[38;5;241m=\u001b[39m \u001b[38;5;28mself\u001b[39m\u001b[38;5;241m.\u001b[39m_transform(X\u001b[38;5;241m=\u001b[39mX, y\u001b[38;5;241m=\u001b[39mfh)\n\u001b[1;32m--> 521\u001b[0m \u001b[38;5;28;01mreturn\u001b[39;00m \u001b[38;5;28;43mself\u001b[39;49m\u001b[38;5;241;43m.\u001b[39;49m\u001b[43mforecaster_\u001b[49m\u001b[38;5;241;43m.\u001b[39;49m\u001b[43mpredict\u001b[49m\u001b[43m(\u001b[49m\u001b[43mfh\u001b[49m\u001b[43m,\u001b[49m\u001b[43m \u001b[49m\u001b[43mX\u001b[49m\u001b[43m)\u001b[49m\n",
      "File \u001b[1;32m~\\anaconda3\\lib\\site-packages\\sktime\\forecasting\\base\\_base.py:431\u001b[0m, in \u001b[0;36mBaseForecaster.predict\u001b[1;34m(self, fh, X)\u001b[0m\n\u001b[0;32m    429\u001b[0m \u001b[38;5;66;03m# we call the ordinary _predict if no looping/vectorization needed\u001b[39;00m\n\u001b[0;32m    430\u001b[0m \u001b[38;5;28;01mif\u001b[39;00m \u001b[38;5;129;01mnot\u001b[39;00m \u001b[38;5;28mself\u001b[39m\u001b[38;5;241m.\u001b[39m_is_vectorized:\n\u001b[1;32m--> 431\u001b[0m     y_pred \u001b[38;5;241m=\u001b[39m \u001b[38;5;28;43mself\u001b[39;49m\u001b[38;5;241;43m.\u001b[39;49m\u001b[43m_predict\u001b[49m\u001b[43m(\u001b[49m\u001b[43mfh\u001b[49m\u001b[38;5;241;43m=\u001b[39;49m\u001b[43mfh\u001b[49m\u001b[43m,\u001b[49m\u001b[43m \u001b[49m\u001b[43mX\u001b[49m\u001b[38;5;241;43m=\u001b[39;49m\u001b[43mX_inner\u001b[49m\u001b[43m)\u001b[49m\n\u001b[0;32m    432\u001b[0m \u001b[38;5;28;01melse\u001b[39;00m:\n\u001b[0;32m    433\u001b[0m     \u001b[38;5;66;03m# otherwise we call the vectorized version of predict\u001b[39;00m\n\u001b[0;32m    434\u001b[0m     y_pred \u001b[38;5;241m=\u001b[39m \u001b[38;5;28mself\u001b[39m\u001b[38;5;241m.\u001b[39m_vectorize(\u001b[38;5;124m\"\u001b[39m\u001b[38;5;124mpredict\u001b[39m\u001b[38;5;124m\"\u001b[39m, X\u001b[38;5;241m=\u001b[39mX_inner, fh\u001b[38;5;241m=\u001b[39mfh)\n",
      "File \u001b[1;32m~\\anaconda3\\lib\\site-packages\\sktime\\forecasting\\compose\\_pipeline.py:1032\u001b[0m, in \u001b[0;36mTransformedTargetForecaster._predict\u001b[1;34m(self, fh, X)\u001b[0m\n\u001b[0;32m   1017\u001b[0m \u001b[38;5;28;01mdef\u001b[39;00m \u001b[38;5;21m_predict\u001b[39m(\u001b[38;5;28mself\u001b[39m, fh\u001b[38;5;241m=\u001b[39m\u001b[38;5;28;01mNone\u001b[39;00m, X\u001b[38;5;241m=\u001b[39m\u001b[38;5;28;01mNone\u001b[39;00m):\n\u001b[0;32m   1018\u001b[0m \u001b[38;5;250m    \u001b[39m\u001b[38;5;124;03m\"\"\"Forecast time series at future horizon.\u001b[39;00m\n\u001b[0;32m   1019\u001b[0m \n\u001b[0;32m   1020\u001b[0m \u001b[38;5;124;03m    Parameters\u001b[39;00m\n\u001b[1;32m   (...)\u001b[0m\n\u001b[0;32m   1030\u001b[0m \u001b[38;5;124;03m        Point predictions\u001b[39;00m\n\u001b[0;32m   1031\u001b[0m \u001b[38;5;124;03m    \"\"\"\u001b[39;00m\n\u001b[1;32m-> 1032\u001b[0m     y_pred \u001b[38;5;241m=\u001b[39m \u001b[38;5;28;43mself\u001b[39;49m\u001b[38;5;241;43m.\u001b[39;49m\u001b[43mforecaster_\u001b[49m\u001b[38;5;241;43m.\u001b[39;49m\u001b[43mpredict\u001b[49m\u001b[43m(\u001b[49m\u001b[43mfh\u001b[49m\u001b[38;5;241;43m=\u001b[39;49m\u001b[43mfh\u001b[49m\u001b[43m,\u001b[49m\u001b[43m \u001b[49m\u001b[43mX\u001b[49m\u001b[38;5;241;43m=\u001b[39;49m\u001b[43mX\u001b[49m\u001b[43m)\u001b[49m\n\u001b[0;32m   1033\u001b[0m     \u001b[38;5;66;03m# inverse transform y_pred\u001b[39;00m\n\u001b[0;32m   1034\u001b[0m     y_pred \u001b[38;5;241m=\u001b[39m \u001b[38;5;28mself\u001b[39m\u001b[38;5;241m.\u001b[39m_get_inverse_transform(\u001b[38;5;28mself\u001b[39m\u001b[38;5;241m.\u001b[39mtransformers_pre_, y_pred, X)\n",
      "File \u001b[1;32m~\\anaconda3\\lib\\site-packages\\sktime\\forecasting\\base\\_base.py:431\u001b[0m, in \u001b[0;36mBaseForecaster.predict\u001b[1;34m(self, fh, X)\u001b[0m\n\u001b[0;32m    429\u001b[0m \u001b[38;5;66;03m# we call the ordinary _predict if no looping/vectorization needed\u001b[39;00m\n\u001b[0;32m    430\u001b[0m \u001b[38;5;28;01mif\u001b[39;00m \u001b[38;5;129;01mnot\u001b[39;00m \u001b[38;5;28mself\u001b[39m\u001b[38;5;241m.\u001b[39m_is_vectorized:\n\u001b[1;32m--> 431\u001b[0m     y_pred \u001b[38;5;241m=\u001b[39m \u001b[38;5;28;43mself\u001b[39;49m\u001b[38;5;241;43m.\u001b[39;49m\u001b[43m_predict\u001b[49m\u001b[43m(\u001b[49m\u001b[43mfh\u001b[49m\u001b[38;5;241;43m=\u001b[39;49m\u001b[43mfh\u001b[49m\u001b[43m,\u001b[49m\u001b[43m \u001b[49m\u001b[43mX\u001b[49m\u001b[38;5;241;43m=\u001b[39;49m\u001b[43mX_inner\u001b[49m\u001b[43m)\u001b[49m\n\u001b[0;32m    432\u001b[0m \u001b[38;5;28;01melse\u001b[39;00m:\n\u001b[0;32m    433\u001b[0m     \u001b[38;5;66;03m# otherwise we call the vectorized version of predict\u001b[39;00m\n\u001b[0;32m    434\u001b[0m     y_pred \u001b[38;5;241m=\u001b[39m \u001b[38;5;28mself\u001b[39m\u001b[38;5;241m.\u001b[39m_vectorize(\u001b[38;5;124m\"\u001b[39m\u001b[38;5;124mpredict\u001b[39m\u001b[38;5;124m\"\u001b[39m, X\u001b[38;5;241m=\u001b[39mX_inner, fh\u001b[38;5;241m=\u001b[39mfh)\n",
      "File \u001b[1;32m~\\anaconda3\\lib\\site-packages\\sktime\\forecasting\\base\\adapters\\_pmdarima.py:108\u001b[0m, in \u001b[0;36m_PmdArimaAdapter._predict\u001b[1;34m(self, fh, X)\u001b[0m\n\u001b[0;32m    106\u001b[0m \u001b[38;5;66;03m# all values are out-of-sample\u001b[39;00m\n\u001b[0;32m    107\u001b[0m \u001b[38;5;28;01mif\u001b[39;00m fh\u001b[38;5;241m.\u001b[39mis_all_out_of_sample(\u001b[38;5;28mself\u001b[39m\u001b[38;5;241m.\u001b[39mcutoff):\n\u001b[1;32m--> 108\u001b[0m     y_pred \u001b[38;5;241m=\u001b[39m \u001b[38;5;28;43mself\u001b[39;49m\u001b[38;5;241;43m.\u001b[39;49m\u001b[43m_predict_fixed_cutoff\u001b[49m\u001b[43m(\u001b[49m\u001b[43mfh_oos\u001b[49m\u001b[43m,\u001b[49m\u001b[43m \u001b[49m\u001b[43mX\u001b[49m\u001b[38;5;241;43m=\u001b[39;49m\u001b[43mX\u001b[49m\u001b[43m)\u001b[49m\n\u001b[0;32m    110\u001b[0m \u001b[38;5;66;03m# all values are in-sample\u001b[39;00m\n\u001b[0;32m    111\u001b[0m \u001b[38;5;28;01melif\u001b[39;00m fh\u001b[38;5;241m.\u001b[39mis_all_in_sample(\u001b[38;5;28mself\u001b[39m\u001b[38;5;241m.\u001b[39mcutoff):\n",
      "File \u001b[1;32m~\\anaconda3\\lib\\site-packages\\sktime\\forecasting\\base\\adapters\\_pmdarima.py:218\u001b[0m, in \u001b[0;36m_PmdArimaAdapter._predict_fixed_cutoff\u001b[1;34m(self, fh, X, return_pred_int, alpha)\u001b[0m\n\u001b[0;32m    203\u001b[0m \u001b[38;5;250m\u001b[39m\u001b[38;5;124;03m\"\"\"Make predictions out of sample.\u001b[39;00m\n\u001b[0;32m    204\u001b[0m \n\u001b[0;32m    205\u001b[0m \u001b[38;5;124;03mParameters\u001b[39;00m\n\u001b[1;32m   (...)\u001b[0m\n\u001b[0;32m    215\u001b[0m \u001b[38;5;124;03mReturns series of predicted values.\u001b[39;00m\n\u001b[0;32m    216\u001b[0m \u001b[38;5;124;03m\"\"\"\u001b[39;00m\n\u001b[0;32m    217\u001b[0m n_periods \u001b[38;5;241m=\u001b[39m \u001b[38;5;28mint\u001b[39m(fh\u001b[38;5;241m.\u001b[39mto_relative(\u001b[38;5;28mself\u001b[39m\u001b[38;5;241m.\u001b[39mcutoff)[\u001b[38;5;241m-\u001b[39m\u001b[38;5;241m1\u001b[39m])\n\u001b[1;32m--> 218\u001b[0m result \u001b[38;5;241m=\u001b[39m \u001b[38;5;28;43mself\u001b[39;49m\u001b[38;5;241;43m.\u001b[39;49m\u001b[43m_forecaster\u001b[49m\u001b[38;5;241;43m.\u001b[39;49m\u001b[43mpredict\u001b[49m\u001b[43m(\u001b[49m\n\u001b[0;32m    219\u001b[0m \u001b[43m    \u001b[49m\u001b[43mn_periods\u001b[49m\u001b[38;5;241;43m=\u001b[39;49m\u001b[43mn_periods\u001b[49m\u001b[43m,\u001b[49m\n\u001b[0;32m    220\u001b[0m \u001b[43m    \u001b[49m\u001b[43mX\u001b[49m\u001b[38;5;241;43m=\u001b[39;49m\u001b[43mX\u001b[49m\u001b[43m,\u001b[49m\n\u001b[0;32m    221\u001b[0m \u001b[43m    \u001b[49m\u001b[43mreturn_conf_int\u001b[49m\u001b[38;5;241;43m=\u001b[39;49m\u001b[38;5;28;43;01mFalse\u001b[39;49;00m\u001b[43m,\u001b[49m\n\u001b[0;32m    222\u001b[0m \u001b[43m    \u001b[49m\u001b[43malpha\u001b[49m\u001b[38;5;241;43m=\u001b[39;49m\u001b[43mDEFAULT_ALPHA\u001b[49m\u001b[43m,\u001b[49m\n\u001b[0;32m    223\u001b[0m \u001b[43m\u001b[49m\u001b[43m)\u001b[49m\n\u001b[0;32m    225\u001b[0m fh_abs \u001b[38;5;241m=\u001b[39m fh\u001b[38;5;241m.\u001b[39mto_absolute(\u001b[38;5;28mself\u001b[39m\u001b[38;5;241m.\u001b[39mcutoff)\n\u001b[0;32m    226\u001b[0m fh_idx \u001b[38;5;241m=\u001b[39m fh\u001b[38;5;241m.\u001b[39mto_indexer(\u001b[38;5;28mself\u001b[39m\u001b[38;5;241m.\u001b[39mcutoff)\n",
      "File \u001b[1;32m~\\anaconda3\\lib\\site-packages\\pmdarima\\arima\\arima.py:787\u001b[0m, in \u001b[0;36mARIMA.predict\u001b[1;34m(self, n_periods, X, return_conf_int, alpha, **kwargs)\u001b[0m\n\u001b[0;32m    785\u001b[0m X \u001b[38;5;241m=\u001b[39m \u001b[38;5;28mself\u001b[39m\u001b[38;5;241m.\u001b[39m_check_exog(X)  \u001b[38;5;66;03m# type: np.ndarray\u001b[39;00m\n\u001b[0;32m    786\u001b[0m \u001b[38;5;28;01mif\u001b[39;00m X \u001b[38;5;129;01mis\u001b[39;00m \u001b[38;5;129;01mnot\u001b[39;00m \u001b[38;5;28;01mNone\u001b[39;00m \u001b[38;5;129;01mand\u001b[39;00m X\u001b[38;5;241m.\u001b[39mshape[\u001b[38;5;241m0\u001b[39m] \u001b[38;5;241m!=\u001b[39m n_periods:\n\u001b[1;32m--> 787\u001b[0m     \u001b[38;5;28;01mraise\u001b[39;00m \u001b[38;5;167;01mValueError\u001b[39;00m(\n\u001b[0;32m    788\u001b[0m         \u001b[38;5;124mf\u001b[39m\u001b[38;5;124m'\u001b[39m\u001b[38;5;124mX array dims (n_rows) != n_periods. Received \u001b[39m\u001b[38;5;124m'\u001b[39m\n\u001b[0;32m    789\u001b[0m         \u001b[38;5;124mf\u001b[39m\u001b[38;5;124m'\u001b[39m\u001b[38;5;124mn_rows=\u001b[39m\u001b[38;5;132;01m{\u001b[39;00mX\u001b[38;5;241m.\u001b[39mshape[\u001b[38;5;241m0\u001b[39m]\u001b[38;5;132;01m}\u001b[39;00m\u001b[38;5;124m and n_periods=\u001b[39m\u001b[38;5;132;01m{\u001b[39;00mn_periods\u001b[38;5;132;01m}\u001b[39;00m\u001b[38;5;124m'\u001b[39m\n\u001b[0;32m    790\u001b[0m     )\n\u001b[0;32m    792\u001b[0m \u001b[38;5;66;03m# f = self.arima_res_.forecast(steps=n_periods, exog=X)\u001b[39;00m\n\u001b[0;32m    793\u001b[0m arima \u001b[38;5;241m=\u001b[39m \u001b[38;5;28mself\u001b[39m\u001b[38;5;241m.\u001b[39marima_res_\n",
      "\u001b[1;31mValueError\u001b[0m: X array dims (n_rows) != n_periods. Received n_rows=1 and n_periods=12"
     ]
    }
   ],
   "source": [
    "future_predictions = predict_model(tuned_model, fh=12)  # Forecast horizon (fh) of 12 periods\n"
   ]
  },
  {
   "cell_type": "code",
   "execution_count": null,
   "metadata": {},
   "outputs": [],
   "source": []
  }
 ],
 "metadata": {
  "colab": {
   "authorship_tag": "ABX9TyMuNAlU1UCZPvroacVjIXF+",
   "include_colab_link": true,
   "provenance": []
  },
  "kernelspec": {
   "display_name": "Python 3 (ipykernel)",
   "language": "python",
   "name": "python3"
  },
  "language_info": {
   "codemirror_mode": {
    "name": "ipython",
    "version": 3
   },
   "file_extension": ".py",
   "mimetype": "text/x-python",
   "name": "python",
   "nbconvert_exporter": "python",
   "pygments_lexer": "ipython3",
   "version": "3.10.9"
  }
 },
 "nbformat": 4,
 "nbformat_minor": 4
}
